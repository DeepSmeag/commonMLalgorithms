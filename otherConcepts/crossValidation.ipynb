{
 "cells": [
  {
   "cell_type": "markdown",
   "metadata": {},
   "source": [
    "# Cross-Validation\n",
    "\n",
    "#### This term is important. What it means:\n",
    "\n",
    "Cross-validation is a technique for evaluating machine learning models. It is used to estimate the skill of a machine learning model on unseen data. It does this by splitting the dataset into k parts. The model is trained on k-1 parts and evaluated on the remaining part. This process is repeated k times. The k results are then averaged to produce a single estimation.\n",
    "\n",
    "Cross-validation is a good way to evaluate a model. It is more reliable than using a train/test split. It is more reliable because all observations are used for both training and testing. This prevents overfitting.  \n",
    "\n",
    "Whereas in a traditional train/test split you would rely on that testing subset of the data to represent an accurate overall score of the model, in this scenario we don't leave it up to chance and make sure to test as many scenarios as possible. Then we average things out to get a more accurate representation of the model's performance."
   ]
  }
 ],
 "metadata": {
  "kernelspec": {
   "display_name": "Python 3.9.13 ('commonMLalgs')",
   "language": "python",
   "name": "python3"
  },
  "language_info": {
   "name": "python",
   "version": "3.9.13"
  },
  "orig_nbformat": 4,
  "vscode": {
   "interpreter": {
    "hash": "500cef33aa921c87c63c1753d003ac956bc931603b9c07a450ae237ef80e36a0"
   }
  }
 },
 "nbformat": 4,
 "nbformat_minor": 2
}
