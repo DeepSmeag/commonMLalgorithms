{
 "cells": [
  {
   "cell_type": "markdown",
   "metadata": {},
   "source": [
    "# Let's get to work\n",
    "\n",
    "Here we're implementing linear regression.\n",
    "Let's first discuss how it works.\n",
    "\n",
    "# Linear Regression\n",
    "\n",
    "Linear regression is a supervised learning algorithm, which means that we have a set of data points $(x_i, y_i)$, where $x_i$ is the input and $y_i$ is the output. We have a set of such data points, and we want to learn a function $f(x)$ which approximates $y_i$ as well as possible, for any $x$.\n",
    "\n",
    "To do this, we start with a hypothesis function, which is a function of the form $h(x) = ax + b$, where $a$ and $b$ are parameters of the function. We want to find the values of $a$ and $b$ which give us the best approximation of $y_i$.\n",
    "\n",
    "To do this, we define an error function, which is the sum of the squares of the differences between the actual output $y_i$ and the output of the hypothesis function $h(x)$. The error function is $E(a, b) = \\sum_{i=1}^n (y_i - h(x_i))^2$.\n",
    "\n",
    "We want to find the values of $a$ and $b$ which minimize this error function. To do this, we take the partial derivatives of the error function with respect to $a$ and $b$, and set them to zero. This gives us the following equations:\n",
    "$$\n",
    "\\frac{\\partial E}{\\partial a} = -2\\sum_{i=1}^n (y_i - h(x_i))x_i = 0\n",
    "$$\n",
    "$$\n",
    "\\frac{\\partial E}{\\partial b} = -2\\sum_{i=1}^n (y_i - h(x_i)) = 0\n",
    "$$\n",
    "\n",
    "Solving these equations gives us the following:\n",
    "$$\n",
    "a = \\frac{\\sum_{i=1}^n x_iy_i - \\frac{1}{n}\\sum_{i=1}^n x_i\\sum_{i=1}^n y_i}{\\sum_{i=1}^n x_i^2 - \\frac{1}{n}\\left(\\sum_{i=1}^n x_i\\right)^2}\n",
    "$$\n",
    "$$\n",
    "b = \\frac{1}{n}\\sum_{i=1}^n y_i - a\\frac{1}{n}\\sum_{i=1}^n x_i\n",
    "$$\n",
    "\n",
    "We can now use these values of $a$ and $b$ to get our hypothesis function, and use it to approximate the output for any input $x$.\n",
    "\n",
    "We call this solution the closed form solution, because we can find the values of $a$ and $b$ without having to iterate over the data points.\n"
   ]
  },
  {
   "cell_type": "markdown",
   "metadata": {},
   "source": [
    "# Implementation - closed form"
   ]
  },
  {
   "cell_type": "code",
   "execution_count": 1,
   "metadata": {},
   "outputs": [],
   "source": [
    "# We have a dataset of 2D points, and we want to fit a line to it.\n",
    "# We will use the normal equation formulas to find the line that minimizes the squared error.\n",
    "\n",
    "# First, importing the libraries we need\n",
    "import numpy as np\n",
    "import matplotlib.pyplot as plt\n"
   ]
  },
  {
   "cell_type": "code",
   "execution_count": 36,
   "metadata": {},
   "outputs": [],
   "source": [
    "# We will use the following function to plot the data and the line\n",
    "def plotDataAndLine(X, y, theta):\n",
    "    plt.plot(X, y, 'ro', markersize=2)\n",
    "    plt.plot(X, np.dot(np.column_stack((np.ones((X.shape[0], 1)), X)), theta), '-')\n",
    "    plt.show()\n",
    "\n"
   ]
  },
  {
   "cell_type": "code",
   "execution_count": 24,
   "metadata": {},
   "outputs": [],
   "source": [
    "# Using a function to generate the data\n",
    "def generateData(numPoints):\n",
    "    X = np.array([i for i in range(numPoints)])\n",
    "    y = np.linspace(0, 100, num=numPoints) + np.random.normal(0, 10, numPoints)\n",
    "    return X, y\n"
   ]
  },
  {
   "cell_type": "code",
   "execution_count": 46,
   "metadata": {},
   "outputs": [],
   "source": [
    "# Function to calculate closed form of theta\n",
    "def normalEq(X,y):\n",
    "    a = (np.sum(np.multiply(X,y)) - (np.sum(X) * np.sum(y)) / X.size) / (np.sum(np.multiply(X,X)) - np.sum(X)**2 / X.size)\n",
    "    b = np.sum(y) / y.size - a * np.sum(X) / X.size\n",
    "    return np.array([a,b])"
   ]
  },
  {
   "cell_type": "code",
   "execution_count": 54,
   "metadata": {},
   "outputs": [
    {
     "name": "stdout",
     "output_type": "stream",
     "text": [
      "[ 1.0086195  -1.19780138]\n"
     ]
    },
    {
     "data": {
      "image/png": "[encoded data removed]",
      "text/plain": [
       "<Figure size 640x480 with 1 Axes>"
      ]
     },
     "metadata": {},
     "output_type": "display_data"
    }
   ],
   "source": [
    "# Getting the data and plotting it\n",
    "X, y = generateData(100)\n",
    "theta = normalEq(X,y)\n",
    "print(theta)\n",
    "plotDataAndLine(X,y,theta)"
   ]
  }
 ],
 "metadata": {
  "kernelspec": {
   "display_name": "Python 3.9.13 ('commonMLalgs')",
   "language": "python",
   "name": "python3"
  },
  "language_info": {
   "codemirror_mode": {
    "name": "ipython",
    "version": 3
   },
   "file_extension": ".py",
   "mimetype": "text/x-python",
   "name": "python",
   "nbconvert_exporter": "python",
   "pygments_lexer": "ipython3",
   "version": "3.9.13"
  },
  "orig_nbformat": 4,
  "vscode": {
   "interpreter": {
    "hash": "500cef33aa921c87c63c1753d003ac956bc931603b9c07a450ae237ef80e36a0"
   }
  }
 },
 "nbformat": 4,
 "nbformat_minor": 2
}
