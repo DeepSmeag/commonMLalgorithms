{
 "cells": [
  {
   "cell_type": "markdown",
   "metadata": {},
   "source": [
    "# kNN\n",
    "\n",
    "One of the most straight-forward algorithms, it's also what makes it so powerful. It's a supervised learning algorithm that can be used for both classification and regression. It's a lazy algorithm, meaning it doesn't learn a discriminative function from the training data but memorizes the training dataset instead. It's also a non-parametric algorithm, meaning it doesn't make any assumptions on the underlying data distribution.  \n",
    "\n",
    "Here is what you have to remember: it doesn't need training; it just needs to store the training data.  \n",
    "\n",
    "How it works:\n",
    "- Given a new data point, it finds the k closest data points in the training set\n",
    "- It then assigns the label by majority vote (for classification) or by taking the average (for regression)  \n",
    "\n",
    "The k in kNN is a hyperparameter that we have to choose. It's usually an odd number to avoid ties.  \n",
    "That's it!"
   ]
  },
  {
   "cell_type": "code",
   "execution_count": null,
   "metadata": {},
   "outputs": [],
   "source": []
  }
 ],
 "metadata": {
  "language_info": {
   "name": "python"
  },
  "orig_nbformat": 4
 },
 "nbformat": 4,
 "nbformat_minor": 2
}
