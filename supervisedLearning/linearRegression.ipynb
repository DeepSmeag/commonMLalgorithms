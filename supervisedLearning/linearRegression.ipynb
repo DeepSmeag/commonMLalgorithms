{
 "cells": [
  {
   "cell_type": "markdown",
   "metadata": {},
   "source": [
    "# Let's get to work\n",
    "\n",
    "Here we're implementing linear regression.\n",
    "Let's first discuss how it works.\n",
    "\n",
    "# Linear Regression\n",
    "\n",
    "Linear regression is a supervised learning algorithm, which means that we have a set of data points $(x_i, y_i)$, where $x_i$ is the input and $y_i$ is the output. We have a set of such data points, and we want to learn a function $f(x)$ which approximates $y_i$ as well as possible, for any $x$.\n",
    "\n",
    "To do this, we start with a hypothesis function, which is a function of the form $h(x) = ax + b$, where $a$ and $b$ are parameters of the function. We want to find the values of $a$ and $b$ which give us the best approximation of $y_i$.\n",
    "\n",
    "To do this, we define an error function, which is the sum of the squares of the differences between the actual output $y_i$ and the output of the hypothesis function $h(x)$. The error function is $E(a, b) = \\sum_{i=1}^n (y_i - h(x_i))^2$.\n",
    "\n",
    "We want to find the values of $a$ and $b$ which minimize this error function. To do this, we take the partial derivatives of the error function with respect to $a$ and $b$, and set them to zero. This gives us the following equations:\n",
    "$$\n",
    "\\frac{\\partial E}{\\partial a} = -2\\sum_{i=1}^n (y_i - h(x_i))x_i = 0\n",
    "$$\n",
    "$$\n",
    "\\frac{\\partial E}{\\partial b} = -2\\sum_{i=1}^n (y_i - h(x_i)) = 0\n",
    "$$\n",
    "\n",
    "Solving these equations gives us the following:\n",
    "$$\n",
    "a = \\frac{\\sum_{i=1}^n x_iy_i - \\frac{1}{n}\\sum_{i=1}^n x_i\\sum_{i=1}^n y_i}{\\sum_{i=1}^n x_i^2 - \\frac{1}{n}\\left(\\sum_{i=1}^n x_i\\right)^2}\n",
    "$$\n",
    "$$\n",
    "b = \\frac{1}{n}\\sum_{i=1}^n y_i - a\\frac{1}{n}\\sum_{i=1}^n x_i\n",
    "$$\n",
    "\n",
    "We can now use these values of $a$ and $b$ to get our hypothesis function, and use it to approximate the output for any input $x$.\n",
    "\n",
    "We call this solution the closed form solution, because we can find the values of $a$ and $b$ without having to iterate over the data points.\n",
    "\n",
    "**This solution is only valid for linear regression in 2D**, because we can only find the values of $a$ and $b$ by solving a system of two equations with two unknowns. For linear regression in higher dimensions, we need to use a different method.  \n",
    "\n",
    "That is why we will now present a different method, using vectors (and matrices):\n",
    "\n",
    "\n",
    "#### Normal equation using linear algebra\n",
    "\n",
    "Let's start by defining the following matrices and vectors:\n",
    "\n",
    "$$\n",
    "X = \\begin{bmatrix}\n",
    "x_0^1 & x_1^1 & \\ldots & x_n^1 \\\\\n",
    "x_0^2 & x_1^2 & \\ldots & x_n^2 \\\\\n",
    "x_0^3 & x_1^3 & \\ldots & x_n^3 \\\\\n",
    "\\vdots & \\vdots & \\vdots & \\vdots\\\\\n",
    "x_0^n & x_1^n & \\ldots & x_n^n\n",
    "\\end{bmatrix}\n",
    "$$\n",
    "\n",
    "*Note that the first row of $X$ is all ones, because we want to include the bias term in our hypothesis function.*\n",
    "\n",
    "$$\n",
    "Y = \\begin{bmatrix}\n",
    "y_1 \\\\\n",
    "y_2 \\\\\n",
    "\\vdots \\\\\n",
    "y_n\n",
    "\\end{bmatrix}\n",
    "$$\n",
    "$$\n",
    "\\theta = \\begin{bmatrix}\n",
    "\\theta_0 \\\\\n",
    "\\theta_1 \\\\\n",
    "\\vdots \\\\\n",
    "\\theta_n\n",
    "\\end{bmatrix}\n",
    "$$\n",
    "\n",
    "We can now write the error function as a matrix multiplication:\n",
    "$$\n",
    "E(\\theta) = \\frac{1}{2}(X\\theta - Y)^T(X\\theta - Y)\n",
    "$$\n",
    "\n",
    "We want to find the value of $\\theta$ which minimizes this error function. We can do this by taking the derivative of the error function with respect to $\\theta$ and setting it to zero:\n",
    "$$\n",
    "\\frac{\\partial E}{\\partial \\theta} = X^T(X\\theta - Y) = 0\n",
    "$$\n",
    "There are multiple steps here, but we will skip them since we're not focusing on the mathematical demonstration right now.  \n",
    "\n",
    "Solving this equation gives us the following:\n",
    "$$\n",
    "\\theta = (X^TX)^{-1}X^TY\n",
    "$$\n",
    "\n",
    "We can now use this value of $\\theta$ to get our hypothesis function, and use it to approximate the output for any input $x$.\n",
    "\n",
    "This is the normal equation, and it is a method of solving linear regression using linear algebra. It is a very useful method, because it is easy to implement and it works for any number of dimensions.\n"
   ]
  },
  {
   "cell_type": "markdown",
   "metadata": {},
   "source": [
    "# Implementation - closed form"
   ]
  },
  {
   "cell_type": "code",
   "execution_count": 2,
   "metadata": {},
   "outputs": [],
   "source": [
    "# We have a dataset of 2D points, and we want to fit a line to it.\n",
    "# We will use the normal equation formulas to find the line that minimizes the squared error.\n",
    "\n",
    "# First, importing the libraries we need\n",
    "import numpy as np\n",
    "import matplotlib.pyplot as plt\n"
   ]
  },
  {
   "cell_type": "code",
   "execution_count": 175,
   "metadata": {},
   "outputs": [],
   "source": [
    "# We will use the following function to plot the data and the line\n",
    "def plotDataAndLine(X, y, theta):\n",
    "    plt.plot(X, y, 'ro', markersize=2)\n",
    "    plt.plot(X, np.multiply(np.array([X,np.ones(X.size)]).T, theta), '-')\n",
    "    plt.show()\n",
    "\n"
   ]
  },
  {
   "cell_type": "code",
   "execution_count": 154,
   "metadata": {},
   "outputs": [],
   "source": [
    "# Using a function to generate the data\n",
    "def generateData(numPoints):\n",
    "    X = np.array([i for i in range(numPoints)])\n",
    "    y = np.linspace(0, 100, num=numPoints) + np.random.normal(0, 10, numPoints)\n",
    "    return X, y\n"
   ]
  },
  {
   "cell_type": "code",
   "execution_count": 155,
   "metadata": {},
   "outputs": [],
   "source": [
    "# Function to calculate closed form of theta\n",
    "def normalEq(X,y):\n",
    "    n = X.size\n",
    "    sumxy = np.dot(X,y)\n",
    "    sumx = np.sum(X)\n",
    "    sumy = np.sum(y)\n",
    "    sumxsq = (np.sum(X))**2\n",
    "    sumxx = np.dot(X,X.T)\n",
    "    a = (sumxy - 1 / n * sumx * sumy) / (sumxx - 1 / n * sumxsq)\n",
    "    b = (sumy - a * sumx) / n\n",
    "    return np.array([a,b])"
   ]
  },
  {
   "cell_type": "code",
   "execution_count": 177,
   "metadata": {},
   "outputs": [
    {
     "data": {
      "image/png": "[encoded data removed]",
      "text/plain": [
       "<Figure size 640x480 with 1 Axes>"
      ]
     },
     "metadata": {},
     "output_type": "display_data"
    }
   ],
   "source": [
    "# Getting the data and plotting it\n",
    "X, y = generateData(100)\n",
    "theta = normalEq(X,y)\n",
    "plotDataAndLine(X,y,theta)"
   ]
  },
  {
   "cell_type": "markdown",
   "metadata": {},
   "source": [
    "# Implementation - vectorized"
   ]
  },
  {
   "cell_type": "code",
   "execution_count": 223,
   "metadata": {},
   "outputs": [],
   "source": [
    "# And here is an implementation of the vectorized version\n",
    "def generateData(numPoints:int):\n",
    "    # we now generate X as a matrix with the bias incorporated\n",
    "    bias = np.ones(numPoints)\n",
    "    X = np.array([i for i in range(numPoints)])\n",
    "    X = np.column_stack([X,bias])\n",
    "    y = np.linspace(0, 100, num=numPoints) + np.random.normal(0, 10, numPoints)\n",
    "    return X,y\n",
    "\n",
    "def plotData(X,y):\n",
    "    plt.plot(X[:,0], y, 'ro', markersize=2)\n",
    "def plotLine(X,theta):\n",
    "    plt.plot(X, np.multiply(X,theta), '-')\n",
    "def plotShow():\n",
    "    plt.show()\n",
    "    "
   ]
  },
  {
   "cell_type": "code",
   "execution_count": 217,
   "metadata": {},
   "outputs": [],
   "source": [
    "# And now computing theta\n",
    "def findTheta(X,y):\n",
    "    xTxInv = np.linalg.inv(np.matmul(X.T,X))\n",
    "    xTy = np.matmul(X.T,y)\n",
    "    theta = np.matmul(xTxInv,xTy)\n",
    "    return theta"
   ]
  },
  {
   "cell_type": "code",
   "execution_count": 224,
   "metadata": {},
   "outputs": [
    {
     "data": {
      "image/png": "[encoded data removed]",
      "text/plain": [
       "<Figure size 640x480 with 1 Axes>"
      ]
     },
     "metadata": {},
     "output_type": "display_data"
    }
   ],
   "source": [
    "# And putting it all together\n",
    "X,y = generateData(100)\n",
    "plotData(X,y)\n",
    "theta = findTheta(X,y)\n",
    "plotLine(X, theta)\n",
    "plotShow()\n"
   ]
  },
  {
   "cell_type": "markdown",
   "metadata": {},
   "source": [
    "As you can see, the vectorized version is much easiser to implement, and it is also much faster. This is because we are using numpy's built-in functions, which are written in C, and are therefore much faster than our own implementations.\n",
    "\n",
    "Next up: one more implementation, using gradient descent.\n",
    "\n",
    "# Gradient Descent\n",
    "\n",
    "Gradient descent is a method of finding the minimum of a function. It is an iterative method, which means that we start with an initial guess, and then we improve this guess over time.\n",
    "What makes it possible: the idea that we can slowly change our weights (parameters) in a certain direction, so that we eventually reach a minimum (be it local or global).\n",
    "What direction?\n",
    "Calculus tells us that the direction of the steepest descent is the direction of the negative gradient. So we can use the negative gradient as a \"steering wheel\" to slowly change our parameters in the right direction.\n",
    "So how do we find the negative gradient?\n",
    "We can use the chain rule to find the derivative of the error function with respect to each parameter. This gives us the gradient of the error function.\n",
    "We can then use this gradient to update our parameters, and repeat this process until we reach a minimum.\n",
    "\n",
    "The math is simpler than before (although the algorithm is slower this way), and we have a guarantee of it working in a lot more scenarios (even with more complicated models, like the polynomial regression model we will see later).\n",
    "\n",
    "#### Gradient descent using calculus\n",
    "Remember our closed form formulas from before? We can use them to find the gradient of the error function:\n",
    "$$\n",
    "\\frac{\\partial E}{\\partial a} = -2 (y_i - h(x_i))x_i\n",
    "$$\n",
    "$$\n",
    "\\frac{\\partial E}{\\partial b} = -2 (y_i - h(x_i))\n",
    "$$\n",
    "What changed? Well, instead of summing over all the errors to get the general cost function, we now care about the error each training instance provides. For each of those instances, we have 2 options:\n",
    "- use it to update the weights (parameters) immediately\n",
    "- use it to update the weights (parameters) after we have gone through all the training instances and averaged the results (slower, but more accurate; or rather less biased)  \n",
    "\n",
    "**We also initially randomly pick our parameters (since we then update them over time). This is called the initialization step.** \n",
    "\n",
    "When we choose to calculate the gradient for each training instance, we call this method **stochastic gradient descent**. When we choose to calculate the gradient for all the training instances, we call this method **batch gradient descent**.  \n",
    "\n",
    "We're going with the stochastic method for now, because it is faster and easier to implement. It's not that different to switch to the batch method, it's just slower and more computationally expensive. We're trading lower overfitting for faster training. The bias vs overfitting tradeoff is a common one in machine learning. We'll talk about it in another notebook."
   ]
  },
  {
   "cell_type": "code",
   "execution_count": null,
   "metadata": {},
   "outputs": [],
   "source": []
  }
 ],
 "metadata": {
  "kernelspec": {
   "display_name": "Python 3.9.13 ('commonMLalgs')",
   "language": "python",
   "name": "python3"
  },
  "language_info": {
   "codemirror_mode": {
    "name": "ipython",
    "version": 3
   },
   "file_extension": ".py",
   "mimetype": "text/x-python",
   "name": "python",
   "nbconvert_exporter": "python",
   "pygments_lexer": "ipython3",
   "version": "3.9.13"
  },
  "orig_nbformat": 4,
  "vscode": {
   "interpreter": {
    "hash": "500cef33aa921c87c63c1753d003ac956bc931603b9c07a450ae237ef80e36a0"
   }
  }
 },
 "nbformat": 4,
 "nbformat_minor": 2
}
