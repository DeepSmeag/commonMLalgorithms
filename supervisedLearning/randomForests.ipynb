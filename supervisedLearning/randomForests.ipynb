{
 "cells": [
  {
   "attachments": {},
   "cell_type": "markdown",
   "metadata": {},
   "source": [
    "# Random Forests\n",
    "\n",
    "### Introduction\n",
    "As we've mentioned in the previous chapter (see [decision trees](decisionTrees.ipynb)), decision trees are often used, but not as the single, final, best method. You are far more likely to encounter the concept of decision trees in the context of **random forests**. Moreover, other techniques you *will* see being used together with DT and RF are *boosting* and *bagging*.  \n",
    "In a more general sense, these are all **ensemble methods**. Ensemble methods are methods that combine the predictions of several base estimators (say, some decision trees) in order to improve generalizability / robustness over a single estimator. We will talk about these methods in more detail in the next chapter. Random Forests themselves are a type of ensemble method, and we will talk about them in this chapter.  \n",
    "\n",
    "## What is a random forest?\n"
   ]
  },
  {
   "cell_type": "code",
   "execution_count": null,
   "metadata": {},
   "outputs": [],
   "source": []
  },
  {
   "attachments": {},
   "cell_type": "markdown",
   "metadata": {},
   "source": [
    "Next chapter: [Ensemble Methods](ensembleMethods.ipynb)"
   ]
  }
 ],
 "metadata": {
  "kernelspec": {
   "display_name": "Python 3",
   "language": "python",
   "name": "python3"
  },
  "language_info": {
   "name": "python",
   "version": "3.8.10 (default, Mar 15 2022, 12:22:08) \n[GCC 9.4.0]"
  },
  "orig_nbformat": 4,
  "vscode": {
   "interpreter": {
    "hash": "916dbcbb3f70747c44a77c7bcd40155683ae19c65e1c03b4aa3499c5328201f1"
   }
  }
 },
 "nbformat": 4,
 "nbformat_minor": 2
}
