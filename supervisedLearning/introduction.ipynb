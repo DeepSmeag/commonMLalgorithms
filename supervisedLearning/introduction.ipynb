{
 "cells": [
  {
   "cell_type": "markdown",
   "metadata": {},
   "source": [
    "### Keep in mind I'm using notebooks to alternate between implementations and explanations / images where possible.\n",
    "\n",
    "Libraries we'll be using:\n",
    "- Numpy\n",
    "- Scipy\n",
    "- Matplotlib\n",
    "- Scikit-Learn\n",
    "\n",
    "If you have these, I'd say the basics are covered. I'll update if necessary.\n"
   ]
  },
  {
   "cell_type": "markdown",
   "metadata": {},
   "source": [
    "## Supervised Learning\n",
    "\n",
    "This is an important one. Algorithms that fall within this class are the vast majority of everything that is in use today.\n",
    "\n",
    "### What is it?\n",
    "\n",
    "Let's split the name:\n",
    "- Supervised - something that is observed/overseen during its actions\n",
    "- Learning - the act or process of acquiring knowledge or skill  \n",
    "\n",
    "We know why we're here, so we know what the \"Learning\" part is. But what about the \"Supervised\" part?  \n",
    "Here is what I want you to know:\n",
    "### We know the output.\n",
    "\n"
   ]
  }
 ],
 "metadata": {
  "kernelspec": {
   "display_name": "Python 3.9.13 ('commonMLalgs')",
   "language": "python",
   "name": "python3"
  },
  "language_info": {
   "name": "python",
   "version": "3.9.13"
  },
  "orig_nbformat": 4,
  "vscode": {
   "interpreter": {
    "hash": "500cef33aa921c87c63c1753d003ac956bc931603b9c07a450ae237ef80e36a0"
   }
  }
 },
 "nbformat": 4,
 "nbformat_minor": 2
}
