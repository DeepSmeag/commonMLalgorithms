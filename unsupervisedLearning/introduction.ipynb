{
 "cells": [
  {
   "attachments": {},
   "cell_type": "markdown",
   "metadata": {},
   "source": [
    "# Unsupervised Learning\n",
    "\n",
    "It's easier to explain the concept through comparison with Supervised Learning. As we've seen before, supervised techniques \"know\" the answer. We use mathematics to map functions to those answers.  \n",
    "\n",
    "In Unsupervised Learning, we don't know the answer. We only know the input. We have information, we have the features of the data, but we don't have the solution to the classification or regression problem.  \n",
    "\n",
    "As such, we cannot apply any of the previously discussed techniques. We have no *loss function* to minimize. The only thing we can do is to analyze the data and try to find some structure in it.  \n",
    "\n",
    "As such, the main things we can do are to cluster the data, or to reduce the dimensionality of the data. We'll discuss these in detail in the following sections."
   ]
  },
  {
   "attachments": {},
   "cell_type": "markdown",
   "metadata": {},
   "source": [
    "# Next\n",
    "\n",
    "[Clustering via kMeans](kMeans.ipynb)"
   ]
  }
 ],
 "metadata": {
  "kernelspec": {
   "display_name": "Python 3",
   "language": "python",
   "name": "python3"
  },
  "language_info": {
   "name": "python",
   "version": "3.8.10 (default, Mar 15 2022, 12:22:08) \n[GCC 9.4.0]"
  },
  "orig_nbformat": 4,
  "vscode": {
   "interpreter": {
    "hash": "916dbcbb3f70747c44a77c7bcd40155683ae19c65e1c03b4aa3499c5328201f1"
   }
  }
 },
 "nbformat": 4,
 "nbformat_minor": 2
}
