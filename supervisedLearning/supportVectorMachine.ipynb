{
 "cells": [
  {
   "cell_type": "markdown",
   "metadata": {},
   "source": [
    "# Support Vector Machine\n",
    "\n",
    "This algorithm is based on a simple concept, but the math behind it is convoluted. Let's start at the ground level:  \n",
    "*An SVM algorithm is supposed to find separation between 2 classes so that the distance between this separator and the nearest data points of both classes is maximized.* Remember our binary classification examples from before. We had a line that separated the two classes. Remember that this line was guessed at first. The SVM algorithm would have chosen the line that sat right in the middle of those 2 classes, thus leaving the most amount of space between them. This is the concept of SVM.  \n",
    "We call the separator a **hyperplane**. This is because we can work with as many dimensions (features) as we want. The term is just a substitute for the word \"plane\" in higher dimensions.  \n",
    "The hyperplane can be a linear separator. In practice, we also find situations where linear separators don't work. We have solutions for those cases as well, but we will discuss them later.  \n",
    "\n",
    "Let's take a step back. SVM is a supervised algorithm used for classification. The goal is to leave the maximum amount of space between the separator and those 2 classes. To achieve this, a lot of math is involved. I would like to propose a more naive approach to this problem, since the math itself can be found in other sources, but generally people rely on frameworks to do the heavy lifting for them anyway."
   ]
  },
  {
   "cell_type": "code",
   "execution_count": 162,
   "metadata": {},
   "outputs": [],
   "source": [
    "# Import the basic libraries\n",
    "import numpy as np\n",
    "import matplotlib.pyplot as plt\n",
    "# Import scikit stuff + blobs\n",
    "from sklearn import svm\n",
    "from sklearn.datasets import make_blobs\n"
   ]
  },
  {
   "cell_type": "markdown",
   "metadata": {},
   "source": [
    "A better appproach to understanding the SVM concept is to see it in action as part of a library"
   ]
  },
  {
   "cell_type": "code",
   "execution_count": 163,
   "metadata": {},
   "outputs": [],
   "source": [
    "# Make 2 blobs of data\n",
    "X, y = make_blobs(n_samples=50, centers=2, random_state=0, cluster_std=0.60)"
   ]
  },
  {
   "cell_type": "code",
   "execution_count": 164,
   "metadata": {},
   "outputs": [
    {
     "data": {
      "text/plain": [
       "<matplotlib.collections.PathCollection at 0x7f25923985e0>"
      ]
     },
     "execution_count": 164,
     "metadata": {},
     "output_type": "execute_result"
    },
    {
     "data": {
      "image/png": "[encoded data removed]",
      "text/plain": [
       "<Figure size 640x480 with 1 Axes>"
      ]
     },
     "metadata": {},
     "output_type": "display_data"
    }
   ],
   "source": [
    "# Plot the data\n",
    "plt.scatter(X[:, 0], X[:, 1], c=y, s=50, cmap='autumn')"
   ]
  },
  {
   "cell_type": "code",
   "execution_count": 165,
   "metadata": {},
   "outputs": [
    {
     "data": {
      "text/html": [
       "<style>#sk-container-id-13 {color: black;background-color: white;}#sk-container-id-13 pre{padding: 0;}#sk-container-id-13 div.sk-toggleable {background-color: white;}#sk-container-id-13 label.sk-toggleable__label {cursor: pointer;display: block;width: 100%;margin-bottom: 0;padding: 0.3em;box-sizing: border-box;text-align: center;}#sk-container-id-13 label.sk-toggleable__label-arrow:before {content: \"▸\";float: left;margin-right: 0.25em;color: #696969;}#sk-container-id-13 label.sk-toggleable__label-arrow:hover:before {color: black;}#sk-container-id-13 div.sk-estimator:hover label.sk-toggleable__label-arrow:before {color: black;}#sk-container-id-13 div.sk-toggleable__content {max-height: 0;max-width: 0;overflow: hidden;text-align: left;background-color: #f0f8ff;}#sk-container-id-13 div.sk-toggleable__content pre {margin: 0.2em;color: black;border-radius: 0.25em;background-color: #f0f8ff;}#sk-container-id-13 input.sk-toggleable__control:checked~div.sk-toggleable__content {max-height: 200px;max-width: 100%;overflow: auto;}#sk-container-id-13 input.sk-toggleable__control:checked~label.sk-toggleable__label-arrow:before {content: \"▾\";}#sk-container-id-13 div.sk-estimator input.sk-toggleable__control:checked~label.sk-toggleable__label {background-color: #d4ebff;}#sk-container-id-13 div.sk-label input.sk-toggleable__control:checked~label.sk-toggleable__label {background-color: #d4ebff;}#sk-container-id-13 input.sk-hidden--visually {border: 0;clip: rect(1px 1px 1px 1px);clip: rect(1px, 1px, 1px, 1px);height: 1px;margin: -1px;overflow: hidden;padding: 0;position: absolute;width: 1px;}#sk-container-id-13 div.sk-estimator {font-family: monospace;background-color: #f0f8ff;border: 1px dotted black;border-radius: 0.25em;box-sizing: border-box;margin-bottom: 0.5em;}#sk-container-id-13 div.sk-estimator:hover {background-color: #d4ebff;}#sk-container-id-13 div.sk-parallel-item::after {content: \"\";width: 100%;border-bottom: 1px solid gray;flex-grow: 1;}#sk-container-id-13 div.sk-label:hover label.sk-toggleable__label {background-color: #d4ebff;}#sk-container-id-13 div.sk-serial::before {content: \"\";position: absolute;border-left: 1px solid gray;box-sizing: border-box;top: 0;bottom: 0;left: 50%;z-index: 0;}#sk-container-id-13 div.sk-serial {display: flex;flex-direction: column;align-items: center;background-color: white;padding-right: 0.2em;padding-left: 0.2em;position: relative;}#sk-container-id-13 div.sk-item {position: relative;z-index: 1;}#sk-container-id-13 div.sk-parallel {display: flex;align-items: stretch;justify-content: center;background-color: white;position: relative;}#sk-container-id-13 div.sk-item::before, #sk-container-id-13 div.sk-parallel-item::before {content: \"\";position: absolute;border-left: 1px solid gray;box-sizing: border-box;top: 0;bottom: 0;left: 50%;z-index: -1;}#sk-container-id-13 div.sk-parallel-item {display: flex;flex-direction: column;z-index: 1;position: relative;background-color: white;}#sk-container-id-13 div.sk-parallel-item:first-child::after {align-self: flex-end;width: 50%;}#sk-container-id-13 div.sk-parallel-item:last-child::after {align-self: flex-start;width: 50%;}#sk-container-id-13 div.sk-parallel-item:only-child::after {width: 0;}#sk-container-id-13 div.sk-dashed-wrapped {border: 1px dashed gray;margin: 0 0.4em 0.5em 0.4em;box-sizing: border-box;padding-bottom: 0.4em;background-color: white;}#sk-container-id-13 div.sk-label label {font-family: monospace;font-weight: bold;display: inline-block;line-height: 1.2em;}#sk-container-id-13 div.sk-label-container {text-align: center;}#sk-container-id-13 div.sk-container {/* jupyter's `normalize.less` sets `[hidden] { display: none; }` but bootstrap.min.css set `[hidden] { display: none !important; }` so we also need the `!important` here to be able to override the default hidden behavior on the sphinx rendered scikit-learn.org. See: https://github.com/scikit-learn/scikit-learn/issues/21755 */display: inline-block !important;position: relative;}#sk-container-id-13 div.sk-text-repr-fallback {display: none;}</style><div id=\"sk-container-id-13\" class=\"sk-top-container\"><div class=\"sk-text-repr-fallback\"><pre>SVC(C=10000000000.0, kernel=&#x27;linear&#x27;)</pre><b>In a Jupyter environment, please rerun this cell to show the HTML representation or trust the notebook. <br />On GitHub, the HTML representation is unable to render, please try loading this page with nbviewer.org.</b></div><div class=\"sk-container\" hidden><div class=\"sk-item\"><div class=\"sk-estimator sk-toggleable\"><input class=\"sk-toggleable__control sk-hidden--visually\" id=\"sk-estimator-id-13\" type=\"checkbox\" checked><label for=\"sk-estimator-id-13\" class=\"sk-toggleable__label sk-toggleable__label-arrow\">SVC</label><div class=\"sk-toggleable__content\"><pre>SVC(C=10000000000.0, kernel=&#x27;linear&#x27;)</pre></div></div></div></div></div>"
      ],
      "text/plain": [
       "SVC(C=10000000000.0, kernel='linear')"
      ]
     },
     "execution_count": 165,
     "metadata": {},
     "output_type": "execute_result"
    }
   ],
   "source": [
    "# Train SVM on data (Support Vector Classification)\n",
    "clf = svm.SVC(kernel='linear', C=1E10)\n",
    "clf.fit(X, y)\n"
   ]
  },
  {
   "cell_type": "code",
   "execution_count": 166,
   "metadata": {},
   "outputs": [],
   "source": [
    "# Plot model and data\n",
    "def plot_svc_decision_function(model, ax=None, plot_support=True):\n",
    "    \"\"\"Plot the decision function for a 2D SVC\"\"\"\n",
    "    if ax is None:\n",
    "        ax = plt.gca()\n",
    "    xlim = ax.get_xlim()\n",
    "    ylim = ax.get_ylim()\n",
    "\n",
    "    # create grid to evaluate model\n",
    "    x = np.linspace(xlim[0], xlim[1], 30)\n",
    "    y = np.linspace(ylim[0], ylim[1], 30)\n",
    "    Y, X = np.meshgrid(y, x)\n",
    "    xy = np.vstack([X.ravel(), Y.ravel()]).T\n",
    "    P = model.decision_function(xy).reshape(X.shape)\n",
    "\n",
    "    # plot decision boundary and margins\n",
    "    ax.contour(X, Y, P, colors='k',\n",
    "               levels=[-1, 0, 1], alpha=0.5,\n",
    "               linestyles=['--', '-', '--'])\n",
    "\n",
    "    # plot support vectors\n",
    "    if plot_support:\n",
    "        ax.scatter(model.support_vectors_[:, 0],\n",
    "                   model.support_vectors_[:, 1],\n",
    "                   s=300, linewidth=1, facecolors='none');\n",
    "    ax.set_xlim(xlim)\n",
    "    ax.set_ylim(ylim)"
   ]
  },
  {
   "cell_type": "code",
   "execution_count": 167,
   "metadata": {},
   "outputs": [
    {
     "data": {
      "image/png": "[encoded data removed]",
      "text/plain": [
       "<Figure size 640x480 with 1 Axes>"
      ]
     },
     "metadata": {},
     "output_type": "display_data"
    }
   ],
   "source": [
    "# Contor model\n",
    "plt.scatter(X[:, 0], X[:, 1], c=y, s=50, cmap='autumn')\n",
    "plot_svc_decision_function(clf)"
   ]
  },
  {
   "cell_type": "markdown",
   "metadata": {},
   "source": [
    "We can see in this plot that the line was chosen so that it maximizes distance from points on both sides. Don't worry about the code to plot this. It's not important for our purposes, though you can analyze it if you want.  \n",
    "This is a classification scenario. When we encounter regression problems, we call SVM a **Support Vector Regression**. The concept is somewhat the same. Although we won't be implementing it, frameworks can be used to work with it quite easily. What's different from a normal regression is that instead of trying to minimize error to datapoints, we get some flexibility in that we can allow some error. We choose $\\epsilon$ to be the amount of error we are willing to tolerate. We then try to minimize the L2-norm of the coefficient (weights, parameters) vector (why: the math involved explains this, but for now the best thing is to get the intuition behind the algorithm/method). We also have the previous constraint of $error < \\epsilon$, and together they allow us to find the best fit line. Remember that SVMs work in higher dimensions quite well (with feature engineering), so the model's goal is to find the best fit hyperplane (we can jump to higher dimensions when necessary)."
   ]
  },
  {
   "cell_type": "markdown",
   "metadata": {},
   "source": [
    "#### Back to classification\n",
    "\n",
    "This is a great moment to talk a bit about types of SVMs. \n",
    "* Hard-margin SVM: the classic one; a classifier that finds the best hyper plane to separate classes. This one does not tolerate outliers (points that are missclassified). It is a very strict classifier.\n",
    "* Soft-margin SVM: a classifier that allows some tolerance for outliers. It is a more flexible classifier. Instead of locking data points outside of the support vectors (look above, there are no points between the dotted lines), we allow for some points to \"intrude\". This algorithm introduces a tolerance hyper-parameter (also called *slack*), used to control tolerance for outliers. This is essentially a regularization technique; it's the most used type of SVM in practice.\n",
    "* Kernel SVM: a classifier that allows for non-linear separators. This is a more advanced type of SVM, and we will see it in action later. For now, we should keep in mind that not all data points are linearly separable. The **kernel trick** involves using some kind of function to transform the data into a linearly separable equivalent. This is essentially done by introducing a new dimension. We'll see it shortly.\n"
   ]
  },
  {
   "cell_type": "markdown",
   "metadata": {},
   "source": [
    "Let's see how a soft-margin SVM would be different. We'll generate blobs that have some overlaps and let the framework handle everything."
   ]
  },
  {
   "cell_type": "code",
   "execution_count": 168,
   "metadata": {},
   "outputs": [],
   "source": [
    "X,y = make_blobs(n_samples=100, centers=2, random_state=0, cluster_std=0.70)"
   ]
  },
  {
   "cell_type": "code",
   "execution_count": 169,
   "metadata": {},
   "outputs": [
    {
     "data": {
      "text/plain": [
       "<matplotlib.collections.PathCollection at 0x7f259249d880>"
      ]
     },
     "execution_count": 169,
     "metadata": {},
     "output_type": "execute_result"
    },
    {
     "data": {
      "image/png": "[encoded data removed]",
      "text/plain": [
       "<Figure size 640x480 with 1 Axes>"
      ]
     },
     "metadata": {},
     "output_type": "display_data"
    }
   ],
   "source": [
    "plt.scatter(X[:, 0], X[:, 1], c=y, s=100, cmap='autumn')"
   ]
  },
  {
   "cell_type": "code",
   "execution_count": 170,
   "metadata": {},
   "outputs": [
    {
     "data": {
      "text/html": [
       "<style>#sk-container-id-14 {color: black;background-color: white;}#sk-container-id-14 pre{padding: 0;}#sk-container-id-14 div.sk-toggleable {background-color: white;}#sk-container-id-14 label.sk-toggleable__label {cursor: pointer;display: block;width: 100%;margin-bottom: 0;padding: 0.3em;box-sizing: border-box;text-align: center;}#sk-container-id-14 label.sk-toggleable__label-arrow:before {content: \"▸\";float: left;margin-right: 0.25em;color: #696969;}#sk-container-id-14 label.sk-toggleable__label-arrow:hover:before {color: black;}#sk-container-id-14 div.sk-estimator:hover label.sk-toggleable__label-arrow:before {color: black;}#sk-container-id-14 div.sk-toggleable__content {max-height: 0;max-width: 0;overflow: hidden;text-align: left;background-color: #f0f8ff;}#sk-container-id-14 div.sk-toggleable__content pre {margin: 0.2em;color: black;border-radius: 0.25em;background-color: #f0f8ff;}#sk-container-id-14 input.sk-toggleable__control:checked~div.sk-toggleable__content {max-height: 200px;max-width: 100%;overflow: auto;}#sk-container-id-14 input.sk-toggleable__control:checked~label.sk-toggleable__label-arrow:before {content: \"▾\";}#sk-container-id-14 div.sk-estimator input.sk-toggleable__control:checked~label.sk-toggleable__label {background-color: #d4ebff;}#sk-container-id-14 div.sk-label input.sk-toggleable__control:checked~label.sk-toggleable__label {background-color: #d4ebff;}#sk-container-id-14 input.sk-hidden--visually {border: 0;clip: rect(1px 1px 1px 1px);clip: rect(1px, 1px, 1px, 1px);height: 1px;margin: -1px;overflow: hidden;padding: 0;position: absolute;width: 1px;}#sk-container-id-14 div.sk-estimator {font-family: monospace;background-color: #f0f8ff;border: 1px dotted black;border-radius: 0.25em;box-sizing: border-box;margin-bottom: 0.5em;}#sk-container-id-14 div.sk-estimator:hover {background-color: #d4ebff;}#sk-container-id-14 div.sk-parallel-item::after {content: \"\";width: 100%;border-bottom: 1px solid gray;flex-grow: 1;}#sk-container-id-14 div.sk-label:hover label.sk-toggleable__label {background-color: #d4ebff;}#sk-container-id-14 div.sk-serial::before {content: \"\";position: absolute;border-left: 1px solid gray;box-sizing: border-box;top: 0;bottom: 0;left: 50%;z-index: 0;}#sk-container-id-14 div.sk-serial {display: flex;flex-direction: column;align-items: center;background-color: white;padding-right: 0.2em;padding-left: 0.2em;position: relative;}#sk-container-id-14 div.sk-item {position: relative;z-index: 1;}#sk-container-id-14 div.sk-parallel {display: flex;align-items: stretch;justify-content: center;background-color: white;position: relative;}#sk-container-id-14 div.sk-item::before, #sk-container-id-14 div.sk-parallel-item::before {content: \"\";position: absolute;border-left: 1px solid gray;box-sizing: border-box;top: 0;bottom: 0;left: 50%;z-index: -1;}#sk-container-id-14 div.sk-parallel-item {display: flex;flex-direction: column;z-index: 1;position: relative;background-color: white;}#sk-container-id-14 div.sk-parallel-item:first-child::after {align-self: flex-end;width: 50%;}#sk-container-id-14 div.sk-parallel-item:last-child::after {align-self: flex-start;width: 50%;}#sk-container-id-14 div.sk-parallel-item:only-child::after {width: 0;}#sk-container-id-14 div.sk-dashed-wrapped {border: 1px dashed gray;margin: 0 0.4em 0.5em 0.4em;box-sizing: border-box;padding-bottom: 0.4em;background-color: white;}#sk-container-id-14 div.sk-label label {font-family: monospace;font-weight: bold;display: inline-block;line-height: 1.2em;}#sk-container-id-14 div.sk-label-container {text-align: center;}#sk-container-id-14 div.sk-container {/* jupyter's `normalize.less` sets `[hidden] { display: none; }` but bootstrap.min.css set `[hidden] { display: none !important; }` so we also need the `!important` here to be able to override the default hidden behavior on the sphinx rendered scikit-learn.org. See: https://github.com/scikit-learn/scikit-learn/issues/21755 */display: inline-block !important;position: relative;}#sk-container-id-14 div.sk-text-repr-fallback {display: none;}</style><div id=\"sk-container-id-14\" class=\"sk-top-container\"><div class=\"sk-text-repr-fallback\"><pre>SVC(C=0.5, kernel=&#x27;linear&#x27;)</pre><b>In a Jupyter environment, please rerun this cell to show the HTML representation or trust the notebook. <br />On GitHub, the HTML representation is unable to render, please try loading this page with nbviewer.org.</b></div><div class=\"sk-container\" hidden><div class=\"sk-item\"><div class=\"sk-estimator sk-toggleable\"><input class=\"sk-toggleable__control sk-hidden--visually\" id=\"sk-estimator-id-14\" type=\"checkbox\" checked><label for=\"sk-estimator-id-14\" class=\"sk-toggleable__label sk-toggleable__label-arrow\">SVC</label><div class=\"sk-toggleable__content\"><pre>SVC(C=0.5, kernel=&#x27;linear&#x27;)</pre></div></div></div></div></div>"
      ],
      "text/plain": [
       "SVC(C=0.5, kernel='linear')"
      ]
     },
     "execution_count": 170,
     "metadata": {},
     "output_type": "execute_result"
    }
   ],
   "source": [
    "# Train a soft-margin SVM\n",
    "clf = svm.SVC(kernel='linear', C=0.5) # YOU CAN CHANGE THIS VALUE TO SEE THE EFFECT ON THE MODEL\n",
    "clf.fit(X, y)\n"
   ]
  },
  {
   "cell_type": "code",
   "execution_count": 171,
   "metadata": {},
   "outputs": [
    {
     "data": {
      "image/png": "[encoded data removed]",
      "text/plain": [
       "<Figure size 640x480 with 1 Axes>"
      ]
     },
     "metadata": {},
     "output_type": "display_data"
    }
   ],
   "source": [
    "# Plot the dataset and the model\n",
    "plt.scatter(X[:, 0], X[:, 1], c=y, s=50, cmap='autumn')\n",
    "plot_svc_decision_function(clf, plot_support=True)\n"
   ]
  },
  {
   "cell_type": "markdown",
   "metadata": {},
   "source": [
    "As you can see, the model now allows for some points to intrude inside the decision boundary margins. We call this 'tolerance'. It's controlled by the $C$ parameter. The higher the $C$, the less tolerance we have. The lower the $C$, the more tolerance we have. This is a regularization parameter; try to pick various values and see what happens. The real world is messy, and datasets often overlap, so the *soft-margin SVM* algorithm is the most used in practice."
   ]
  },
  {
   "cell_type": "markdown",
   "metadata": {},
   "source": [
    "I would now like to touch on the kernel trick. This is a very important concept, and it's the reason why SVMs are so powerful. The kernel trick is a way to transform data into a higher dimension, so that it becomes linearly separable. This is done by introducing a new dimension. The way we do it varies from instance to instance, sometimes it can be chosen by hand, but most of the time it's done by the framework. We'll see it in action shortly.  \n",
    "We generate a non-linearly-separable dataset and apply the kernel trick to it."
   ]
  },
  {
   "cell_type": "code",
   "execution_count": 172,
   "metadata": {},
   "outputs": [],
   "source": [
    "from sklearn.datasets import make_circles"
   ]
  },
  {
   "cell_type": "code",
   "execution_count": 173,
   "metadata": {},
   "outputs": [],
   "source": [
    "# Generate dataset with concentric circles\n",
    "X, y = make_circles(100, random_state=0, factor=.1, noise=.15)\n",
    "\n",
    "Xtmp = np.append(X, np.zeros(shape=(1,2)), axis=0)\n",
    "ytmp = np.append(y, 2)"
   ]
  },
  {
   "cell_type": "code",
   "execution_count": 174,
   "metadata": {},
   "outputs": [
    {
     "data": {
      "text/plain": [
       "<matplotlib.collections.PathCollection at 0x7f25938a6df0>"
      ]
     },
     "execution_count": 174,
     "metadata": {},
     "output_type": "execute_result"
    },
    {
     "data": {
      "image/png": "[encoded data removed]",
      "text/plain": [
       "<Figure size 640x480 with 1 Axes>"
      ]
     },
     "metadata": {},
     "output_type": "display_data"
    }
   ],
   "source": [
    "# Plot dataset\n",
    "plt.scatter(Xtmp[:, 0], Xtmp[:, 1], c=ytmp, s=100, cmap='autumn')"
   ]
  },
  {
   "cell_type": "markdown",
   "metadata": {},
   "source": [
    "As you can see, this dataset is clearly not fit for a linear classifier. For starters, we see we're working with circles. This leads to the question: \"Can I separate these circles somehow?\".  \n",
    "Well of course you can. Although we do observe noise in the data, we know for sure that we can use things we know about circles to transform our data. I've introduced a temporary new point in the center (0,0). As you can see, points that are somewhat close to this center (the circle has a lower radius) are part of one class, and points that are somewhat far from the center (the circle has a higher radius) are part of the other class. This is a very simple example, but it's a good way to understand the concept.  \n",
    "\n",
    "Naturally then, we would use something about a circle's radius to distinguish our classes. As it so happens, we have the circle's equation for that:  \n",
    "\n",
    "$$x^2 + y^2 = r^2$$  \n",
    "\n",
    "So we create a new feature, $r$, which is the distance from the center. We can then use this new feature to separate our classes. This is the kernel trick. We transform our data into a higher dimension, so that it becomes linearly separable. Please note that this would transform our data into 3D. We will visualize both in 2D (by omitting one of the features, like a sideways view) and 3D, so that we can better understand what is happening."
   ]
  },
  {
   "cell_type": "code",
   "execution_count": 175,
   "metadata": {},
   "outputs": [],
   "source": [
    "# Transform X to add a third feature based on the circle equation\n",
    "r = X[:,0]**2 + X[:,1]**2\n",
    "r = r.reshape(100,1)\n",
    "X = np.hstack([X, r])"
   ]
  },
  {
   "cell_type": "code",
   "execution_count": 176,
   "metadata": {},
   "outputs": [
    {
     "data": {
      "text/plain": [
       "<matplotlib.collections.PathCollection at 0x7f2592513e50>"
      ]
     },
     "execution_count": 176,
     "metadata": {},
     "output_type": "execute_result"
    },
    {
     "data": {
      "image/png": "[encoded data removed]",
      "text/plain": [
       "<Figure size 640x480 with 1 Axes>"
      ]
     },
     "metadata": {},
     "output_type": "display_data"
    }
   ],
   "source": [
    "# Visualize new dataset in both 2D and 3D\n",
    "# 2D first\n",
    "plt.scatter(X[:, 0], X[:, 2], c=y, s=50, cmap='autumn')"
   ]
  },
  {
   "cell_type": "markdown",
   "metadata": {},
   "source": [
    "What we see here is a visualization from the side. We can now clearly separate the data using a linear SVM. Our job is done, essentially.  \n",
    "Let's see the 3D version as well."
   ]
  },
  {
   "cell_type": "code",
   "execution_count": 177,
   "metadata": {},
   "outputs": [],
   "source": [
    "# Import plotly 3D visualization\n",
    "import plotly.graph_objects as go\n"
   ]
  },
  {
   "cell_type": "code",
   "execution_count": 178,
   "metadata": {},
   "outputs": [
    {
     "data": {
      "application/vnd.plotly.v1+json": {
       "config": {
        "plotlyServerURL": "https://plot.ly"
       },
       "data": [
        {
         "marker": {
          "color": [
           0,
           1,
           0,
           1,
           1,
           1,
           0,
           1,
           1,
           1,
           1,
           1,
           1,
           0,
           0,
           0,
           0,
           0,
           0,
           0,
           0,
           1,
           0,
           1,
           0,
           0,
           0,
           1,
           1,
           1,
           1,
           1,
           1,
           1,
           1,
           0,
           0,
           1,
           1,
           1,
           0,
           1,
           0,
           0,
           0,
           0,
           0,
           0,
           0,
           0,
           1,
           1,
           0,
           0,
           0,
           1,
           0,
           0,
           0,
           1,
           0,
           0,
           1,
           1,
           1,
           1,
           0,
           1,
           0,
           1,
           0,
           0,
           0,
           1,
           1,
           1,
           0,
           1,
           1,
           1,
           0,
           0,
           1,
           0,
           0,
           1,
           1,
           0,
           1,
           1,
           1,
           0,
           0,
           1,
           0,
           1,
           1,
           1,
           0,
           0
          ],
          "colorscale": [
           [
            0,
            "#440154"
           ],
           [
            0.1111111111111111,
            "#482878"
           ],
           [
            0.2222222222222222,
            "#3e4989"
           ],
           [
            0.3333333333333333,
            "#31688e"
           ],
           [
            0.4444444444444444,
            "#26828e"
           ],
           [
            0.5555555555555556,
            "#1f9e89"
           ],
           [
            0.6666666666666666,
            "#35b779"
           ],
           [
            0.7777777777777778,
            "#6ece58"
           ],
           [
            0.8888888888888888,
            "#b5de2b"
           ],
           [
            1,
            "#fde725"
           ]
          ],
          "opacity": 1,
          "size": 8
         },
         "mode": "markers",
         "type": "scatter3d",
         "x": [
          -0.9283056915440304,
          0.20266034341376832,
          0.9139330143384843,
          0.02785752096536253,
          -0.20125327473436033,
          0.15671255847329107,
          -0.40012922584020355,
          -0.07275953506064481,
          0.056667526655564515,
          -0.04484794539232173,
          -0.055657843734812404,
          0.10482078888952026,
          0.04580996417372454,
          0.2137632099748804,
          0.4205936525061107,
          -0.8196005787524909,
          -0.8589541362607636,
          -0.8559867587484521,
          -0.3951929686434842,
          0.6818666018211686,
          0.8023702856491141,
          0.09723740206419922,
          0.781252464511702,
          -0.123791706573373,
          0.9636393865253776,
          1.0942411259003704,
          0.568436376946806,
          0.18989731165596035,
          0.16489162293999454,
          0.09449521795190083,
          0.16863212339538308,
          -0.22551120326373206,
          0.04436130847269096,
          -0.15161467633782322,
          0.13255045539225405,
          -0.9754453759935744,
          -0.777753558069243,
          0.12696095280924408,
          -0.29738640335616834,
          -0.0702823406500176,
          1.253152720455168,
          0.22033129439631224,
          0.5482332853486835,
          0.32661365679269516,
          0.905953075765785,
          -0.12941869727853345,
          -0.4286932219220456,
          0.5436323813342409,
          -0.06881397873947692,
          0.7217660448118393,
          -0.19082562249778884,
          -0.22911388948119965,
          0.8607761223144681,
          -0.396454391273773,
          -0.657923288158532,
          0.19768140187635297,
          0.07077931622140683,
          -0.10809904189275885,
          -0.9049212923043839,
          0.03923046396314471,
          0.226568609242974,
          -0.7127161951069347,
          -0.17979122867133615,
          0.07789254247129779,
          -0.37271830719088145,
          -0.2952075321933339,
          -0.48022665604468406,
          -0.03554225992859349,
          -0.12690346235248143,
          0.20808645938963102,
          -0.7787731868912674,
          -1.2090607935284505,
          1.0509609096628592,
          0.10856803543057839,
          0.1707722248252327,
          -0.22253199356784759,
          -0.7779556582667562,
          -0.032012360457747246,
          -0.19389536625462012,
          -0.03282391306227843,
          -1.0528372458884034,
          0.015507639911496396,
          -0.13026979475431183,
          0.9293894317651461,
          0.12379687954561255,
          -0.2323752089831774,
          0.08786998115133529,
          0.07034612695773435,
          -0.03297175809592096,
          -0.1848172859237551,
          -0.03165263962421866,
          -0.2620922799768985,
          -0.8367126337004948,
          -0.1244214401241075,
          0.5919229932763124,
          -0.05342236332791968,
          -0.21300191761497905,
          0.2694639118456036,
          0.766421320602684,
          0.5550876787054861
         ],
         "y": [
          -0.12952891108477133,
          -0.0012117105020510305,
          0.1468732787466377,
          -0.05233359536999964,
          -0.019917638418005864,
          0.1916239449039084,
          0.6459763497279148,
          -0.10397880937802079,
          0.12143933752806353,
          -0.0016039635639411576,
          0.1894944627260605,
          -0.2720657249587983,
          -0.17253037899376322,
          1.226852814227656,
          0.8270873344420254,
          -0.49716129622501715,
          0.49111214664247144,
          0.037459802365401015,
          -0.8825191392697713,
          0.8754203413672297,
          -0.6295286956560885,
          0.10006679894996785,
          0.6489836644635666,
          0.056177103463051936,
          -0.7793336003463447,
          -0.4722065990196082,
          0.6531778133239948,
          -0.2739920579948777,
          0.20248497339062232,
          0.182571117368937,
          0.07128558089330925,
          -0.35739534822928376,
          -0.0778775696978371,
          0.12186713003186678,
          0.07781076849063662,
          -0.24120512502921534,
          0.8136213905559324,
          0.12967692848735857,
          0.316528029345541,
          -0.050596399706912806,
          0.07072021719708237,
          -0.024504419126434848,
          -1.0379866938040616,
          -1.0818557048099071,
          0.543838670598099,
          1.23355959498245,
          1.1869779286725666,
          -0.8593909598152973,
          -1.2411898528989527,
          0.5071101593277245,
          -0.0986524318137901,
          -0.004193577415574065,
          0.2236082875438535,
          -0.9755677024981937,
          -0.7122451745045909,
          -0.1695744674253343,
          1.1496780188471505,
          -1.2161715640035258,
          0.4120862439305469,
          0.11969920084055383,
          1.029225377221494,
          -0.6452968343955796,
          0.21921837304981545,
          -0.14583425451958945,
          -0.2188122469648422,
          -0.13839913450503763,
          -0.7330196116529337,
          -0.24531916075623814,
          0.8796783629262879,
          -0.3990622137173868,
          0.6401320454931569,
          -0.5092791059520388,
          -0.08908801258106264,
          -0.16124813326396703,
          -0.011352070068914276,
          -0.051551021566345126,
          0.6663047063708655,
          0.06860116051966668,
          0.05681112989313508,
          -0.026796397475495646,
          0.12291999125593518,
          -0.8184377486995759,
          0.03529457716260487,
          -0.3246158734890432,
          -1.5095024685939789,
          0.3089315706214274,
          0.04578322864218505,
          0.7909950971707842,
          -0.1267096267753171,
          0.22945255507381496,
          -0.21438972367695242,
          -1.0367209178082462,
          0.3873073877383633,
          -0.3114369481377152,
          0.9312628653134385,
          0.09126378184880776,
          -0.04852814764487112,
          0.02926164651850946,
          -0.2205069587192634,
          -0.7500276698251003
         ],
         "z": [
          0.8785291957598471,
          0.04107268303492729,
          0.8568453147076157,
          0.00351484667868646,
          0.04089959291145434,
          0.061278562243780796,
          0.577388841779282,
          0.016105542741911984,
          0.017958721276514055,
          0.002013910905027123,
          0.03900594697304713,
          0.08500715648077788,
          0.031865284493329496,
          1.5508625377170842,
          0.8609724793228458,
          0.9189144631555574,
          0.9789933487792508,
          0.7341165679459356,
          0.9350175136427079,
          1.2313028367586651,
          1.040104453947097,
          0.01946847661228802,
          1.0315352100461674,
          0.018480253569846523,
          1.5359617278918023,
          1.4203427137693752,
          0.7497611704551268,
          0.11113263681842936,
          0.06818941176478636,
          0.04226155911311941,
          0.03351842708413224,
          0.1785867377333873,
          0.008032841551450717,
          0.037838607463226814,
          0.023624138917797376,
          1.0096735938876051,
          1.2668803642595363,
          0.03293518932014661,
          0.1886286662624893,
          0.0074996030705468016,
          1.575393089904591,
          0.0491463458470784,
          1.3779761116784979,
          1.2770882468332374,
          1.116511475127394,
          1.538418473578539,
          1.5926944816777207,
          1.0340889878473956,
          1.5452876146092809,
          0.7781069371367162,
          0.04614672050444312,
          0.05251076044474378,
          0.7909361990050269,
          1.1089084265178621,
          0.9401562417064098,
          0.06783343665038594,
          1.3267692586250788,
          1.4907586759489144,
          0.9886976177026223,
          0.015866927984630838,
          1.1106382118110223,
          0.9243723792486624,
          0.08038158098975674,
          0.027334877963927324,
          0.18679773593703936,
          0.10630180749542176,
          0.767935392243677,
          0.06144474287497671,
          0.7899385109577215,
          0.20255062499833387,
          1.016256712288034,
          1.7211932102069545,
          1.112455507625028,
          0.0377879787983694,
          0.02929202226660936,
          0.05217799598581434,
          1.0491769679612273,
          0.005730910446721814,
          0.04082291753474795,
          0.0017954561863847618,
          1.1235755905802378,
          0.6700808353920547,
          0.0182159266024176,
          0.9691401811977957,
          2.293923370076547,
          0.14943695307659735,
          0.009817237612438613,
          0.630621821326172,
          0.017142466349476086,
          0.08680590420612513,
          0.04696484321346067,
          1.1434826246446612,
          0.8500950439907332,
          0.11247366742789079,
          1.217623354280985,
          0.011183026780887029,
          0.04772479802150074,
          0.07346704374410942,
          0.636024959517981,
          0.8706638365539147
         ]
        }
       ],
       "layout": {
        "template": {
         "data": {
          "bar": [
           {
            "error_x": {
             "color": "#2a3f5f"
            },
            "error_y": {
             "color": "#2a3f5f"
            },
            "marker": {
             "line": {
              "color": "#E5ECF6",
              "width": 0.5
             },
             "pattern": {
              "fillmode": "overlay",
              "size": 10,
              "solidity": 0.2
             }
            },
            "type": "bar"
           }
          ],
          "barpolar": [
           {
            "marker": {
             "line": {
              "color": "#E5ECF6",
              "width": 0.5
             },
             "pattern": {
              "fillmode": "overlay",
              "size": 10,
              "solidity": 0.2
             }
            },
            "type": "barpolar"
           }
          ],
          "carpet": [
           {
            "aaxis": {
             "endlinecolor": "#2a3f5f",
             "gridcolor": "white",
             "linecolor": "white",
             "minorgridcolor": "white",
             "startlinecolor": "#2a3f5f"
            },
            "baxis": {
             "endlinecolor": "#2a3f5f",
             "gridcolor": "white",
             "linecolor": "white",
             "minorgridcolor": "white",
             "startlinecolor": "#2a3f5f"
            },
            "type": "carpet"
           }
          ],
          "choropleth": [
           {
            "colorbar": {
             "outlinewidth": 0,
             "ticks": ""
            },
            "type": "choropleth"
           }
          ],
          "contour": [
           {
            "colorbar": {
             "outlinewidth": 0,
             "ticks": ""
            },
            "colorscale": [
             [
              0,
              "#0d0887"
             ],
             [
              0.1111111111111111,
              "#46039f"
             ],
             [
              0.2222222222222222,
              "#7201a8"
             ],
             [
              0.3333333333333333,
              "#9c179e"
             ],
             [
              0.4444444444444444,
              "#bd3786"
             ],
             [
              0.5555555555555556,
              "#d8576b"
             ],
             [
              0.6666666666666666,
              "#ed7953"
             ],
             [
              0.7777777777777778,
              "#fb9f3a"
             ],
             [
              0.8888888888888888,
              "#fdca26"
             ],
             [
              1,
              "#f0f921"
             ]
            ],
            "type": "contour"
           }
          ],
          "contourcarpet": [
           {
            "colorbar": {
             "outlinewidth": 0,
             "ticks": ""
            },
            "type": "contourcarpet"
           }
          ],
          "heatmap": [
           {
            "colorbar": {
             "outlinewidth": 0,
             "ticks": ""
            },
            "colorscale": [
             [
              0,
              "#0d0887"
             ],
             [
              0.1111111111111111,
              "#46039f"
             ],
             [
              0.2222222222222222,
              "#7201a8"
             ],
             [
              0.3333333333333333,
              "#9c179e"
             ],
             [
              0.4444444444444444,
              "#bd3786"
             ],
             [
              0.5555555555555556,
              "#d8576b"
             ],
             [
              0.6666666666666666,
              "#ed7953"
             ],
             [
              0.7777777777777778,
              "#fb9f3a"
             ],
             [
              0.8888888888888888,
              "#fdca26"
             ],
             [
              1,
              "#f0f921"
             ]
            ],
            "type": "heatmap"
           }
          ],
          "heatmapgl": [
           {
            "colorbar": {
             "outlinewidth": 0,
             "ticks": ""
            },
            "colorscale": [
             [
              0,
              "#0d0887"
             ],
             [
              0.1111111111111111,
              "#46039f"
             ],
             [
              0.2222222222222222,
              "#7201a8"
             ],
             [
              0.3333333333333333,
              "#9c179e"
             ],
             [
              0.4444444444444444,
              "#bd3786"
             ],
             [
              0.5555555555555556,
              "#d8576b"
             ],
             [
              0.6666666666666666,
              "#ed7953"
             ],
             [
              0.7777777777777778,
              "#fb9f3a"
             ],
             [
              0.8888888888888888,
              "#fdca26"
             ],
             [
              1,
              "#f0f921"
             ]
            ],
            "type": "heatmapgl"
           }
          ],
          "histogram": [
           {
            "marker": {
             "pattern": {
              "fillmode": "overlay",
              "size": 10,
              "solidity": 0.2
             }
            },
            "type": "histogram"
           }
          ],
          "histogram2d": [
           {
            "colorbar": {
             "outlinewidth": 0,
             "ticks": ""
            },
            "colorscale": [
             [
              0,
              "#0d0887"
             ],
             [
              0.1111111111111111,
              "#46039f"
             ],
             [
              0.2222222222222222,
              "#7201a8"
             ],
             [
              0.3333333333333333,
              "#9c179e"
             ],
             [
              0.4444444444444444,
              "#bd3786"
             ],
             [
              0.5555555555555556,
              "#d8576b"
             ],
             [
              0.6666666666666666,
              "#ed7953"
             ],
             [
              0.7777777777777778,
              "#fb9f3a"
             ],
             [
              0.8888888888888888,
              "#fdca26"
             ],
             [
              1,
              "#f0f921"
             ]
            ],
            "type": "histogram2d"
           }
          ],
          "histogram2dcontour": [
           {
            "colorbar": {
             "outlinewidth": 0,
             "ticks": ""
            },
            "colorscale": [
             [
              0,
              "#0d0887"
             ],
             [
              0.1111111111111111,
              "#46039f"
             ],
             [
              0.2222222222222222,
              "#7201a8"
             ],
             [
              0.3333333333333333,
              "#9c179e"
             ],
             [
              0.4444444444444444,
              "#bd3786"
             ],
             [
              0.5555555555555556,
              "#d8576b"
             ],
             [
              0.6666666666666666,
              "#ed7953"
             ],
             [
              0.7777777777777778,
              "#fb9f3a"
             ],
             [
              0.8888888888888888,
              "#fdca26"
             ],
             [
              1,
              "#f0f921"
             ]
            ],
            "type": "histogram2dcontour"
           }
          ],
          "mesh3d": [
           {
            "colorbar": {
             "outlinewidth": 0,
             "ticks": ""
            },
            "type": "mesh3d"
           }
          ],
          "parcoords": [
           {
            "line": {
             "colorbar": {
              "outlinewidth": 0,
              "ticks": ""
             }
            },
            "type": "parcoords"
           }
          ],
          "pie": [
           {
            "automargin": true,
            "type": "pie"
           }
          ],
          "scatter": [
           {
            "fillpattern": {
             "fillmode": "overlay",
             "size": 10,
             "solidity": 0.2
            },
            "type": "scatter"
           }
          ],
          "scatter3d": [
           {
            "line": {
             "colorbar": {
              "outlinewidth": 0,
              "ticks": ""
             }
            },
            "marker": {
             "colorbar": {
              "outlinewidth": 0,
              "ticks": ""
             }
            },
            "type": "scatter3d"
           }
          ],
          "scattercarpet": [
           {
            "marker": {
             "colorbar": {
              "outlinewidth": 0,
              "ticks": ""
             }
            },
            "type": "scattercarpet"
           }
          ],
          "scattergeo": [
           {
            "marker": {
             "colorbar": {
              "outlinewidth": 0,
              "ticks": ""
             }
            },
            "type": "scattergeo"
           }
          ],
          "scattergl": [
           {
            "marker": {
             "colorbar": {
              "outlinewidth": 0,
              "ticks": ""
             }
            },
            "type": "scattergl"
           }
          ],
          "scattermapbox": [
           {
            "marker": {
             "colorbar": {
              "outlinewidth": 0,
              "ticks": ""
             }
            },
            "type": "scattermapbox"
           }
          ],
          "scatterpolar": [
           {
            "marker": {
             "colorbar": {
              "outlinewidth": 0,
              "ticks": ""
             }
            },
            "type": "scatterpolar"
           }
          ],
          "scatterpolargl": [
           {
            "marker": {
             "colorbar": {
              "outlinewidth": 0,
              "ticks": ""
             }
            },
            "type": "scatterpolargl"
           }
          ],
          "scatterternary": [
           {
            "marker": {
             "colorbar": {
              "outlinewidth": 0,
              "ticks": ""
             }
            },
            "type": "scatterternary"
           }
          ],
          "surface": [
           {
            "colorbar": {
             "outlinewidth": 0,
             "ticks": ""
            },
            "colorscale": [
             [
              0,
              "#0d0887"
             ],
             [
              0.1111111111111111,
              "#46039f"
             ],
             [
              0.2222222222222222,
              "#7201a8"
             ],
             [
              0.3333333333333333,
              "#9c179e"
             ],
             [
              0.4444444444444444,
              "#bd3786"
             ],
             [
              0.5555555555555556,
              "#d8576b"
             ],
             [
              0.6666666666666666,
              "#ed7953"
             ],
             [
              0.7777777777777778,
              "#fb9f3a"
             ],
             [
              0.8888888888888888,
              "#fdca26"
             ],
             [
              1,
              "#f0f921"
             ]
            ],
            "type": "surface"
           }
          ],
          "table": [
           {
            "cells": {
             "fill": {
              "color": "#EBF0F8"
             },
             "line": {
              "color": "white"
             }
            },
            "header": {
             "fill": {
              "color": "#C8D4E3"
             },
             "line": {
              "color": "white"
             }
            },
            "type": "table"
           }
          ]
         },
         "layout": {
          "annotationdefaults": {
           "arrowcolor": "#2a3f5f",
           "arrowhead": 0,
           "arrowwidth": 1
          },
          "autotypenumbers": "strict",
          "coloraxis": {
           "colorbar": {
            "outlinewidth": 0,
            "ticks": ""
           }
          },
          "colorscale": {
           "diverging": [
            [
             0,
             "#8e0152"
            ],
            [
             0.1,
             "#c51b7d"
            ],
            [
             0.2,
             "#de77ae"
            ],
            [
             0.3,
             "#f1b6da"
            ],
            [
             0.4,
             "#fde0ef"
            ],
            [
             0.5,
             "#f7f7f7"
            ],
            [
             0.6,
             "#e6f5d0"
            ],
            [
             0.7,
             "#b8e186"
            ],
            [
             0.8,
             "#7fbc41"
            ],
            [
             0.9,
             "#4d9221"
            ],
            [
             1,
             "#276419"
            ]
           ],
           "sequential": [
            [
             0,
             "#0d0887"
            ],
            [
             0.1111111111111111,
             "#46039f"
            ],
            [
             0.2222222222222222,
             "#7201a8"
            ],
            [
             0.3333333333333333,
             "#9c179e"
            ],
            [
             0.4444444444444444,
             "#bd3786"
            ],
            [
             0.5555555555555556,
             "#d8576b"
            ],
            [
             0.6666666666666666,
             "#ed7953"
            ],
            [
             0.7777777777777778,
             "#fb9f3a"
            ],
            [
             0.8888888888888888,
             "#fdca26"
            ],
            [
             1,
             "#f0f921"
            ]
           ],
           "sequentialminus": [
            [
             0,
             "#0d0887"
            ],
            [
             0.1111111111111111,
             "#46039f"
            ],
            [
             0.2222222222222222,
             "#7201a8"
            ],
            [
             0.3333333333333333,
             "#9c179e"
            ],
            [
             0.4444444444444444,
             "#bd3786"
            ],
            [
             0.5555555555555556,
             "#d8576b"
            ],
            [
             0.6666666666666666,
             "#ed7953"
            ],
            [
             0.7777777777777778,
             "#fb9f3a"
            ],
            [
             0.8888888888888888,
             "#fdca26"
            ],
            [
             1,
             "#f0f921"
            ]
           ]
          },
          "colorway": [
           "#636efa",
           "#EF553B",
           "#00cc96",
           "#ab63fa",
           "#FFA15A",
           "#19d3f3",
           "#FF6692",
           "#B6E880",
           "#FF97FF",
           "#FECB52"
          ],
          "font": {
           "color": "#2a3f5f"
          },
          "geo": {
           "bgcolor": "white",
           "lakecolor": "white",
           "landcolor": "#E5ECF6",
           "showlakes": true,
           "showland": true,
           "subunitcolor": "white"
          },
          "hoverlabel": {
           "align": "left"
          },
          "hovermode": "closest",
          "mapbox": {
           "style": "light"
          },
          "paper_bgcolor": "white",
          "plot_bgcolor": "#E5ECF6",
          "polar": {
           "angularaxis": {
            "gridcolor": "white",
            "linecolor": "white",
            "ticks": ""
           },
           "bgcolor": "#E5ECF6",
           "radialaxis": {
            "gridcolor": "white",
            "linecolor": "white",
            "ticks": ""
           }
          },
          "scene": {
           "xaxis": {
            "backgroundcolor": "#E5ECF6",
            "gridcolor": "white",
            "gridwidth": 2,
            "linecolor": "white",
            "showbackground": true,
            "ticks": "",
            "zerolinecolor": "white"
           },
           "yaxis": {
            "backgroundcolor": "#E5ECF6",
            "gridcolor": "white",
            "gridwidth": 2,
            "linecolor": "white",
            "showbackground": true,
            "ticks": "",
            "zerolinecolor": "white"
           },
           "zaxis": {
            "backgroundcolor": "#E5ECF6",
            "gridcolor": "white",
            "gridwidth": 2,
            "linecolor": "white",
            "showbackground": true,
            "ticks": "",
            "zerolinecolor": "white"
           }
          },
          "shapedefaults": {
           "line": {
            "color": "#2a3f5f"
           }
          },
          "ternary": {
           "aaxis": {
            "gridcolor": "white",
            "linecolor": "white",
            "ticks": ""
           },
           "baxis": {
            "gridcolor": "white",
            "linecolor": "white",
            "ticks": ""
           },
           "bgcolor": "#E5ECF6",
           "caxis": {
            "gridcolor": "white",
            "linecolor": "white",
            "ticks": ""
           }
          },
          "title": {
           "x": 0.05
          },
          "xaxis": {
           "automargin": true,
           "gridcolor": "white",
           "linecolor": "white",
           "ticks": "",
           "title": {
            "standoff": 15
           },
           "zerolinecolor": "white",
           "zerolinewidth": 2
          },
          "yaxis": {
           "automargin": true,
           "gridcolor": "white",
           "linecolor": "white",
           "ticks": "",
           "title": {
            "standoff": 15
           },
           "zerolinecolor": "white",
           "zerolinewidth": 2
          }
         }
        }
       }
      },
      "text/html": [
       "<div>                            <div id=\"56bf450f-0989-4f8b-952e-5b93b058a018\" class=\"plotly-graph-div\" style=\"height:525px; width:100%;\"></div>            <script type=\"text/javascript\">                require([\"plotly\"], function(Plotly) {                    window.PLOTLYENV=window.PLOTLYENV || {};                                    if (document.getElementById(\"56bf450f-0989-4f8b-952e-5b93b058a018\")) {                    Plotly.newPlot(                        \"56bf450f-0989-4f8b-952e-5b93b058a018\",                        [{\"marker\":{\"color\":[0,1,0,1,1,1,0,1,1,1,1,1,1,0,0,0,0,0,0,0,0,1,0,1,0,0,0,1,1,1,1,1,1,1,1,0,0,1,1,1,0,1,0,0,0,0,0,0,0,0,1,1,0,0,0,1,0,0,0,1,0,0,1,1,1,1,0,1,0,1,0,0,0,1,1,1,0,1,1,1,0,0,1,0,0,1,1,0,1,1,1,0,0,1,0,1,1,1,0,0],\"colorscale\":[[0.0,\"#440154\"],[0.1111111111111111,\"#482878\"],[0.2222222222222222,\"#3e4989\"],[0.3333333333333333,\"#31688e\"],[0.4444444444444444,\"#26828e\"],[0.5555555555555556,\"#1f9e89\"],[0.6666666666666666,\"#35b779\"],[0.7777777777777778,\"#6ece58\"],[0.8888888888888888,\"#b5de2b\"],[1.0,\"#fde725\"]],\"opacity\":1.0,\"size\":8},\"mode\":\"markers\",\"x\":[-0.9283056915440304,0.20266034341376832,0.9139330143384843,0.02785752096536253,-0.20125327473436033,0.15671255847329107,-0.40012922584020355,-0.07275953506064481,0.056667526655564515,-0.04484794539232173,-0.055657843734812404,0.10482078888952026,0.04580996417372454,0.2137632099748804,0.4205936525061107,-0.8196005787524909,-0.8589541362607636,-0.8559867587484521,-0.3951929686434842,0.6818666018211686,0.8023702856491141,0.09723740206419922,0.781252464511702,-0.123791706573373,0.9636393865253776,1.0942411259003704,0.568436376946806,0.18989731165596035,0.16489162293999454,0.09449521795190083,0.16863212339538308,-0.22551120326373206,0.04436130847269096,-0.15161467633782322,0.13255045539225405,-0.9754453759935744,-0.777753558069243,0.12696095280924408,-0.29738640335616834,-0.0702823406500176,1.253152720455168,0.22033129439631224,0.5482332853486835,0.32661365679269516,0.905953075765785,-0.12941869727853345,-0.4286932219220456,0.5436323813342409,-0.06881397873947692,0.7217660448118393,-0.19082562249778884,-0.22911388948119965,0.8607761223144681,-0.396454391273773,-0.657923288158532,0.19768140187635297,0.07077931622140683,-0.10809904189275885,-0.9049212923043839,0.03923046396314471,0.226568609242974,-0.7127161951069347,-0.17979122867133615,0.07789254247129779,-0.37271830719088145,-0.2952075321933339,-0.48022665604468406,-0.03554225992859349,-0.12690346235248143,0.20808645938963102,-0.7787731868912674,-1.2090607935284505,1.0509609096628592,0.10856803543057839,0.1707722248252327,-0.22253199356784759,-0.7779556582667562,-0.032012360457747246,-0.19389536625462012,-0.03282391306227843,-1.0528372458884034,0.015507639911496396,-0.13026979475431183,0.9293894317651461,0.12379687954561255,-0.2323752089831774,0.08786998115133529,0.07034612695773435,-0.03297175809592096,-0.1848172859237551,-0.03165263962421866,-0.2620922799768985,-0.8367126337004948,-0.1244214401241075,0.5919229932763124,-0.05342236332791968,-0.21300191761497905,0.2694639118456036,0.766421320602684,0.5550876787054861],\"y\":[-0.12952891108477133,-0.0012117105020510305,0.1468732787466377,-0.05233359536999964,-0.019917638418005864,0.1916239449039084,0.6459763497279148,-0.10397880937802079,0.12143933752806353,-0.0016039635639411576,0.1894944627260605,-0.2720657249587983,-0.17253037899376322,1.226852814227656,0.8270873344420254,-0.49716129622501715,0.49111214664247144,0.037459802365401015,-0.8825191392697713,0.8754203413672297,-0.6295286956560885,0.10006679894996785,0.6489836644635666,0.056177103463051936,-0.7793336003463447,-0.4722065990196082,0.6531778133239948,-0.2739920579948777,0.20248497339062232,0.182571117368937,0.07128558089330925,-0.35739534822928376,-0.0778775696978371,0.12186713003186678,0.07781076849063662,-0.24120512502921534,0.8136213905559324,0.12967692848735857,0.316528029345541,-0.050596399706912806,0.07072021719708237,-0.024504419126434848,-1.0379866938040616,-1.0818557048099071,0.543838670598099,1.23355959498245,1.1869779286725666,-0.8593909598152973,-1.2411898528989527,0.5071101593277245,-0.0986524318137901,-0.004193577415574065,0.2236082875438535,-0.9755677024981937,-0.7122451745045909,-0.1695744674253343,1.1496780188471505,-1.2161715640035258,0.4120862439305469,0.11969920084055383,1.029225377221494,-0.6452968343955796,0.21921837304981545,-0.14583425451958945,-0.2188122469648422,-0.13839913450503763,-0.7330196116529337,-0.24531916075623814,0.8796783629262879,-0.3990622137173868,0.6401320454931569,-0.5092791059520388,-0.08908801258106264,-0.16124813326396703,-0.011352070068914276,-0.051551021566345126,0.6663047063708655,0.06860116051966668,0.05681112989313508,-0.026796397475495646,0.12291999125593518,-0.8184377486995759,0.03529457716260487,-0.3246158734890432,-1.5095024685939789,0.3089315706214274,0.04578322864218505,0.7909950971707842,-0.1267096267753171,0.22945255507381496,-0.21438972367695242,-1.0367209178082462,0.3873073877383633,-0.3114369481377152,0.9312628653134385,0.09126378184880776,-0.04852814764487112,0.02926164651850946,-0.2205069587192634,-0.7500276698251003],\"z\":[0.8785291957598471,0.04107268303492729,0.8568453147076157,0.00351484667868646,0.04089959291145434,0.061278562243780796,0.577388841779282,0.016105542741911984,0.017958721276514055,0.002013910905027123,0.03900594697304713,0.08500715648077788,0.031865284493329496,1.5508625377170842,0.8609724793228458,0.9189144631555574,0.9789933487792508,0.7341165679459356,0.9350175136427079,1.2313028367586651,1.040104453947097,0.01946847661228802,1.0315352100461674,0.018480253569846523,1.5359617278918023,1.4203427137693752,0.7497611704551268,0.11113263681842936,0.06818941176478636,0.04226155911311941,0.03351842708413224,0.1785867377333873,0.008032841551450717,0.037838607463226814,0.023624138917797376,1.0096735938876051,1.2668803642595363,0.03293518932014661,0.1886286662624893,0.0074996030705468016,1.575393089904591,0.0491463458470784,1.3779761116784979,1.2770882468332374,1.116511475127394,1.538418473578539,1.5926944816777207,1.0340889878473956,1.5452876146092809,0.7781069371367162,0.04614672050444312,0.05251076044474378,0.7909361990050269,1.1089084265178621,0.9401562417064098,0.06783343665038594,1.3267692586250788,1.4907586759489144,0.9886976177026223,0.015866927984630838,1.1106382118110223,0.9243723792486624,0.08038158098975674,0.027334877963927324,0.18679773593703936,0.10630180749542176,0.767935392243677,0.06144474287497671,0.7899385109577215,0.20255062499833387,1.016256712288034,1.7211932102069545,1.112455507625028,0.0377879787983694,0.02929202226660936,0.05217799598581434,1.0491769679612273,0.005730910446721814,0.04082291753474795,0.0017954561863847618,1.1235755905802378,0.6700808353920547,0.0182159266024176,0.9691401811977957,2.293923370076547,0.14943695307659735,0.009817237612438613,0.630621821326172,0.017142466349476086,0.08680590420612513,0.04696484321346067,1.1434826246446612,0.8500950439907332,0.11247366742789079,1.217623354280985,0.011183026780887029,0.04772479802150074,0.07346704374410942,0.636024959517981,0.8706638365539147],\"type\":\"scatter3d\"}],                        {\"template\":{\"data\":{\"histogram2dcontour\":[{\"type\":\"histogram2dcontour\",\"colorbar\":{\"outlinewidth\":0,\"ticks\":\"\"},\"colorscale\":[[0.0,\"#0d0887\"],[0.1111111111111111,\"#46039f\"],[0.2222222222222222,\"#7201a8\"],[0.3333333333333333,\"#9c179e\"],[0.4444444444444444,\"#bd3786\"],[0.5555555555555556,\"#d8576b\"],[0.6666666666666666,\"#ed7953\"],[0.7777777777777778,\"#fb9f3a\"],[0.8888888888888888,\"#fdca26\"],[1.0,\"#f0f921\"]]}],\"choropleth\":[{\"type\":\"choropleth\",\"colorbar\":{\"outlinewidth\":0,\"ticks\":\"\"}}],\"histogram2d\":[{\"type\":\"histogram2d\",\"colorbar\":{\"outlinewidth\":0,\"ticks\":\"\"},\"colorscale\":[[0.0,\"#0d0887\"],[0.1111111111111111,\"#46039f\"],[0.2222222222222222,\"#7201a8\"],[0.3333333333333333,\"#9c179e\"],[0.4444444444444444,\"#bd3786\"],[0.5555555555555556,\"#d8576b\"],[0.6666666666666666,\"#ed7953\"],[0.7777777777777778,\"#fb9f3a\"],[0.8888888888888888,\"#fdca26\"],[1.0,\"#f0f921\"]]}],\"heatmap\":[{\"type\":\"heatmap\",\"colorbar\":{\"outlinewidth\":0,\"ticks\":\"\"},\"colorscale\":[[0.0,\"#0d0887\"],[0.1111111111111111,\"#46039f\"],[0.2222222222222222,\"#7201a8\"],[0.3333333333333333,\"#9c179e\"],[0.4444444444444444,\"#bd3786\"],[0.5555555555555556,\"#d8576b\"],[0.6666666666666666,\"#ed7953\"],[0.7777777777777778,\"#fb9f3a\"],[0.8888888888888888,\"#fdca26\"],[1.0,\"#f0f921\"]]}],\"heatmapgl\":[{\"type\":\"heatmapgl\",\"colorbar\":{\"outlinewidth\":0,\"ticks\":\"\"},\"colorscale\":[[0.0,\"#0d0887\"],[0.1111111111111111,\"#46039f\"],[0.2222222222222222,\"#7201a8\"],[0.3333333333333333,\"#9c179e\"],[0.4444444444444444,\"#bd3786\"],[0.5555555555555556,\"#d8576b\"],[0.6666666666666666,\"#ed7953\"],[0.7777777777777778,\"#fb9f3a\"],[0.8888888888888888,\"#fdca26\"],[1.0,\"#f0f921\"]]}],\"contourcarpet\":[{\"type\":\"contourcarpet\",\"colorbar\":{\"outlinewidth\":0,\"ticks\":\"\"}}],\"contour\":[{\"type\":\"contour\",\"colorbar\":{\"outlinewidth\":0,\"ticks\":\"\"},\"colorscale\":[[0.0,\"#0d0887\"],[0.1111111111111111,\"#46039f\"],[0.2222222222222222,\"#7201a8\"],[0.3333333333333333,\"#9c179e\"],[0.4444444444444444,\"#bd3786\"],[0.5555555555555556,\"#d8576b\"],[0.6666666666666666,\"#ed7953\"],[0.7777777777777778,\"#fb9f3a\"],[0.8888888888888888,\"#fdca26\"],[1.0,\"#f0f921\"]]}],\"surface\":[{\"type\":\"surface\",\"colorbar\":{\"outlinewidth\":0,\"ticks\":\"\"},\"colorscale\":[[0.0,\"#0d0887\"],[0.1111111111111111,\"#46039f\"],[0.2222222222222222,\"#7201a8\"],[0.3333333333333333,\"#9c179e\"],[0.4444444444444444,\"#bd3786\"],[0.5555555555555556,\"#d8576b\"],[0.6666666666666666,\"#ed7953\"],[0.7777777777777778,\"#fb9f3a\"],[0.8888888888888888,\"#fdca26\"],[1.0,\"#f0f921\"]]}],\"mesh3d\":[{\"type\":\"mesh3d\",\"colorbar\":{\"outlinewidth\":0,\"ticks\":\"\"}}],\"scatter\":[{\"fillpattern\":{\"fillmode\":\"overlay\",\"size\":10,\"solidity\":0.2},\"type\":\"scatter\"}],\"parcoords\":[{\"type\":\"parcoords\",\"line\":{\"colorbar\":{\"outlinewidth\":0,\"ticks\":\"\"}}}],\"scatterpolargl\":[{\"type\":\"scatterpolargl\",\"marker\":{\"colorbar\":{\"outlinewidth\":0,\"ticks\":\"\"}}}],\"bar\":[{\"error_x\":{\"color\":\"#2a3f5f\"},\"error_y\":{\"color\":\"#2a3f5f\"},\"marker\":{\"line\":{\"color\":\"#E5ECF6\",\"width\":0.5},\"pattern\":{\"fillmode\":\"overlay\",\"size\":10,\"solidity\":0.2}},\"type\":\"bar\"}],\"scattergeo\":[{\"type\":\"scattergeo\",\"marker\":{\"colorbar\":{\"outlinewidth\":0,\"ticks\":\"\"}}}],\"scatterpolar\":[{\"type\":\"scatterpolar\",\"marker\":{\"colorbar\":{\"outlinewidth\":0,\"ticks\":\"\"}}}],\"histogram\":[{\"marker\":{\"pattern\":{\"fillmode\":\"overlay\",\"size\":10,\"solidity\":0.2}},\"type\":\"histogram\"}],\"scattergl\":[{\"type\":\"scattergl\",\"marker\":{\"colorbar\":{\"outlinewidth\":0,\"ticks\":\"\"}}}],\"scatter3d\":[{\"type\":\"scatter3d\",\"line\":{\"colorbar\":{\"outlinewidth\":0,\"ticks\":\"\"}},\"marker\":{\"colorbar\":{\"outlinewidth\":0,\"ticks\":\"\"}}}],\"scattermapbox\":[{\"type\":\"scattermapbox\",\"marker\":{\"colorbar\":{\"outlinewidth\":0,\"ticks\":\"\"}}}],\"scatterternary\":[{\"type\":\"scatterternary\",\"marker\":{\"colorbar\":{\"outlinewidth\":0,\"ticks\":\"\"}}}],\"scattercarpet\":[{\"type\":\"scattercarpet\",\"marker\":{\"colorbar\":{\"outlinewidth\":0,\"ticks\":\"\"}}}],\"carpet\":[{\"aaxis\":{\"endlinecolor\":\"#2a3f5f\",\"gridcolor\":\"white\",\"linecolor\":\"white\",\"minorgridcolor\":\"white\",\"startlinecolor\":\"#2a3f5f\"},\"baxis\":{\"endlinecolor\":\"#2a3f5f\",\"gridcolor\":\"white\",\"linecolor\":\"white\",\"minorgridcolor\":\"white\",\"startlinecolor\":\"#2a3f5f\"},\"type\":\"carpet\"}],\"table\":[{\"cells\":{\"fill\":{\"color\":\"#EBF0F8\"},\"line\":{\"color\":\"white\"}},\"header\":{\"fill\":{\"color\":\"#C8D4E3\"},\"line\":{\"color\":\"white\"}},\"type\":\"table\"}],\"barpolar\":[{\"marker\":{\"line\":{\"color\":\"#E5ECF6\",\"width\":0.5},\"pattern\":{\"fillmode\":\"overlay\",\"size\":10,\"solidity\":0.2}},\"type\":\"barpolar\"}],\"pie\":[{\"automargin\":true,\"type\":\"pie\"}]},\"layout\":{\"autotypenumbers\":\"strict\",\"colorway\":[\"#636efa\",\"#EF553B\",\"#00cc96\",\"#ab63fa\",\"#FFA15A\",\"#19d3f3\",\"#FF6692\",\"#B6E880\",\"#FF97FF\",\"#FECB52\"],\"font\":{\"color\":\"#2a3f5f\"},\"hovermode\":\"closest\",\"hoverlabel\":{\"align\":\"left\"},\"paper_bgcolor\":\"white\",\"plot_bgcolor\":\"#E5ECF6\",\"polar\":{\"bgcolor\":\"#E5ECF6\",\"angularaxis\":{\"gridcolor\":\"white\",\"linecolor\":\"white\",\"ticks\":\"\"},\"radialaxis\":{\"gridcolor\":\"white\",\"linecolor\":\"white\",\"ticks\":\"\"}},\"ternary\":{\"bgcolor\":\"#E5ECF6\",\"aaxis\":{\"gridcolor\":\"white\",\"linecolor\":\"white\",\"ticks\":\"\"},\"baxis\":{\"gridcolor\":\"white\",\"linecolor\":\"white\",\"ticks\":\"\"},\"caxis\":{\"gridcolor\":\"white\",\"linecolor\":\"white\",\"ticks\":\"\"}},\"coloraxis\":{\"colorbar\":{\"outlinewidth\":0,\"ticks\":\"\"}},\"colorscale\":{\"sequential\":[[0.0,\"#0d0887\"],[0.1111111111111111,\"#46039f\"],[0.2222222222222222,\"#7201a8\"],[0.3333333333333333,\"#9c179e\"],[0.4444444444444444,\"#bd3786\"],[0.5555555555555556,\"#d8576b\"],[0.6666666666666666,\"#ed7953\"],[0.7777777777777778,\"#fb9f3a\"],[0.8888888888888888,\"#fdca26\"],[1.0,\"#f0f921\"]],\"sequentialminus\":[[0.0,\"#0d0887\"],[0.1111111111111111,\"#46039f\"],[0.2222222222222222,\"#7201a8\"],[0.3333333333333333,\"#9c179e\"],[0.4444444444444444,\"#bd3786\"],[0.5555555555555556,\"#d8576b\"],[0.6666666666666666,\"#ed7953\"],[0.7777777777777778,\"#fb9f3a\"],[0.8888888888888888,\"#fdca26\"],[1.0,\"#f0f921\"]],\"diverging\":[[0,\"#8e0152\"],[0.1,\"#c51b7d\"],[0.2,\"#de77ae\"],[0.3,\"#f1b6da\"],[0.4,\"#fde0ef\"],[0.5,\"#f7f7f7\"],[0.6,\"#e6f5d0\"],[0.7,\"#b8e186\"],[0.8,\"#7fbc41\"],[0.9,\"#4d9221\"],[1,\"#276419\"]]},\"xaxis\":{\"gridcolor\":\"white\",\"linecolor\":\"white\",\"ticks\":\"\",\"title\":{\"standoff\":15},\"zerolinecolor\":\"white\",\"automargin\":true,\"zerolinewidth\":2},\"yaxis\":{\"gridcolor\":\"white\",\"linecolor\":\"white\",\"ticks\":\"\",\"title\":{\"standoff\":15},\"zerolinecolor\":\"white\",\"automargin\":true,\"zerolinewidth\":2},\"scene\":{\"xaxis\":{\"backgroundcolor\":\"#E5ECF6\",\"gridcolor\":\"white\",\"linecolor\":\"white\",\"showbackground\":true,\"ticks\":\"\",\"zerolinecolor\":\"white\",\"gridwidth\":2},\"yaxis\":{\"backgroundcolor\":\"#E5ECF6\",\"gridcolor\":\"white\",\"linecolor\":\"white\",\"showbackground\":true,\"ticks\":\"\",\"zerolinecolor\":\"white\",\"gridwidth\":2},\"zaxis\":{\"backgroundcolor\":\"#E5ECF6\",\"gridcolor\":\"white\",\"linecolor\":\"white\",\"showbackground\":true,\"ticks\":\"\",\"zerolinecolor\":\"white\",\"gridwidth\":2}},\"shapedefaults\":{\"line\":{\"color\":\"#2a3f5f\"}},\"annotationdefaults\":{\"arrowcolor\":\"#2a3f5f\",\"arrowhead\":0,\"arrowwidth\":1},\"geo\":{\"bgcolor\":\"white\",\"landcolor\":\"#E5ECF6\",\"subunitcolor\":\"white\",\"showland\":true,\"showlakes\":true,\"lakecolor\":\"white\"},\"title\":{\"x\":0.05},\"mapbox\":{\"style\":\"light\"}}}},                        {\"responsive\": true}                    ).then(function(){\n",
       "                            \n",
       "var gd = document.getElementById('56bf450f-0989-4f8b-952e-5b93b058a018');\n",
       "var x = new MutationObserver(function (mutations, observer) {{\n",
       "        var display = window.getComputedStyle(gd).display;\n",
       "        if (!display || display === 'none') {{\n",
       "            console.log([gd, 'removed!']);\n",
       "            Plotly.purge(gd);\n",
       "            observer.disconnect();\n",
       "        }}\n",
       "}});\n",
       "\n",
       "// Listen for the removal of the full notebook cells\n",
       "var notebookContainer = gd.closest('#notebook-container');\n",
       "if (notebookContainer) {{\n",
       "    x.observe(notebookContainer, {childList: true});\n",
       "}}\n",
       "\n",
       "// Listen for the clearing of the current output cell\n",
       "var outputEl = gd.closest('.output');\n",
       "if (outputEl) {{\n",
       "    x.observe(outputEl, {childList: true});\n",
       "}}\n",
       "\n",
       "                        })                };                });            </script>        </div>"
      ]
     },
     "metadata": {},
     "output_type": "display_data"
    }
   ],
   "source": [
    "# 3D visualization using plotly\n",
    "points = go.Scatter3d(x=X[:, 0],y=X[:, 1],z=X[:, 2], mode='markers', marker=dict(size=8, color = y, colorscale='viridis',opacity=1.0))\n",
    "\n",
    "fig = go.Figure(data=[points])\n",
    "fig.show()"
   ]
  },
  {
   "cell_type": "markdown",
   "metadata": {},
   "source": [
    "This visualization looks cooler, right? We have the freedom to move around and verify that our data does indeed look like that from a sideways view (in 2D).  \n",
    "\n",
    "The thing is... we don't need all 3 features once we've created the new dimension. Doing more calculations only makes everything slower. Since our data is linearly separable in 2D (with only 2 features chosen), we don't need the 3rd, so we could theoretically drop it (make some other array that doesn't use it). Just something to think about.  \n",
    "\n",
    "Let's now train a model on this 3D data. We'll use the same code as before, but we'll use the new features."
   ]
  },
  {
   "cell_type": "code",
   "execution_count": 179,
   "metadata": {},
   "outputs": [
    {
     "data": {
      "text/html": [
       "<style>#sk-container-id-15 {color: black;background-color: white;}#sk-container-id-15 pre{padding: 0;}#sk-container-id-15 div.sk-toggleable {background-color: white;}#sk-container-id-15 label.sk-toggleable__label {cursor: pointer;display: block;width: 100%;margin-bottom: 0;padding: 0.3em;box-sizing: border-box;text-align: center;}#sk-container-id-15 label.sk-toggleable__label-arrow:before {content: \"▸\";float: left;margin-right: 0.25em;color: #696969;}#sk-container-id-15 label.sk-toggleable__label-arrow:hover:before {color: black;}#sk-container-id-15 div.sk-estimator:hover label.sk-toggleable__label-arrow:before {color: black;}#sk-container-id-15 div.sk-toggleable__content {max-height: 0;max-width: 0;overflow: hidden;text-align: left;background-color: #f0f8ff;}#sk-container-id-15 div.sk-toggleable__content pre {margin: 0.2em;color: black;border-radius: 0.25em;background-color: #f0f8ff;}#sk-container-id-15 input.sk-toggleable__control:checked~div.sk-toggleable__content {max-height: 200px;max-width: 100%;overflow: auto;}#sk-container-id-15 input.sk-toggleable__control:checked~label.sk-toggleable__label-arrow:before {content: \"▾\";}#sk-container-id-15 div.sk-estimator input.sk-toggleable__control:checked~label.sk-toggleable__label {background-color: #d4ebff;}#sk-container-id-15 div.sk-label input.sk-toggleable__control:checked~label.sk-toggleable__label {background-color: #d4ebff;}#sk-container-id-15 input.sk-hidden--visually {border: 0;clip: rect(1px 1px 1px 1px);clip: rect(1px, 1px, 1px, 1px);height: 1px;margin: -1px;overflow: hidden;padding: 0;position: absolute;width: 1px;}#sk-container-id-15 div.sk-estimator {font-family: monospace;background-color: #f0f8ff;border: 1px dotted black;border-radius: 0.25em;box-sizing: border-box;margin-bottom: 0.5em;}#sk-container-id-15 div.sk-estimator:hover {background-color: #d4ebff;}#sk-container-id-15 div.sk-parallel-item::after {content: \"\";width: 100%;border-bottom: 1px solid gray;flex-grow: 1;}#sk-container-id-15 div.sk-label:hover label.sk-toggleable__label {background-color: #d4ebff;}#sk-container-id-15 div.sk-serial::before {content: \"\";position: absolute;border-left: 1px solid gray;box-sizing: border-box;top: 0;bottom: 0;left: 50%;z-index: 0;}#sk-container-id-15 div.sk-serial {display: flex;flex-direction: column;align-items: center;background-color: white;padding-right: 0.2em;padding-left: 0.2em;position: relative;}#sk-container-id-15 div.sk-item {position: relative;z-index: 1;}#sk-container-id-15 div.sk-parallel {display: flex;align-items: stretch;justify-content: center;background-color: white;position: relative;}#sk-container-id-15 div.sk-item::before, #sk-container-id-15 div.sk-parallel-item::before {content: \"\";position: absolute;border-left: 1px solid gray;box-sizing: border-box;top: 0;bottom: 0;left: 50%;z-index: -1;}#sk-container-id-15 div.sk-parallel-item {display: flex;flex-direction: column;z-index: 1;position: relative;background-color: white;}#sk-container-id-15 div.sk-parallel-item:first-child::after {align-self: flex-end;width: 50%;}#sk-container-id-15 div.sk-parallel-item:last-child::after {align-self: flex-start;width: 50%;}#sk-container-id-15 div.sk-parallel-item:only-child::after {width: 0;}#sk-container-id-15 div.sk-dashed-wrapped {border: 1px dashed gray;margin: 0 0.4em 0.5em 0.4em;box-sizing: border-box;padding-bottom: 0.4em;background-color: white;}#sk-container-id-15 div.sk-label label {font-family: monospace;font-weight: bold;display: inline-block;line-height: 1.2em;}#sk-container-id-15 div.sk-label-container {text-align: center;}#sk-container-id-15 div.sk-container {/* jupyter's `normalize.less` sets `[hidden] { display: none; }` but bootstrap.min.css set `[hidden] { display: none !important; }` so we also need the `!important` here to be able to override the default hidden behavior on the sphinx rendered scikit-learn.org. See: https://github.com/scikit-learn/scikit-learn/issues/21755 */display: inline-block !important;position: relative;}#sk-container-id-15 div.sk-text-repr-fallback {display: none;}</style><div id=\"sk-container-id-15\" class=\"sk-top-container\"><div class=\"sk-text-repr-fallback\"><pre>SVC(C=10000000000.0, kernel=&#x27;linear&#x27;)</pre><b>In a Jupyter environment, please rerun this cell to show the HTML representation or trust the notebook. <br />On GitHub, the HTML representation is unable to render, please try loading this page with nbviewer.org.</b></div><div class=\"sk-container\" hidden><div class=\"sk-item\"><div class=\"sk-estimator sk-toggleable\"><input class=\"sk-toggleable__control sk-hidden--visually\" id=\"sk-estimator-id-15\" type=\"checkbox\" checked><label for=\"sk-estimator-id-15\" class=\"sk-toggleable__label sk-toggleable__label-arrow\">SVC</label><div class=\"sk-toggleable__content\"><pre>SVC(C=10000000000.0, kernel=&#x27;linear&#x27;)</pre></div></div></div></div></div>"
      ],
      "text/plain": [
       "SVC(C=10000000000.0, kernel='linear')"
      ]
     },
     "execution_count": 179,
     "metadata": {},
     "output_type": "execute_result"
    }
   ],
   "source": [
    "# Train SVM on 3D dataset\n",
    "clf = svm.SVC(kernel='linear', C=1E10)\n",
    "clf.fit(X, y)\n"
   ]
  },
  {
   "cell_type": "code",
   "execution_count": 180,
   "metadata": {},
   "outputs": [],
   "source": [
    "# Create function to plot model in 3D using plotly\n",
    "def plot_svc_3D(model):\n",
    "    Z = lambda X,Y: (-clf.intercept_[0]-clf.coef_[0][0]*X-clf.coef_[0][1]*Y) / clf.coef_[0][2]\n",
    "    plane = go.Mesh3d(x=X[:,0], y=X[:,1], z=Z(X[:,0],X[:,1]), opacity=0.9, color='lightblue')\n",
    "    return plane\n",
    "# Plot support vectors\n",
    "def plot_svc_support_vectors(model):\n",
    "    a = -model.coef_[0][0] / model.coef_[0][2]\n",
    "    yy = a * X[:,0] - (model.intercept_[0]) / model.coef_[0][2]\n",
    "    margin = 1 / np.sqrt(np.sum(model.coef_**2))\n",
    "    yy_down = yy - np.sqrt(1 + a**2) * margin\n",
    "    yy_up = yy + np.sqrt(1 + a**2) * margin\n",
    "    sv1 = go.Mesh3d(x=X[:,0], y=X[:,1], z=yy_down, opacity=0.9, color='pink')\n",
    "    sv2 = go.Mesh3d(x=X[:,0], y=X[:,1], z=yy_up, opacity=0.9, color='pink')\n",
    "    return [sv1,sv2]\n",
    "def plot_svc_decision_boundary(model):\n",
    "    db = go.Mesh3d(x = X[:,0], y = X[:,1], z = model.decision_function(X), opacity=0.2, color='yellow')\n",
    "    return db"
   ]
  },
  {
   "cell_type": "code",
   "execution_count": 184,
   "metadata": {},
   "outputs": [
    {
     "data": {
      "application/vnd.plotly.v1+json": {
       "config": {
        "plotlyServerURL": "https://plot.ly"
       },
       "data": [
        {
         "color": "lightblue",
         "opacity": 0.9,
         "type": "mesh3d",
         "x": [
          -0.9283056915440304,
          0.20266034341376832,
          0.9139330143384843,
          0.02785752096536253,
          -0.20125327473436033,
          0.15671255847329107,
          -0.40012922584020355,
          -0.07275953506064481,
          0.056667526655564515,
          -0.04484794539232173,
          -0.055657843734812404,
          0.10482078888952026,
          0.04580996417372454,
          0.2137632099748804,
          0.4205936525061107,
          -0.8196005787524909,
          -0.8589541362607636,
          -0.8559867587484521,
          -0.3951929686434842,
          0.6818666018211686,
          0.8023702856491141,
          0.09723740206419922,
          0.781252464511702,
          -0.123791706573373,
          0.9636393865253776,
          1.0942411259003704,
          0.568436376946806,
          0.18989731165596035,
          0.16489162293999454,
          0.09449521795190083,
          0.16863212339538308,
          -0.22551120326373206,
          0.04436130847269096,
          -0.15161467633782322,
          0.13255045539225405,
          -0.9754453759935744,
          -0.777753558069243,
          0.12696095280924408,
          -0.29738640335616834,
          -0.0702823406500176,
          1.253152720455168,
          0.22033129439631224,
          0.5482332853486835,
          0.32661365679269516,
          0.905953075765785,
          -0.12941869727853345,
          -0.4286932219220456,
          0.5436323813342409,
          -0.06881397873947692,
          0.7217660448118393,
          -0.19082562249778884,
          -0.22911388948119965,
          0.8607761223144681,
          -0.396454391273773,
          -0.657923288158532,
          0.19768140187635297,
          0.07077931622140683,
          -0.10809904189275885,
          -0.9049212923043839,
          0.03923046396314471,
          0.226568609242974,
          -0.7127161951069347,
          -0.17979122867133615,
          0.07789254247129779,
          -0.37271830719088145,
          -0.2952075321933339,
          -0.48022665604468406,
          -0.03554225992859349,
          -0.12690346235248143,
          0.20808645938963102,
          -0.7787731868912674,
          -1.2090607935284505,
          1.0509609096628592,
          0.10856803543057839,
          0.1707722248252327,
          -0.22253199356784759,
          -0.7779556582667562,
          -0.032012360457747246,
          -0.19389536625462012,
          -0.03282391306227843,
          -1.0528372458884034,
          0.015507639911496396,
          -0.13026979475431183,
          0.9293894317651461,
          0.12379687954561255,
          -0.2323752089831774,
          0.08786998115133529,
          0.07034612695773435,
          -0.03297175809592096,
          -0.1848172859237551,
          -0.03165263962421866,
          -0.2620922799768985,
          -0.8367126337004948,
          -0.1244214401241075,
          0.5919229932763124,
          -0.05342236332791968,
          -0.21300191761497905,
          0.2694639118456036,
          0.766421320602684,
          0.5550876787054861
         ],
         "y": [
          -0.12952891108477133,
          -0.0012117105020510305,
          0.1468732787466377,
          -0.05233359536999964,
          -0.019917638418005864,
          0.1916239449039084,
          0.6459763497279148,
          -0.10397880937802079,
          0.12143933752806353,
          -0.0016039635639411576,
          0.1894944627260605,
          -0.2720657249587983,
          -0.17253037899376322,
          1.226852814227656,
          0.8270873344420254,
          -0.49716129622501715,
          0.49111214664247144,
          0.037459802365401015,
          -0.8825191392697713,
          0.8754203413672297,
          -0.6295286956560885,
          0.10006679894996785,
          0.6489836644635666,
          0.056177103463051936,
          -0.7793336003463447,
          -0.4722065990196082,
          0.6531778133239948,
          -0.2739920579948777,
          0.20248497339062232,
          0.182571117368937,
          0.07128558089330925,
          -0.35739534822928376,
          -0.0778775696978371,
          0.12186713003186678,
          0.07781076849063662,
          -0.24120512502921534,
          0.8136213905559324,
          0.12967692848735857,
          0.316528029345541,
          -0.050596399706912806,
          0.07072021719708237,
          -0.024504419126434848,
          -1.0379866938040616,
          -1.0818557048099071,
          0.543838670598099,
          1.23355959498245,
          1.1869779286725666,
          -0.8593909598152973,
          -1.2411898528989527,
          0.5071101593277245,
          -0.0986524318137901,
          -0.004193577415574065,
          0.2236082875438535,
          -0.9755677024981937,
          -0.7122451745045909,
          -0.1695744674253343,
          1.1496780188471505,
          -1.2161715640035258,
          0.4120862439305469,
          0.11969920084055383,
          1.029225377221494,
          -0.6452968343955796,
          0.21921837304981545,
          -0.14583425451958945,
          -0.2188122469648422,
          -0.13839913450503763,
          -0.7330196116529337,
          -0.24531916075623814,
          0.8796783629262879,
          -0.3990622137173868,
          0.6401320454931569,
          -0.5092791059520388,
          -0.08908801258106264,
          -0.16124813326396703,
          -0.011352070068914276,
          -0.051551021566345126,
          0.6663047063708655,
          0.06860116051966668,
          0.05681112989313508,
          -0.026796397475495646,
          0.12291999125593518,
          -0.8184377486995759,
          0.03529457716260487,
          -0.3246158734890432,
          -1.5095024685939789,
          0.3089315706214274,
          0.04578322864218505,
          0.7909950971707842,
          -0.1267096267753171,
          0.22945255507381496,
          -0.21438972367695242,
          -1.0367209178082462,
          0.3873073877383633,
          -0.3114369481377152,
          0.9312628653134385,
          0.09126378184880776,
          -0.04852814764487112,
          0.02926164651850946,
          -0.2205069587192634,
          -0.7500276698251003
         ],
         "z": [
          0.4185705124135933,
          0.41524629386166517,
          0.4089699904900031,
          0.41770362599587435,
          0.4147488511445754,
          0.4030794410556223,
          0.37256946556617215,
          0.42049823741990255,
          0.40702798670020746,
          0.41425383711422503,
          0.402339247842403,
          0.4316685863377225,
          0.42524346552196646,
          0.33901003039547517,
          0.3646913820103884,
          0.4418527781504187,
          0.38030397764103524,
          0.4084950233084871,
          0.46753304952843955,
          0.3627625219431982,
          0.4567382835351464,
          0.40852222372967867,
          0.3772360560297433,
          0.41034041623967626,
          0.4667060253826214,
          0.4481652118607721,
          0.37610123615502034,
          0.4321377557217152,
          0.40243840403792347,
          0.4033861588797783,
          0.4106032904517443,
          0.4356118001230654,
          0.4193581048605619,
          0.4061457422948388,
          0.41004974307336,
          0.42531367861764385,
          0.3606047365085018,
          0.4068050861691721,
          0.39345541347271856,
          0.41719253773818027,
          0.415093871770162,
          0.41676572914770427,
          0.48106581379624136,
          0.48288029548527495,
          0.38427949204568146,
          0.3371835638831545,
          0.3388475191719529,
          0.46995334385700877,
          0.49115291134055494,
          0.3858042196598023,
          0.41968234365137275,
          0.4136576848890914,
          0.4039851739810719,
          0.47330762796437836,
          0.45587703486197556,
          0.42568378078637015,
          0.3432163724048248,
          0.48943749491267935,
          0.38502386953668216,
          0.40706444069095904,
          0.35133837059965134,
          0.45149340131731225,
          0.399982962566841,
          0.4237170243603312,
          0.42639887648469066,
          0.42172240586343923,
          0.45789746919097807,
          0.4294305652461962,
          0.3591754167076726,
          0.43998127976726287,
          0.37137692994310467,
          0.4410054889427735,
          0.4241897932782839,
          0.42480048765696143,
          0.41574516382696974,
          0.41662635751011956,
          0.3697545598861892,
          0.4099457403240201,
          0.41001303117539656,
          0.41586807598160613,
          0.40237791084040186,
          0.46523985395383755,
          0.4116109318946794,
          0.4383202867930145,
          0.508610581500477,
          0.3941943526618491,
          0.411855592823518,
          0.36549437190245004,
          0.42207363161294287,
          0.39932661272966596,
          0.4275253463917762,
          0.4776581831130372,
          0.3868432383489747,
          0.43317237014032195,
          0.3589243247586378,
          0.408450082346281,
          0.4164777418735932,
          0.4136278698274294,
          0.4311839955662078,
          0.4632072463646454
         ]
        },
        {
         "marker": {
          "color": [
           0,
           1,
           0,
           1,
           1,
           1,
           0,
           1,
           1,
           1,
           1,
           1,
           1,
           0,
           0,
           0,
           0,
           0,
           0,
           0,
           0,
           1,
           0,
           1,
           0,
           0,
           0,
           1,
           1,
           1,
           1,
           1,
           1,
           1,
           1,
           0,
           0,
           1,
           1,
           1,
           0,
           1,
           0,
           0,
           0,
           0,
           0,
           0,
           0,
           0,
           1,
           1,
           0,
           0,
           0,
           1,
           0,
           0,
           0,
           1,
           0,
           0,
           1,
           1,
           1,
           1,
           0,
           1,
           0,
           1,
           0,
           0,
           0,
           1,
           1,
           1,
           0,
           1,
           1,
           1,
           0,
           0,
           1,
           0,
           0,
           1,
           1,
           0,
           1,
           1,
           1,
           0,
           0,
           1,
           0,
           1,
           1,
           1,
           0,
           0
          ],
          "colorscale": [
           [
            0,
            "#440154"
           ],
           [
            0.1111111111111111,
            "#482878"
           ],
           [
            0.2222222222222222,
            "#3e4989"
           ],
           [
            0.3333333333333333,
            "#31688e"
           ],
           [
            0.4444444444444444,
            "#26828e"
           ],
           [
            0.5555555555555556,
            "#1f9e89"
           ],
           [
            0.6666666666666666,
            "#35b779"
           ],
           [
            0.7777777777777778,
            "#6ece58"
           ],
           [
            0.8888888888888888,
            "#b5de2b"
           ],
           [
            1,
            "#fde725"
           ]
          ],
          "opacity": 1,
          "size": 8
         },
         "mode": "markers",
         "type": "scatter3d",
         "x": [
          -0.9283056915440304,
          0.20266034341376832,
          0.9139330143384843,
          0.02785752096536253,
          -0.20125327473436033,
          0.15671255847329107,
          -0.40012922584020355,
          -0.07275953506064481,
          0.056667526655564515,
          -0.04484794539232173,
          -0.055657843734812404,
          0.10482078888952026,
          0.04580996417372454,
          0.2137632099748804,
          0.4205936525061107,
          -0.8196005787524909,
          -0.8589541362607636,
          -0.8559867587484521,
          -0.3951929686434842,
          0.6818666018211686,
          0.8023702856491141,
          0.09723740206419922,
          0.781252464511702,
          -0.123791706573373,
          0.9636393865253776,
          1.0942411259003704,
          0.568436376946806,
          0.18989731165596035,
          0.16489162293999454,
          0.09449521795190083,
          0.16863212339538308,
          -0.22551120326373206,
          0.04436130847269096,
          -0.15161467633782322,
          0.13255045539225405,
          -0.9754453759935744,
          -0.777753558069243,
          0.12696095280924408,
          -0.29738640335616834,
          -0.0702823406500176,
          1.253152720455168,
          0.22033129439631224,
          0.5482332853486835,
          0.32661365679269516,
          0.905953075765785,
          -0.12941869727853345,
          -0.4286932219220456,
          0.5436323813342409,
          -0.06881397873947692,
          0.7217660448118393,
          -0.19082562249778884,
          -0.22911388948119965,
          0.8607761223144681,
          -0.396454391273773,
          -0.657923288158532,
          0.19768140187635297,
          0.07077931622140683,
          -0.10809904189275885,
          -0.9049212923043839,
          0.03923046396314471,
          0.226568609242974,
          -0.7127161951069347,
          -0.17979122867133615,
          0.07789254247129779,
          -0.37271830719088145,
          -0.2952075321933339,
          -0.48022665604468406,
          -0.03554225992859349,
          -0.12690346235248143,
          0.20808645938963102,
          -0.7787731868912674,
          -1.2090607935284505,
          1.0509609096628592,
          0.10856803543057839,
          0.1707722248252327,
          -0.22253199356784759,
          -0.7779556582667562,
          -0.032012360457747246,
          -0.19389536625462012,
          -0.03282391306227843,
          -1.0528372458884034,
          0.015507639911496396,
          -0.13026979475431183,
          0.9293894317651461,
          0.12379687954561255,
          -0.2323752089831774,
          0.08786998115133529,
          0.07034612695773435,
          -0.03297175809592096,
          -0.1848172859237551,
          -0.03165263962421866,
          -0.2620922799768985,
          -0.8367126337004948,
          -0.1244214401241075,
          0.5919229932763124,
          -0.05342236332791968,
          -0.21300191761497905,
          0.2694639118456036,
          0.766421320602684,
          0.5550876787054861
         ],
         "y": [
          -0.12952891108477133,
          -0.0012117105020510305,
          0.1468732787466377,
          -0.05233359536999964,
          -0.019917638418005864,
          0.1916239449039084,
          0.6459763497279148,
          -0.10397880937802079,
          0.12143933752806353,
          -0.0016039635639411576,
          0.1894944627260605,
          -0.2720657249587983,
          -0.17253037899376322,
          1.226852814227656,
          0.8270873344420254,
          -0.49716129622501715,
          0.49111214664247144,
          0.037459802365401015,
          -0.8825191392697713,
          0.8754203413672297,
          -0.6295286956560885,
          0.10006679894996785,
          0.6489836644635666,
          0.056177103463051936,
          -0.7793336003463447,
          -0.4722065990196082,
          0.6531778133239948,
          -0.2739920579948777,
          0.20248497339062232,
          0.182571117368937,
          0.07128558089330925,
          -0.35739534822928376,
          -0.0778775696978371,
          0.12186713003186678,
          0.07781076849063662,
          -0.24120512502921534,
          0.8136213905559324,
          0.12967692848735857,
          0.316528029345541,
          -0.050596399706912806,
          0.07072021719708237,
          -0.024504419126434848,
          -1.0379866938040616,
          -1.0818557048099071,
          0.543838670598099,
          1.23355959498245,
          1.1869779286725666,
          -0.8593909598152973,
          -1.2411898528989527,
          0.5071101593277245,
          -0.0986524318137901,
          -0.004193577415574065,
          0.2236082875438535,
          -0.9755677024981937,
          -0.7122451745045909,
          -0.1695744674253343,
          1.1496780188471505,
          -1.2161715640035258,
          0.4120862439305469,
          0.11969920084055383,
          1.029225377221494,
          -0.6452968343955796,
          0.21921837304981545,
          -0.14583425451958945,
          -0.2188122469648422,
          -0.13839913450503763,
          -0.7330196116529337,
          -0.24531916075623814,
          0.8796783629262879,
          -0.3990622137173868,
          0.6401320454931569,
          -0.5092791059520388,
          -0.08908801258106264,
          -0.16124813326396703,
          -0.011352070068914276,
          -0.051551021566345126,
          0.6663047063708655,
          0.06860116051966668,
          0.05681112989313508,
          -0.026796397475495646,
          0.12291999125593518,
          -0.8184377486995759,
          0.03529457716260487,
          -0.3246158734890432,
          -1.5095024685939789,
          0.3089315706214274,
          0.04578322864218505,
          0.7909950971707842,
          -0.1267096267753171,
          0.22945255507381496,
          -0.21438972367695242,
          -1.0367209178082462,
          0.3873073877383633,
          -0.3114369481377152,
          0.9312628653134385,
          0.09126378184880776,
          -0.04852814764487112,
          0.02926164651850946,
          -0.2205069587192634,
          -0.7500276698251003
         ],
         "z": [
          0.8785291957598471,
          0.04107268303492729,
          0.8568453147076157,
          0.00351484667868646,
          0.04089959291145434,
          0.061278562243780796,
          0.577388841779282,
          0.016105542741911984,
          0.017958721276514055,
          0.002013910905027123,
          0.03900594697304713,
          0.08500715648077788,
          0.031865284493329496,
          1.5508625377170842,
          0.8609724793228458,
          0.9189144631555574,
          0.9789933487792508,
          0.7341165679459356,
          0.9350175136427079,
          1.2313028367586651,
          1.040104453947097,
          0.01946847661228802,
          1.0315352100461674,
          0.018480253569846523,
          1.5359617278918023,
          1.4203427137693752,
          0.7497611704551268,
          0.11113263681842936,
          0.06818941176478636,
          0.04226155911311941,
          0.03351842708413224,
          0.1785867377333873,
          0.008032841551450717,
          0.037838607463226814,
          0.023624138917797376,
          1.0096735938876051,
          1.2668803642595363,
          0.03293518932014661,
          0.1886286662624893,
          0.0074996030705468016,
          1.575393089904591,
          0.0491463458470784,
          1.3779761116784979,
          1.2770882468332374,
          1.116511475127394,
          1.538418473578539,
          1.5926944816777207,
          1.0340889878473956,
          1.5452876146092809,
          0.7781069371367162,
          0.04614672050444312,
          0.05251076044474378,
          0.7909361990050269,
          1.1089084265178621,
          0.9401562417064098,
          0.06783343665038594,
          1.3267692586250788,
          1.4907586759489144,
          0.9886976177026223,
          0.015866927984630838,
          1.1106382118110223,
          0.9243723792486624,
          0.08038158098975674,
          0.027334877963927324,
          0.18679773593703936,
          0.10630180749542176,
          0.767935392243677,
          0.06144474287497671,
          0.7899385109577215,
          0.20255062499833387,
          1.016256712288034,
          1.7211932102069545,
          1.112455507625028,
          0.0377879787983694,
          0.02929202226660936,
          0.05217799598581434,
          1.0491769679612273,
          0.005730910446721814,
          0.04082291753474795,
          0.0017954561863847618,
          1.1235755905802378,
          0.6700808353920547,
          0.0182159266024176,
          0.9691401811977957,
          2.293923370076547,
          0.14943695307659735,
          0.009817237612438613,
          0.630621821326172,
          0.017142466349476086,
          0.08680590420612513,
          0.04696484321346067,
          1.1434826246446612,
          0.8500950439907332,
          0.11247366742789079,
          1.217623354280985,
          0.011183026780887029,
          0.04772479802150074,
          0.07346704374410942,
          0.636024959517981,
          0.8706638365539147
         ]
        },
        {
         "color": "pink",
         "opacity": 0.9,
         "type": "mesh3d",
         "x": [
          -0.9283056915440304,
          0.20266034341376832,
          0.9139330143384843,
          0.02785752096536253,
          -0.20125327473436033,
          0.15671255847329107,
          -0.40012922584020355,
          -0.07275953506064481,
          0.056667526655564515,
          -0.04484794539232173,
          -0.055657843734812404,
          0.10482078888952026,
          0.04580996417372454,
          0.2137632099748804,
          0.4205936525061107,
          -0.8196005787524909,
          -0.8589541362607636,
          -0.8559867587484521,
          -0.3951929686434842,
          0.6818666018211686,
          0.8023702856491141,
          0.09723740206419922,
          0.781252464511702,
          -0.123791706573373,
          0.9636393865253776,
          1.0942411259003704,
          0.568436376946806,
          0.18989731165596035,
          0.16489162293999454,
          0.09449521795190083,
          0.16863212339538308,
          -0.22551120326373206,
          0.04436130847269096,
          -0.15161467633782322,
          0.13255045539225405,
          -0.9754453759935744,
          -0.777753558069243,
          0.12696095280924408,
          -0.29738640335616834,
          -0.0702823406500176,
          1.253152720455168,
          0.22033129439631224,
          0.5482332853486835,
          0.32661365679269516,
          0.905953075765785,
          -0.12941869727853345,
          -0.4286932219220456,
          0.5436323813342409,
          -0.06881397873947692,
          0.7217660448118393,
          -0.19082562249778884,
          -0.22911388948119965,
          0.8607761223144681,
          -0.396454391273773,
          -0.657923288158532,
          0.19768140187635297,
          0.07077931622140683,
          -0.10809904189275885,
          -0.9049212923043839,
          0.03923046396314471,
          0.226568609242974,
          -0.7127161951069347,
          -0.17979122867133615,
          0.07789254247129779,
          -0.37271830719088145,
          -0.2952075321933339,
          -0.48022665604468406,
          -0.03554225992859349,
          -0.12690346235248143,
          0.20808645938963102,
          -0.7787731868912674,
          -1.2090607935284505,
          1.0509609096628592,
          0.10856803543057839,
          0.1707722248252327,
          -0.22253199356784759,
          -0.7779556582667562,
          -0.032012360457747246,
          -0.19389536625462012,
          -0.03282391306227843,
          -1.0528372458884034,
          0.015507639911496396,
          -0.13026979475431183,
          0.9293894317651461,
          0.12379687954561255,
          -0.2323752089831774,
          0.08786998115133529,
          0.07034612695773435,
          -0.03297175809592096,
          -0.1848172859237551,
          -0.03165263962421866,
          -0.2620922799768985,
          -0.8367126337004948,
          -0.1244214401241075,
          0.5919229932763124,
          -0.05342236332791968,
          -0.21300191761497905,
          0.2694639118456036,
          0.766421320602684,
          0.5550876787054861
         ],
         "y": [
          -0.12952891108477133,
          -0.0012117105020510305,
          0.1468732787466377,
          -0.05233359536999964,
          -0.019917638418005864,
          0.1916239449039084,
          0.6459763497279148,
          -0.10397880937802079,
          0.12143933752806353,
          -0.0016039635639411576,
          0.1894944627260605,
          -0.2720657249587983,
          -0.17253037899376322,
          1.226852814227656,
          0.8270873344420254,
          -0.49716129622501715,
          0.49111214664247144,
          0.037459802365401015,
          -0.8825191392697713,
          0.8754203413672297,
          -0.6295286956560885,
          0.10006679894996785,
          0.6489836644635666,
          0.056177103463051936,
          -0.7793336003463447,
          -0.4722065990196082,
          0.6531778133239948,
          -0.2739920579948777,
          0.20248497339062232,
          0.182571117368937,
          0.07128558089330925,
          -0.35739534822928376,
          -0.0778775696978371,
          0.12186713003186678,
          0.07781076849063662,
          -0.24120512502921534,
          0.8136213905559324,
          0.12967692848735857,
          0.316528029345541,
          -0.050596399706912806,
          0.07072021719708237,
          -0.024504419126434848,
          -1.0379866938040616,
          -1.0818557048099071,
          0.543838670598099,
          1.23355959498245,
          1.1869779286725666,
          -0.8593909598152973,
          -1.2411898528989527,
          0.5071101593277245,
          -0.0986524318137901,
          -0.004193577415574065,
          0.2236082875438535,
          -0.9755677024981937,
          -0.7122451745045909,
          -0.1695744674253343,
          1.1496780188471505,
          -1.2161715640035258,
          0.4120862439305469,
          0.11969920084055383,
          1.029225377221494,
          -0.6452968343955796,
          0.21921837304981545,
          -0.14583425451958945,
          -0.2188122469648422,
          -0.13839913450503763,
          -0.7330196116529337,
          -0.24531916075623814,
          0.8796783629262879,
          -0.3990622137173868,
          0.6401320454931569,
          -0.5092791059520388,
          -0.08908801258106264,
          -0.16124813326396703,
          -0.011352070068914276,
          -0.051551021566345126,
          0.6663047063708655,
          0.06860116051966668,
          0.05681112989313508,
          -0.026796397475495646,
          0.12291999125593518,
          -0.8184377486995759,
          0.03529457716260487,
          -0.3246158734890432,
          -1.5095024685939789,
          0.3089315706214274,
          0.04578322864218505,
          0.7909950971707842,
          -0.1267096267753171,
          0.22945255507381496,
          -0.21438972367695242,
          -1.0367209178082462,
          0.3873073877383633,
          -0.3114369481377152,
          0.9312628653134385,
          0.09126378184880776,
          -0.04852814764487112,
          0.02926164651850946,
          -0.2205069587192634,
          -0.7500276698251003
         ],
         "z": [
          0.2060814933470285,
          0.2107277654878245,
          0.2136498394434321,
          0.2100096347403305,
          0.20906839417756243,
          0.21053900127519434,
          0.20825136540522463,
          0.20959627641669173,
          0.21012799296036275,
          0.20971094373425278,
          0.20966653415168254,
          0.21032581778789125,
          0.2100833875623959,
          0.21077337865213827,
          0.211623086329732,
          0.20652807929347936,
          0.20636640570449424,
          0.2063785963831181,
          0.20827164470060924,
          0.212696456517716,
          0.21319151374465908,
          0.21029466346685036,
          0.2131047568120968,
          0.20938662435866792,
          0.21385404480873352,
          0.21439058720208679,
          0.21223045870923393,
          0.21067533197783792,
          0.21057260277886006,
          0.21028339793521453,
          0.21058796962677703,
          0.20896873695176113,
          0.21007743614704186,
          0.2092723211123325,
          0.21043973772267513,
          0.20588783253334011,
          0.20669999661050395,
          0.21041677474294843,
          0.20867345687306618,
          0.20960645330885444,
          0.21504343308057242,
          0.21080036187420012,
          0.21214745969887563,
          0.21123699459719678,
          0.2136170559953625,
          0.2093635073689956,
          0.20813401785001726,
          0.2121285581125468,
          0.2096124856819113,
          0.2128603727315285,
          0.20911123340401414,
          0.20895393627686296,
          0.2134314585381986,
          0.20826646248236066,
          0.2071922872960779,
          0.21070731083521696,
          0.21018596748186905,
          0.20945109348370503,
          0.20617756191085632,
          0.21005635744161075,
          0.2108259862177345,
          0.20696718526012056,
          0.20915656526637047,
          0.21021519027365457,
          0.20836397584951502,
          0.208682408183777,
          0.20792230648832946,
          0.20974917365963044,
          0.20937384054046423,
          0.21075005723727766,
          0.20669580773759064,
          0.2049280859338826,
          0.21421278198359542,
          0.21034121235030093,
          0.21059676166238614,
          0.20898097623975362,
          0.2066991663357757,
          0.20976367530960424,
          0.20909862218099248,
          0.2097603412623025,
          0.20556988868896123,
          0.20995889854975616,
          0.20936001086214337,
          0.21371333800967215,
          0.2104037759923212,
          0.208940538016017,
          0.21025617991785486,
          0.21018418783938178,
          0.20975973388043626,
          0.20913591705142134,
          0.20976515312665237,
          0.2088184533602481,
          0.20645777898231252,
          0.20938403726642776,
          0.21232694720469739,
          0.20967571802636562,
          0.20902012801357425,
          0.21100221012127643,
          0.2130438270152412,
          0.21217561914479302
         ]
        },
        {
         "color": "pink",
         "opacity": 0.9,
         "type": "mesh3d",
         "x": [
          -0.9283056915440304,
          0.20266034341376832,
          0.9139330143384843,
          0.02785752096536253,
          -0.20125327473436033,
          0.15671255847329107,
          -0.40012922584020355,
          -0.07275953506064481,
          0.056667526655564515,
          -0.04484794539232173,
          -0.055657843734812404,
          0.10482078888952026,
          0.04580996417372454,
          0.2137632099748804,
          0.4205936525061107,
          -0.8196005787524909,
          -0.8589541362607636,
          -0.8559867587484521,
          -0.3951929686434842,
          0.6818666018211686,
          0.8023702856491141,
          0.09723740206419922,
          0.781252464511702,
          -0.123791706573373,
          0.9636393865253776,
          1.0942411259003704,
          0.568436376946806,
          0.18989731165596035,
          0.16489162293999454,
          0.09449521795190083,
          0.16863212339538308,
          -0.22551120326373206,
          0.04436130847269096,
          -0.15161467633782322,
          0.13255045539225405,
          -0.9754453759935744,
          -0.777753558069243,
          0.12696095280924408,
          -0.29738640335616834,
          -0.0702823406500176,
          1.253152720455168,
          0.22033129439631224,
          0.5482332853486835,
          0.32661365679269516,
          0.905953075765785,
          -0.12941869727853345,
          -0.4286932219220456,
          0.5436323813342409,
          -0.06881397873947692,
          0.7217660448118393,
          -0.19082562249778884,
          -0.22911388948119965,
          0.8607761223144681,
          -0.396454391273773,
          -0.657923288158532,
          0.19768140187635297,
          0.07077931622140683,
          -0.10809904189275885,
          -0.9049212923043839,
          0.03923046396314471,
          0.226568609242974,
          -0.7127161951069347,
          -0.17979122867133615,
          0.07789254247129779,
          -0.37271830719088145,
          -0.2952075321933339,
          -0.48022665604468406,
          -0.03554225992859349,
          -0.12690346235248143,
          0.20808645938963102,
          -0.7787731868912674,
          -1.2090607935284505,
          1.0509609096628592,
          0.10856803543057839,
          0.1707722248252327,
          -0.22253199356784759,
          -0.7779556582667562,
          -0.032012360457747246,
          -0.19389536625462012,
          -0.03282391306227843,
          -1.0528372458884034,
          0.015507639911496396,
          -0.13026979475431183,
          0.9293894317651461,
          0.12379687954561255,
          -0.2323752089831774,
          0.08786998115133529,
          0.07034612695773435,
          -0.03297175809592096,
          -0.1848172859237551,
          -0.03165263962421866,
          -0.2620922799768985,
          -0.8367126337004948,
          -0.1244214401241075,
          0.5919229932763124,
          -0.05342236332791968,
          -0.21300191761497905,
          0.2694639118456036,
          0.766421320602684,
          0.5550876787054861
         ],
         "y": [
          -0.12952891108477133,
          -0.0012117105020510305,
          0.1468732787466377,
          -0.05233359536999964,
          -0.019917638418005864,
          0.1916239449039084,
          0.6459763497279148,
          -0.10397880937802079,
          0.12143933752806353,
          -0.0016039635639411576,
          0.1894944627260605,
          -0.2720657249587983,
          -0.17253037899376322,
          1.226852814227656,
          0.8270873344420254,
          -0.49716129622501715,
          0.49111214664247144,
          0.037459802365401015,
          -0.8825191392697713,
          0.8754203413672297,
          -0.6295286956560885,
          0.10006679894996785,
          0.6489836644635666,
          0.056177103463051936,
          -0.7793336003463447,
          -0.4722065990196082,
          0.6531778133239948,
          -0.2739920579948777,
          0.20248497339062232,
          0.182571117368937,
          0.07128558089330925,
          -0.35739534822928376,
          -0.0778775696978371,
          0.12186713003186678,
          0.07781076849063662,
          -0.24120512502921534,
          0.8136213905559324,
          0.12967692848735857,
          0.316528029345541,
          -0.050596399706912806,
          0.07072021719708237,
          -0.024504419126434848,
          -1.0379866938040616,
          -1.0818557048099071,
          0.543838670598099,
          1.23355959498245,
          1.1869779286725666,
          -0.8593909598152973,
          -1.2411898528989527,
          0.5071101593277245,
          -0.0986524318137901,
          -0.004193577415574065,
          0.2236082875438535,
          -0.9755677024981937,
          -0.7122451745045909,
          -0.1695744674253343,
          1.1496780188471505,
          -1.2161715640035258,
          0.4120862439305469,
          0.11969920084055383,
          1.029225377221494,
          -0.6452968343955796,
          0.21921837304981545,
          -0.14583425451958945,
          -0.2188122469648422,
          -0.13839913450503763,
          -0.7330196116529337,
          -0.24531916075623814,
          0.8796783629262879,
          -0.3990622137173868,
          0.6401320454931569,
          -0.5092791059520388,
          -0.08908801258106264,
          -0.16124813326396703,
          -0.011352070068914276,
          -0.051551021566345126,
          0.6663047063708655,
          0.06860116051966668,
          0.05681112989313508,
          -0.026796397475495646,
          0.12291999125593518,
          -0.8184377486995759,
          0.03529457716260487,
          -0.3246158734890432,
          -1.5095024685939789,
          0.3089315706214274,
          0.04578322864218505,
          0.7909950971707842,
          -0.1267096267753171,
          0.22945255507381496,
          -0.21438972367695242,
          -1.0367209178082462,
          0.3873073877383633,
          -0.3114369481377152,
          0.9312628653134385,
          0.09126378184880776,
          -0.04852814764487112,
          0.02926164651850946,
          -0.2205069587192634,
          -0.7500276698251003
         ],
         "z": [
          0.6149680180189631,
          0.6196142901597591,
          0.6225363641153667,
          0.6188961594122651,
          0.617954918849497,
          0.619425525947129,
          0.6171378900771592,
          0.6184828010886263,
          0.6190145176322973,
          0.6185974684061873,
          0.6185530588236171,
          0.6192123424598258,
          0.6189699122343305,
          0.6196599033240728,
          0.6205096110016666,
          0.6154146039654139,
          0.6152529303764288,
          0.6152651210550527,
          0.6171581693725439,
          0.6215829811896506,
          0.6220780384165937,
          0.619181188138785,
          0.6219912814840314,
          0.6182731490306025,
          0.6227405694806681,
          0.6232771118740214,
          0.6211169833811685,
          0.6195618566497725,
          0.6194591274507947,
          0.6191699226071491,
          0.6194744942987116,
          0.6178552616236958,
          0.6189639608189764,
          0.618158845784267,
          0.6193262623946098,
          0.6147743572052747,
          0.6155865212824385,
          0.619303299414883,
          0.6175599815450008,
          0.6184929779807891,
          0.623929957752507,
          0.6196868865461347,
          0.6210339843708103,
          0.6201235192691313,
          0.622503580667297,
          0.6182500320409302,
          0.6170205425219518,
          0.6210150827844814,
          0.6184990103538459,
          0.6217468974034631,
          0.6179977580759487,
          0.6178404609487975,
          0.6223179832101332,
          0.6171529871542952,
          0.6160788119680125,
          0.6195938355071515,
          0.6190724921538037,
          0.6183376181556396,
          0.6150640865827909,
          0.6189428821135453,
          0.619712510889669,
          0.6158537099320551,
          0.618043089938305,
          0.6191017149455892,
          0.6172505005214496,
          0.6175689328557116,
          0.6168088311602641,
          0.6186356983315651,
          0.6182603652123988,
          0.6196365819092122,
          0.6155823324095252,
          0.6138146106058172,
          0.62309930665553,
          0.6192277370222355,
          0.6194832863343207,
          0.6178675009116882,
          0.6155856910077103,
          0.6186501999815388,
          0.617985146852927,
          0.6186468659342371,
          0.6144564133608958,
          0.6188454232216908,
          0.6182465355340779,
          0.6225998626816067,
          0.6192903006642558,
          0.6178270626879516,
          0.6191427045897895,
          0.6190707125113164,
          0.6186462585523709,
          0.618022441723356,
          0.618651677798587,
          0.6177049780321827,
          0.6153443036542471,
          0.6182705619383624,
          0.621213471876632,
          0.6185622426983002,
          0.6179066526855088,
          0.619888734793211,
          0.6219303516871758,
          0.6210621438167276
         ]
        },
        {
         "color": "yellow",
         "opacity": 0.2,
         "type": "mesh3d",
         "x": [
          -0.9283056915440304,
          0.20266034341376832,
          0.9139330143384843,
          0.02785752096536253,
          -0.20125327473436033,
          0.15671255847329107,
          -0.40012922584020355,
          -0.07275953506064481,
          0.056667526655564515,
          -0.04484794539232173,
          -0.055657843734812404,
          0.10482078888952026,
          0.04580996417372454,
          0.2137632099748804,
          0.4205936525061107,
          -0.8196005787524909,
          -0.8589541362607636,
          -0.8559867587484521,
          -0.3951929686434842,
          0.6818666018211686,
          0.8023702856491141,
          0.09723740206419922,
          0.781252464511702,
          -0.123791706573373,
          0.9636393865253776,
          1.0942411259003704,
          0.568436376946806,
          0.18989731165596035,
          0.16489162293999454,
          0.09449521795190083,
          0.16863212339538308,
          -0.22551120326373206,
          0.04436130847269096,
          -0.15161467633782322,
          0.13255045539225405,
          -0.9754453759935744,
          -0.777753558069243,
          0.12696095280924408,
          -0.29738640335616834,
          -0.0702823406500176,
          1.253152720455168,
          0.22033129439631224,
          0.5482332853486835,
          0.32661365679269516,
          0.905953075765785,
          -0.12941869727853345,
          -0.4286932219220456,
          0.5436323813342409,
          -0.06881397873947692,
          0.7217660448118393,
          -0.19082562249778884,
          -0.22911388948119965,
          0.8607761223144681,
          -0.396454391273773,
          -0.657923288158532,
          0.19768140187635297,
          0.07077931622140683,
          -0.10809904189275885,
          -0.9049212923043839,
          0.03923046396314471,
          0.226568609242974,
          -0.7127161951069347,
          -0.17979122867133615,
          0.07789254247129779,
          -0.37271830719088145,
          -0.2952075321933339,
          -0.48022665604468406,
          -0.03554225992859349,
          -0.12690346235248143,
          0.20808645938963102,
          -0.7787731868912674,
          -1.2090607935284505,
          1.0509609096628592,
          0.10856803543057839,
          0.1707722248252327,
          -0.22253199356784759,
          -0.7779556582667562,
          -0.032012360457747246,
          -0.19389536625462012,
          -0.03282391306227843,
          -1.0528372458884034,
          0.015507639911496396,
          -0.13026979475431183,
          0.9293894317651461,
          0.12379687954561255,
          -0.2323752089831774,
          0.08786998115133529,
          0.07034612695773435,
          -0.03297175809592096,
          -0.1848172859237551,
          -0.03165263962421866,
          -0.2620922799768985,
          -0.8367126337004948,
          -0.1244214401241075,
          0.5919229932763124,
          -0.05342236332791968,
          -0.21300191761497905,
          0.2694639118456036,
          0.766421320602684,
          0.5550876787054861
         ],
         "y": [
          -0.12952891108477133,
          -0.0012117105020510305,
          0.1468732787466377,
          -0.05233359536999964,
          -0.019917638418005864,
          0.1916239449039084,
          0.6459763497279148,
          -0.10397880937802079,
          0.12143933752806353,
          -0.0016039635639411576,
          0.1894944627260605,
          -0.2720657249587983,
          -0.17253037899376322,
          1.226852814227656,
          0.8270873344420254,
          -0.49716129622501715,
          0.49111214664247144,
          0.037459802365401015,
          -0.8825191392697713,
          0.8754203413672297,
          -0.6295286956560885,
          0.10006679894996785,
          0.6489836644635666,
          0.056177103463051936,
          -0.7793336003463447,
          -0.4722065990196082,
          0.6531778133239948,
          -0.2739920579948777,
          0.20248497339062232,
          0.182571117368937,
          0.07128558089330925,
          -0.35739534822928376,
          -0.0778775696978371,
          0.12186713003186678,
          0.07781076849063662,
          -0.24120512502921534,
          0.8136213905559324,
          0.12967692848735857,
          0.316528029345541,
          -0.050596399706912806,
          0.07072021719708237,
          -0.024504419126434848,
          -1.0379866938040616,
          -1.0818557048099071,
          0.543838670598099,
          1.23355959498245,
          1.1869779286725666,
          -0.8593909598152973,
          -1.2411898528989527,
          0.5071101593277245,
          -0.0986524318137901,
          -0.004193577415574065,
          0.2236082875438535,
          -0.9755677024981937,
          -0.7122451745045909,
          -0.1695744674253343,
          1.1496780188471505,
          -1.2161715640035258,
          0.4120862439305469,
          0.11969920084055383,
          1.029225377221494,
          -0.6452968343955796,
          0.21921837304981545,
          -0.14583425451958945,
          -0.2188122469648422,
          -0.13839913450503763,
          -0.7330196116529337,
          -0.24531916075623814,
          0.8796783629262879,
          -0.3990622137173868,
          0.6401320454931569,
          -0.5092791059520388,
          -0.08908801258106264,
          -0.16124813326396703,
          -0.011352070068914276,
          -0.051551021566345126,
          0.6663047063708655,
          0.06860116051966668,
          0.05681112989313508,
          -0.026796397475495646,
          0.12291999125593518,
          -0.8184377486995759,
          0.03529457716260487,
          -0.3246158734890432,
          -1.5095024685939789,
          0.3089315706214274,
          0.04578322864218505,
          0.7909950971707842,
          -0.1267096267753171,
          0.22945255507381496,
          -0.21438972367695242,
          -1.0367209178082462,
          0.3873073877383633,
          -0.3114369481377152,
          0.9312628653134385,
          0.09126378184880776,
          -0.04852814764487112,
          0.02926164651850946,
          -0.2205069587192634,
          -0.7500276698251003
         ],
         "z": [
          -2.245483242017483,
          1.8266870550286236,
          -2.186493203535665,
          2.022038058336394,
          1.8251035903831196,
          1.6686458442204557,
          -0.9999125868894372,
          1.9742143196156197,
          1.8994065056823355,
          2.0125239059709936,
          1.7737654878772273,
          1.692374684035691,
          1.9204423033148044,
          -5.9161715943495885,
          -2.4228064991356315,
          -2.328978792821799,
          -2.922755888169274,
          -1.5896595676895013,
          -2.2822235302423564,
          -4.240147631839692,
          -2.8479491898924265,
          1.8993307464935019,
          -3.1942386105668548,
          1.9130314533641564,
          -5.220024859512316,
          -4.746096481798203,
          -1.8241793253691316,
          1.5671225290392792,
          1.6317781096124049,
          1.7629827774027778,
          1.8408995680879598,
          1.254776768590863,
          2.0080585913925235,
          1.7980473662615428,
          1.8865003528253634,
          -2.8528005765632227,
          -4.424368554059605,
          1.8252043465332473,
          0.9999485715356853,
          2.000089687352627,
          -5.664492365035965,
          1.79468981569577,
          -4.378647727303353,
          -3.877262697715764,
          -3.5747007433740774,
          -5.8643372918276295,
          -6.121185324469117,
          -2.7540672253197758,
          -5.1462052934809,
          -1.915191972208485,
          1.823572447792163,
          1.7630917647780544,
          -1.8890654174663837,
          -3.1029546640613552,
          -2.3642141844468187,
          1.7469981109208401,
          -4.801630241173051,
          -4.888373702473192,
          -2.947089236995796,
          1.9097964467380373,
          -3.706843964120058,
          -2.3085591356210036,
          1.5602695903812926,
          1.9351074333300662,
          1.1697145099074235,
          1.539859325341464,
          -1.5135815146262992,
          1.7964787433147735,
          -2.102952600831602,
          1.1591183637325084,
          -3.148253955847872,
          -6.249778901491593,
          -3.36006076975695,
          1.889365576861849,
          1.8866347883371628,
          1.7792091290240932,
          -3.3168884224220156,
          1.9733459972124119,
          1.802358001521918,
          2.021470976401819,
          -3.5208321153023925,
          -1.000018061952035,
          1.9205244380877668,
          -2.5914222745918614,
          -8.715760988230334,
          1.1948869736082908,
          1.9627206137451085,
          -1.2943320046675546,
          1.9768430919810194,
          1.5257022841000725,
          1.8578673767907874,
          -3.250504185958398,
          -2.2615600141194325,
          1.565626628545258,
          -4.192103226970881,
          1.9394274924606358,
          1.8002237719276921,
          1.6606392317762073,
          -1.0000179765845494,
          -1.9891720240246697
         ]
        }
       ],
       "layout": {
        "scene": {
         "xaxis": {
          "nticks": 4,
          "range": [
           -1,
           1
          ]
         },
         "yaxis": {
          "nticks": 4,
          "range": [
           -1,
           1
          ]
         },
         "zaxis": {
          "nticks": 4,
          "range": [
           -1,
           2
          ]
         }
        },
        "template": {
         "data": {
          "bar": [
           {
            "error_x": {
             "color": "#2a3f5f"
            },
            "error_y": {
             "color": "#2a3f5f"
            },
            "marker": {
             "line": {
              "color": "#E5ECF6",
              "width": 0.5
             },
             "pattern": {
              "fillmode": "overlay",
              "size": 10,
              "solidity": 0.2
             }
            },
            "type": "bar"
           }
          ],
          "barpolar": [
           {
            "marker": {
             "line": {
              "color": "#E5ECF6",
              "width": 0.5
             },
             "pattern": {
              "fillmode": "overlay",
              "size": 10,
              "solidity": 0.2
             }
            },
            "type": "barpolar"
           }
          ],
          "carpet": [
           {
            "aaxis": {
             "endlinecolor": "#2a3f5f",
             "gridcolor": "white",
             "linecolor": "white",
             "minorgridcolor": "white",
             "startlinecolor": "#2a3f5f"
            },
            "baxis": {
             "endlinecolor": "#2a3f5f",
             "gridcolor": "white",
             "linecolor": "white",
             "minorgridcolor": "white",
             "startlinecolor": "#2a3f5f"
            },
            "type": "carpet"
           }
          ],
          "choropleth": [
           {
            "colorbar": {
             "outlinewidth": 0,
             "ticks": ""
            },
            "type": "choropleth"
           }
          ],
          "contour": [
           {
            "colorbar": {
             "outlinewidth": 0,
             "ticks": ""
            },
            "colorscale": [
             [
              0,
              "#0d0887"
             ],
             [
              0.1111111111111111,
              "#46039f"
             ],
             [
              0.2222222222222222,
              "#7201a8"
             ],
             [
              0.3333333333333333,
              "#9c179e"
             ],
             [
              0.4444444444444444,
              "#bd3786"
             ],
             [
              0.5555555555555556,
              "#d8576b"
             ],
             [
              0.6666666666666666,
              "#ed7953"
             ],
             [
              0.7777777777777778,
              "#fb9f3a"
             ],
             [
              0.8888888888888888,
              "#fdca26"
             ],
             [
              1,
              "#f0f921"
             ]
            ],
            "type": "contour"
           }
          ],
          "contourcarpet": [
           {
            "colorbar": {
             "outlinewidth": 0,
             "ticks": ""
            },
            "type": "contourcarpet"
           }
          ],
          "heatmap": [
           {
            "colorbar": {
             "outlinewidth": 0,
             "ticks": ""
            },
            "colorscale": [
             [
              0,
              "#0d0887"
             ],
             [
              0.1111111111111111,
              "#46039f"
             ],
             [
              0.2222222222222222,
              "#7201a8"
             ],
             [
              0.3333333333333333,
              "#9c179e"
             ],
             [
              0.4444444444444444,
              "#bd3786"
             ],
             [
              0.5555555555555556,
              "#d8576b"
             ],
             [
              0.6666666666666666,
              "#ed7953"
             ],
             [
              0.7777777777777778,
              "#fb9f3a"
             ],
             [
              0.8888888888888888,
              "#fdca26"
             ],
             [
              1,
              "#f0f921"
             ]
            ],
            "type": "heatmap"
           }
          ],
          "heatmapgl": [
           {
            "colorbar": {
             "outlinewidth": 0,
             "ticks": ""
            },
            "colorscale": [
             [
              0,
              "#0d0887"
             ],
             [
              0.1111111111111111,
              "#46039f"
             ],
             [
              0.2222222222222222,
              "#7201a8"
             ],
             [
              0.3333333333333333,
              "#9c179e"
             ],
             [
              0.4444444444444444,
              "#bd3786"
             ],
             [
              0.5555555555555556,
              "#d8576b"
             ],
             [
              0.6666666666666666,
              "#ed7953"
             ],
             [
              0.7777777777777778,
              "#fb9f3a"
             ],
             [
              0.8888888888888888,
              "#fdca26"
             ],
             [
              1,
              "#f0f921"
             ]
            ],
            "type": "heatmapgl"
           }
          ],
          "histogram": [
           {
            "marker": {
             "pattern": {
              "fillmode": "overlay",
              "size": 10,
              "solidity": 0.2
             }
            },
            "type": "histogram"
           }
          ],
          "histogram2d": [
           {
            "colorbar": {
             "outlinewidth": 0,
             "ticks": ""
            },
            "colorscale": [
             [
              0,
              "#0d0887"
             ],
             [
              0.1111111111111111,
              "#46039f"
             ],
             [
              0.2222222222222222,
              "#7201a8"
             ],
             [
              0.3333333333333333,
              "#9c179e"
             ],
             [
              0.4444444444444444,
              "#bd3786"
             ],
             [
              0.5555555555555556,
              "#d8576b"
             ],
             [
              0.6666666666666666,
              "#ed7953"
             ],
             [
              0.7777777777777778,
              "#fb9f3a"
             ],
             [
              0.8888888888888888,
              "#fdca26"
             ],
             [
              1,
              "#f0f921"
             ]
            ],
            "type": "histogram2d"
           }
          ],
          "histogram2dcontour": [
           {
            "colorbar": {
             "outlinewidth": 0,
             "ticks": ""
            },
            "colorscale": [
             [
              0,
              "#0d0887"
             ],
             [
              0.1111111111111111,
              "#46039f"
             ],
             [
              0.2222222222222222,
              "#7201a8"
             ],
             [
              0.3333333333333333,
              "#9c179e"
             ],
             [
              0.4444444444444444,
              "#bd3786"
             ],
             [
              0.5555555555555556,
              "#d8576b"
             ],
             [
              0.6666666666666666,
              "#ed7953"
             ],
             [
              0.7777777777777778,
              "#fb9f3a"
             ],
             [
              0.8888888888888888,
              "#fdca26"
             ],
             [
              1,
              "#f0f921"
             ]
            ],
            "type": "histogram2dcontour"
           }
          ],
          "mesh3d": [
           {
            "colorbar": {
             "outlinewidth": 0,
             "ticks": ""
            },
            "type": "mesh3d"
           }
          ],
          "parcoords": [
           {
            "line": {
             "colorbar": {
              "outlinewidth": 0,
              "ticks": ""
             }
            },
            "type": "parcoords"
           }
          ],
          "pie": [
           {
            "automargin": true,
            "type": "pie"
           }
          ],
          "scatter": [
           {
            "fillpattern": {
             "fillmode": "overlay",
             "size": 10,
             "solidity": 0.2
            },
            "type": "scatter"
           }
          ],
          "scatter3d": [
           {
            "line": {
             "colorbar": {
              "outlinewidth": 0,
              "ticks": ""
             }
            },
            "marker": {
             "colorbar": {
              "outlinewidth": 0,
              "ticks": ""
             }
            },
            "type": "scatter3d"
           }
          ],
          "scattercarpet": [
           {
            "marker": {
             "colorbar": {
              "outlinewidth": 0,
              "ticks": ""
             }
            },
            "type": "scattercarpet"
           }
          ],
          "scattergeo": [
           {
            "marker": {
             "colorbar": {
              "outlinewidth": 0,
              "ticks": ""
             }
            },
            "type": "scattergeo"
           }
          ],
          "scattergl": [
           {
            "marker": {
             "colorbar": {
              "outlinewidth": 0,
              "ticks": ""
             }
            },
            "type": "scattergl"
           }
          ],
          "scattermapbox": [
           {
            "marker": {
             "colorbar": {
              "outlinewidth": 0,
              "ticks": ""
             }
            },
            "type": "scattermapbox"
           }
          ],
          "scatterpolar": [
           {
            "marker": {
             "colorbar": {
              "outlinewidth": 0,
              "ticks": ""
             }
            },
            "type": "scatterpolar"
           }
          ],
          "scatterpolargl": [
           {
            "marker": {
             "colorbar": {
              "outlinewidth": 0,
              "ticks": ""
             }
            },
            "type": "scatterpolargl"
           }
          ],
          "scatterternary": [
           {
            "marker": {
             "colorbar": {
              "outlinewidth": 0,
              "ticks": ""
             }
            },
            "type": "scatterternary"
           }
          ],
          "surface": [
           {
            "colorbar": {
             "outlinewidth": 0,
             "ticks": ""
            },
            "colorscale": [
             [
              0,
              "#0d0887"
             ],
             [
              0.1111111111111111,
              "#46039f"
             ],
             [
              0.2222222222222222,
              "#7201a8"
             ],
             [
              0.3333333333333333,
              "#9c179e"
             ],
             [
              0.4444444444444444,
              "#bd3786"
             ],
             [
              0.5555555555555556,
              "#d8576b"
             ],
             [
              0.6666666666666666,
              "#ed7953"
             ],
             [
              0.7777777777777778,
              "#fb9f3a"
             ],
             [
              0.8888888888888888,
              "#fdca26"
             ],
             [
              1,
              "#f0f921"
             ]
            ],
            "type": "surface"
           }
          ],
          "table": [
           {
            "cells": {
             "fill": {
              "color": "#EBF0F8"
             },
             "line": {
              "color": "white"
             }
            },
            "header": {
             "fill": {
              "color": "#C8D4E3"
             },
             "line": {
              "color": "white"
             }
            },
            "type": "table"
           }
          ]
         },
         "layout": {
          "annotationdefaults": {
           "arrowcolor": "#2a3f5f",
           "arrowhead": 0,
           "arrowwidth": 1
          },
          "autotypenumbers": "strict",
          "coloraxis": {
           "colorbar": {
            "outlinewidth": 0,
            "ticks": ""
           }
          },
          "colorscale": {
           "diverging": [
            [
             0,
             "#8e0152"
            ],
            [
             0.1,
             "#c51b7d"
            ],
            [
             0.2,
             "#de77ae"
            ],
            [
             0.3,
             "#f1b6da"
            ],
            [
             0.4,
             "#fde0ef"
            ],
            [
             0.5,
             "#f7f7f7"
            ],
            [
             0.6,
             "#e6f5d0"
            ],
            [
             0.7,
             "#b8e186"
            ],
            [
             0.8,
             "#7fbc41"
            ],
            [
             0.9,
             "#4d9221"
            ],
            [
             1,
             "#276419"
            ]
           ],
           "sequential": [
            [
             0,
             "#0d0887"
            ],
            [
             0.1111111111111111,
             "#46039f"
            ],
            [
             0.2222222222222222,
             "#7201a8"
            ],
            [
             0.3333333333333333,
             "#9c179e"
            ],
            [
             0.4444444444444444,
             "#bd3786"
            ],
            [
             0.5555555555555556,
             "#d8576b"
            ],
            [
             0.6666666666666666,
             "#ed7953"
            ],
            [
             0.7777777777777778,
             "#fb9f3a"
            ],
            [
             0.8888888888888888,
             "#fdca26"
            ],
            [
             1,
             "#f0f921"
            ]
           ],
           "sequentialminus": [
            [
             0,
             "#0d0887"
            ],
            [
             0.1111111111111111,
             "#46039f"
            ],
            [
             0.2222222222222222,
             "#7201a8"
            ],
            [
             0.3333333333333333,
             "#9c179e"
            ],
            [
             0.4444444444444444,
             "#bd3786"
            ],
            [
             0.5555555555555556,
             "#d8576b"
            ],
            [
             0.6666666666666666,
             "#ed7953"
            ],
            [
             0.7777777777777778,
             "#fb9f3a"
            ],
            [
             0.8888888888888888,
             "#fdca26"
            ],
            [
             1,
             "#f0f921"
            ]
           ]
          },
          "colorway": [
           "#636efa",
           "#EF553B",
           "#00cc96",
           "#ab63fa",
           "#FFA15A",
           "#19d3f3",
           "#FF6692",
           "#B6E880",
           "#FF97FF",
           "#FECB52"
          ],
          "font": {
           "color": "#2a3f5f"
          },
          "geo": {
           "bgcolor": "white",
           "lakecolor": "white",
           "landcolor": "#E5ECF6",
           "showlakes": true,
           "showland": true,
           "subunitcolor": "white"
          },
          "hoverlabel": {
           "align": "left"
          },
          "hovermode": "closest",
          "mapbox": {
           "style": "light"
          },
          "paper_bgcolor": "white",
          "plot_bgcolor": "#E5ECF6",
          "polar": {
           "angularaxis": {
            "gridcolor": "white",
            "linecolor": "white",
            "ticks": ""
           },
           "bgcolor": "#E5ECF6",
           "radialaxis": {
            "gridcolor": "white",
            "linecolor": "white",
            "ticks": ""
           }
          },
          "scene": {
           "xaxis": {
            "backgroundcolor": "#E5ECF6",
            "gridcolor": "white",
            "gridwidth": 2,
            "linecolor": "white",
            "showbackground": true,
            "ticks": "",
            "zerolinecolor": "white"
           },
           "yaxis": {
            "backgroundcolor": "#E5ECF6",
            "gridcolor": "white",
            "gridwidth": 2,
            "linecolor": "white",
            "showbackground": true,
            "ticks": "",
            "zerolinecolor": "white"
           },
           "zaxis": {
            "backgroundcolor": "#E5ECF6",
            "gridcolor": "white",
            "gridwidth": 2,
            "linecolor": "white",
            "showbackground": true,
            "ticks": "",
            "zerolinecolor": "white"
           }
          },
          "shapedefaults": {
           "line": {
            "color": "#2a3f5f"
           }
          },
          "ternary": {
           "aaxis": {
            "gridcolor": "white",
            "linecolor": "white",
            "ticks": ""
           },
           "baxis": {
            "gridcolor": "white",
            "linecolor": "white",
            "ticks": ""
           },
           "bgcolor": "#E5ECF6",
           "caxis": {
            "gridcolor": "white",
            "linecolor": "white",
            "ticks": ""
           }
          },
          "title": {
           "x": 0.05
          },
          "xaxis": {
           "automargin": true,
           "gridcolor": "white",
           "linecolor": "white",
           "ticks": "",
           "title": {
            "standoff": 15
           },
           "zerolinecolor": "white",
           "zerolinewidth": 2
          },
          "yaxis": {
           "automargin": true,
           "gridcolor": "white",
           "linecolor": "white",
           "ticks": "",
           "title": {
            "standoff": 15
           },
           "zerolinecolor": "white",
           "zerolinewidth": 2
          }
         }
        }
       }
      },
      "text/html": [
       "<div>                            <div id=\"283b0470-7293-41a8-aac3-adc0539b7b8d\" class=\"plotly-graph-div\" style=\"height:525px; width:100%;\"></div>            <script type=\"text/javascript\">                require([\"plotly\"], function(Plotly) {                    window.PLOTLYENV=window.PLOTLYENV || {};                                    if (document.getElementById(\"283b0470-7293-41a8-aac3-adc0539b7b8d\")) {                    Plotly.newPlot(                        \"283b0470-7293-41a8-aac3-adc0539b7b8d\",                        [{\"color\":\"lightblue\",\"opacity\":0.9,\"x\":[-0.9283056915440304,0.20266034341376832,0.9139330143384843,0.02785752096536253,-0.20125327473436033,0.15671255847329107,-0.40012922584020355,-0.07275953506064481,0.056667526655564515,-0.04484794539232173,-0.055657843734812404,0.10482078888952026,0.04580996417372454,0.2137632099748804,0.4205936525061107,-0.8196005787524909,-0.8589541362607636,-0.8559867587484521,-0.3951929686434842,0.6818666018211686,0.8023702856491141,0.09723740206419922,0.781252464511702,-0.123791706573373,0.9636393865253776,1.0942411259003704,0.568436376946806,0.18989731165596035,0.16489162293999454,0.09449521795190083,0.16863212339538308,-0.22551120326373206,0.04436130847269096,-0.15161467633782322,0.13255045539225405,-0.9754453759935744,-0.777753558069243,0.12696095280924408,-0.29738640335616834,-0.0702823406500176,1.253152720455168,0.22033129439631224,0.5482332853486835,0.32661365679269516,0.905953075765785,-0.12941869727853345,-0.4286932219220456,0.5436323813342409,-0.06881397873947692,0.7217660448118393,-0.19082562249778884,-0.22911388948119965,0.8607761223144681,-0.396454391273773,-0.657923288158532,0.19768140187635297,0.07077931622140683,-0.10809904189275885,-0.9049212923043839,0.03923046396314471,0.226568609242974,-0.7127161951069347,-0.17979122867133615,0.07789254247129779,-0.37271830719088145,-0.2952075321933339,-0.48022665604468406,-0.03554225992859349,-0.12690346235248143,0.20808645938963102,-0.7787731868912674,-1.2090607935284505,1.0509609096628592,0.10856803543057839,0.1707722248252327,-0.22253199356784759,-0.7779556582667562,-0.032012360457747246,-0.19389536625462012,-0.03282391306227843,-1.0528372458884034,0.015507639911496396,-0.13026979475431183,0.9293894317651461,0.12379687954561255,-0.2323752089831774,0.08786998115133529,0.07034612695773435,-0.03297175809592096,-0.1848172859237551,-0.03165263962421866,-0.2620922799768985,-0.8367126337004948,-0.1244214401241075,0.5919229932763124,-0.05342236332791968,-0.21300191761497905,0.2694639118456036,0.766421320602684,0.5550876787054861],\"y\":[-0.12952891108477133,-0.0012117105020510305,0.1468732787466377,-0.05233359536999964,-0.019917638418005864,0.1916239449039084,0.6459763497279148,-0.10397880937802079,0.12143933752806353,-0.0016039635639411576,0.1894944627260605,-0.2720657249587983,-0.17253037899376322,1.226852814227656,0.8270873344420254,-0.49716129622501715,0.49111214664247144,0.037459802365401015,-0.8825191392697713,0.8754203413672297,-0.6295286956560885,0.10006679894996785,0.6489836644635666,0.056177103463051936,-0.7793336003463447,-0.4722065990196082,0.6531778133239948,-0.2739920579948777,0.20248497339062232,0.182571117368937,0.07128558089330925,-0.35739534822928376,-0.0778775696978371,0.12186713003186678,0.07781076849063662,-0.24120512502921534,0.8136213905559324,0.12967692848735857,0.316528029345541,-0.050596399706912806,0.07072021719708237,-0.024504419126434848,-1.0379866938040616,-1.0818557048099071,0.543838670598099,1.23355959498245,1.1869779286725666,-0.8593909598152973,-1.2411898528989527,0.5071101593277245,-0.0986524318137901,-0.004193577415574065,0.2236082875438535,-0.9755677024981937,-0.7122451745045909,-0.1695744674253343,1.1496780188471505,-1.2161715640035258,0.4120862439305469,0.11969920084055383,1.029225377221494,-0.6452968343955796,0.21921837304981545,-0.14583425451958945,-0.2188122469648422,-0.13839913450503763,-0.7330196116529337,-0.24531916075623814,0.8796783629262879,-0.3990622137173868,0.6401320454931569,-0.5092791059520388,-0.08908801258106264,-0.16124813326396703,-0.011352070068914276,-0.051551021566345126,0.6663047063708655,0.06860116051966668,0.05681112989313508,-0.026796397475495646,0.12291999125593518,-0.8184377486995759,0.03529457716260487,-0.3246158734890432,-1.5095024685939789,0.3089315706214274,0.04578322864218505,0.7909950971707842,-0.1267096267753171,0.22945255507381496,-0.21438972367695242,-1.0367209178082462,0.3873073877383633,-0.3114369481377152,0.9312628653134385,0.09126378184880776,-0.04852814764487112,0.02926164651850946,-0.2205069587192634,-0.7500276698251003],\"z\":[0.4185705124135933,0.41524629386166517,0.4089699904900031,0.41770362599587435,0.4147488511445754,0.4030794410556223,0.37256946556617215,0.42049823741990255,0.40702798670020746,0.41425383711422503,0.402339247842403,0.4316685863377225,0.42524346552196646,0.33901003039547517,0.3646913820103884,0.4418527781504187,0.38030397764103524,0.4084950233084871,0.46753304952843955,0.3627625219431982,0.4567382835351464,0.40852222372967867,0.3772360560297433,0.41034041623967626,0.4667060253826214,0.4481652118607721,0.37610123615502034,0.4321377557217152,0.40243840403792347,0.4033861588797783,0.4106032904517443,0.4356118001230654,0.4193581048605619,0.4061457422948388,0.41004974307336,0.42531367861764385,0.3606047365085018,0.4068050861691721,0.39345541347271856,0.41719253773818027,0.415093871770162,0.41676572914770427,0.48106581379624136,0.48288029548527495,0.38427949204568146,0.3371835638831545,0.3388475191719529,0.46995334385700877,0.49115291134055494,0.3858042196598023,0.41968234365137275,0.4136576848890914,0.4039851739810719,0.47330762796437836,0.45587703486197556,0.42568378078637015,0.3432163724048248,0.48943749491267935,0.38502386953668216,0.40706444069095904,0.35133837059965134,0.45149340131731225,0.399982962566841,0.4237170243603312,0.42639887648469066,0.42172240586343923,0.45789746919097807,0.4294305652461962,0.3591754167076726,0.43998127976726287,0.37137692994310467,0.4410054889427735,0.4241897932782839,0.42480048765696143,0.41574516382696974,0.41662635751011956,0.3697545598861892,0.4099457403240201,0.41001303117539656,0.41586807598160613,0.40237791084040186,0.46523985395383755,0.4116109318946794,0.4383202867930145,0.508610581500477,0.3941943526618491,0.411855592823518,0.36549437190245004,0.42207363161294287,0.39932661272966596,0.4275253463917762,0.4776581831130372,0.3868432383489747,0.43317237014032195,0.3589243247586378,0.408450082346281,0.4164777418735932,0.4136278698274294,0.4311839955662078,0.4632072463646454],\"type\":\"mesh3d\"},{\"marker\":{\"color\":[0,1,0,1,1,1,0,1,1,1,1,1,1,0,0,0,0,0,0,0,0,1,0,1,0,0,0,1,1,1,1,1,1,1,1,0,0,1,1,1,0,1,0,0,0,0,0,0,0,0,1,1,0,0,0,1,0,0,0,1,0,0,1,1,1,1,0,1,0,1,0,0,0,1,1,1,0,1,1,1,0,0,1,0,0,1,1,0,1,1,1,0,0,1,0,1,1,1,0,0],\"colorscale\":[[0.0,\"#440154\"],[0.1111111111111111,\"#482878\"],[0.2222222222222222,\"#3e4989\"],[0.3333333333333333,\"#31688e\"],[0.4444444444444444,\"#26828e\"],[0.5555555555555556,\"#1f9e89\"],[0.6666666666666666,\"#35b779\"],[0.7777777777777778,\"#6ece58\"],[0.8888888888888888,\"#b5de2b\"],[1.0,\"#fde725\"]],\"opacity\":1.0,\"size\":8},\"mode\":\"markers\",\"x\":[-0.9283056915440304,0.20266034341376832,0.9139330143384843,0.02785752096536253,-0.20125327473436033,0.15671255847329107,-0.40012922584020355,-0.07275953506064481,0.056667526655564515,-0.04484794539232173,-0.055657843734812404,0.10482078888952026,0.04580996417372454,0.2137632099748804,0.4205936525061107,-0.8196005787524909,-0.8589541362607636,-0.8559867587484521,-0.3951929686434842,0.6818666018211686,0.8023702856491141,0.09723740206419922,0.781252464511702,-0.123791706573373,0.9636393865253776,1.0942411259003704,0.568436376946806,0.18989731165596035,0.16489162293999454,0.09449521795190083,0.16863212339538308,-0.22551120326373206,0.04436130847269096,-0.15161467633782322,0.13255045539225405,-0.9754453759935744,-0.777753558069243,0.12696095280924408,-0.29738640335616834,-0.0702823406500176,1.253152720455168,0.22033129439631224,0.5482332853486835,0.32661365679269516,0.905953075765785,-0.12941869727853345,-0.4286932219220456,0.5436323813342409,-0.06881397873947692,0.7217660448118393,-0.19082562249778884,-0.22911388948119965,0.8607761223144681,-0.396454391273773,-0.657923288158532,0.19768140187635297,0.07077931622140683,-0.10809904189275885,-0.9049212923043839,0.03923046396314471,0.226568609242974,-0.7127161951069347,-0.17979122867133615,0.07789254247129779,-0.37271830719088145,-0.2952075321933339,-0.48022665604468406,-0.03554225992859349,-0.12690346235248143,0.20808645938963102,-0.7787731868912674,-1.2090607935284505,1.0509609096628592,0.10856803543057839,0.1707722248252327,-0.22253199356784759,-0.7779556582667562,-0.032012360457747246,-0.19389536625462012,-0.03282391306227843,-1.0528372458884034,0.015507639911496396,-0.13026979475431183,0.9293894317651461,0.12379687954561255,-0.2323752089831774,0.08786998115133529,0.07034612695773435,-0.03297175809592096,-0.1848172859237551,-0.03165263962421866,-0.2620922799768985,-0.8367126337004948,-0.1244214401241075,0.5919229932763124,-0.05342236332791968,-0.21300191761497905,0.2694639118456036,0.766421320602684,0.5550876787054861],\"y\":[-0.12952891108477133,-0.0012117105020510305,0.1468732787466377,-0.05233359536999964,-0.019917638418005864,0.1916239449039084,0.6459763497279148,-0.10397880937802079,0.12143933752806353,-0.0016039635639411576,0.1894944627260605,-0.2720657249587983,-0.17253037899376322,1.226852814227656,0.8270873344420254,-0.49716129622501715,0.49111214664247144,0.037459802365401015,-0.8825191392697713,0.8754203413672297,-0.6295286956560885,0.10006679894996785,0.6489836644635666,0.056177103463051936,-0.7793336003463447,-0.4722065990196082,0.6531778133239948,-0.2739920579948777,0.20248497339062232,0.182571117368937,0.07128558089330925,-0.35739534822928376,-0.0778775696978371,0.12186713003186678,0.07781076849063662,-0.24120512502921534,0.8136213905559324,0.12967692848735857,0.316528029345541,-0.050596399706912806,0.07072021719708237,-0.024504419126434848,-1.0379866938040616,-1.0818557048099071,0.543838670598099,1.23355959498245,1.1869779286725666,-0.8593909598152973,-1.2411898528989527,0.5071101593277245,-0.0986524318137901,-0.004193577415574065,0.2236082875438535,-0.9755677024981937,-0.7122451745045909,-0.1695744674253343,1.1496780188471505,-1.2161715640035258,0.4120862439305469,0.11969920084055383,1.029225377221494,-0.6452968343955796,0.21921837304981545,-0.14583425451958945,-0.2188122469648422,-0.13839913450503763,-0.7330196116529337,-0.24531916075623814,0.8796783629262879,-0.3990622137173868,0.6401320454931569,-0.5092791059520388,-0.08908801258106264,-0.16124813326396703,-0.011352070068914276,-0.051551021566345126,0.6663047063708655,0.06860116051966668,0.05681112989313508,-0.026796397475495646,0.12291999125593518,-0.8184377486995759,0.03529457716260487,-0.3246158734890432,-1.5095024685939789,0.3089315706214274,0.04578322864218505,0.7909950971707842,-0.1267096267753171,0.22945255507381496,-0.21438972367695242,-1.0367209178082462,0.3873073877383633,-0.3114369481377152,0.9312628653134385,0.09126378184880776,-0.04852814764487112,0.02926164651850946,-0.2205069587192634,-0.7500276698251003],\"z\":[0.8785291957598471,0.04107268303492729,0.8568453147076157,0.00351484667868646,0.04089959291145434,0.061278562243780796,0.577388841779282,0.016105542741911984,0.017958721276514055,0.002013910905027123,0.03900594697304713,0.08500715648077788,0.031865284493329496,1.5508625377170842,0.8609724793228458,0.9189144631555574,0.9789933487792508,0.7341165679459356,0.9350175136427079,1.2313028367586651,1.040104453947097,0.01946847661228802,1.0315352100461674,0.018480253569846523,1.5359617278918023,1.4203427137693752,0.7497611704551268,0.11113263681842936,0.06818941176478636,0.04226155911311941,0.03351842708413224,0.1785867377333873,0.008032841551450717,0.037838607463226814,0.023624138917797376,1.0096735938876051,1.2668803642595363,0.03293518932014661,0.1886286662624893,0.0074996030705468016,1.575393089904591,0.0491463458470784,1.3779761116784979,1.2770882468332374,1.116511475127394,1.538418473578539,1.5926944816777207,1.0340889878473956,1.5452876146092809,0.7781069371367162,0.04614672050444312,0.05251076044474378,0.7909361990050269,1.1089084265178621,0.9401562417064098,0.06783343665038594,1.3267692586250788,1.4907586759489144,0.9886976177026223,0.015866927984630838,1.1106382118110223,0.9243723792486624,0.08038158098975674,0.027334877963927324,0.18679773593703936,0.10630180749542176,0.767935392243677,0.06144474287497671,0.7899385109577215,0.20255062499833387,1.016256712288034,1.7211932102069545,1.112455507625028,0.0377879787983694,0.02929202226660936,0.05217799598581434,1.0491769679612273,0.005730910446721814,0.04082291753474795,0.0017954561863847618,1.1235755905802378,0.6700808353920547,0.0182159266024176,0.9691401811977957,2.293923370076547,0.14943695307659735,0.009817237612438613,0.630621821326172,0.017142466349476086,0.08680590420612513,0.04696484321346067,1.1434826246446612,0.8500950439907332,0.11247366742789079,1.217623354280985,0.011183026780887029,0.04772479802150074,0.07346704374410942,0.636024959517981,0.8706638365539147],\"type\":\"scatter3d\"},{\"color\":\"pink\",\"opacity\":0.9,\"x\":[-0.9283056915440304,0.20266034341376832,0.9139330143384843,0.02785752096536253,-0.20125327473436033,0.15671255847329107,-0.40012922584020355,-0.07275953506064481,0.056667526655564515,-0.04484794539232173,-0.055657843734812404,0.10482078888952026,0.04580996417372454,0.2137632099748804,0.4205936525061107,-0.8196005787524909,-0.8589541362607636,-0.8559867587484521,-0.3951929686434842,0.6818666018211686,0.8023702856491141,0.09723740206419922,0.781252464511702,-0.123791706573373,0.9636393865253776,1.0942411259003704,0.568436376946806,0.18989731165596035,0.16489162293999454,0.09449521795190083,0.16863212339538308,-0.22551120326373206,0.04436130847269096,-0.15161467633782322,0.13255045539225405,-0.9754453759935744,-0.777753558069243,0.12696095280924408,-0.29738640335616834,-0.0702823406500176,1.253152720455168,0.22033129439631224,0.5482332853486835,0.32661365679269516,0.905953075765785,-0.12941869727853345,-0.4286932219220456,0.5436323813342409,-0.06881397873947692,0.7217660448118393,-0.19082562249778884,-0.22911388948119965,0.8607761223144681,-0.396454391273773,-0.657923288158532,0.19768140187635297,0.07077931622140683,-0.10809904189275885,-0.9049212923043839,0.03923046396314471,0.226568609242974,-0.7127161951069347,-0.17979122867133615,0.07789254247129779,-0.37271830719088145,-0.2952075321933339,-0.48022665604468406,-0.03554225992859349,-0.12690346235248143,0.20808645938963102,-0.7787731868912674,-1.2090607935284505,1.0509609096628592,0.10856803543057839,0.1707722248252327,-0.22253199356784759,-0.7779556582667562,-0.032012360457747246,-0.19389536625462012,-0.03282391306227843,-1.0528372458884034,0.015507639911496396,-0.13026979475431183,0.9293894317651461,0.12379687954561255,-0.2323752089831774,0.08786998115133529,0.07034612695773435,-0.03297175809592096,-0.1848172859237551,-0.03165263962421866,-0.2620922799768985,-0.8367126337004948,-0.1244214401241075,0.5919229932763124,-0.05342236332791968,-0.21300191761497905,0.2694639118456036,0.766421320602684,0.5550876787054861],\"y\":[-0.12952891108477133,-0.0012117105020510305,0.1468732787466377,-0.05233359536999964,-0.019917638418005864,0.1916239449039084,0.6459763497279148,-0.10397880937802079,0.12143933752806353,-0.0016039635639411576,0.1894944627260605,-0.2720657249587983,-0.17253037899376322,1.226852814227656,0.8270873344420254,-0.49716129622501715,0.49111214664247144,0.037459802365401015,-0.8825191392697713,0.8754203413672297,-0.6295286956560885,0.10006679894996785,0.6489836644635666,0.056177103463051936,-0.7793336003463447,-0.4722065990196082,0.6531778133239948,-0.2739920579948777,0.20248497339062232,0.182571117368937,0.07128558089330925,-0.35739534822928376,-0.0778775696978371,0.12186713003186678,0.07781076849063662,-0.24120512502921534,0.8136213905559324,0.12967692848735857,0.316528029345541,-0.050596399706912806,0.07072021719708237,-0.024504419126434848,-1.0379866938040616,-1.0818557048099071,0.543838670598099,1.23355959498245,1.1869779286725666,-0.8593909598152973,-1.2411898528989527,0.5071101593277245,-0.0986524318137901,-0.004193577415574065,0.2236082875438535,-0.9755677024981937,-0.7122451745045909,-0.1695744674253343,1.1496780188471505,-1.2161715640035258,0.4120862439305469,0.11969920084055383,1.029225377221494,-0.6452968343955796,0.21921837304981545,-0.14583425451958945,-0.2188122469648422,-0.13839913450503763,-0.7330196116529337,-0.24531916075623814,0.8796783629262879,-0.3990622137173868,0.6401320454931569,-0.5092791059520388,-0.08908801258106264,-0.16124813326396703,-0.011352070068914276,-0.051551021566345126,0.6663047063708655,0.06860116051966668,0.05681112989313508,-0.026796397475495646,0.12291999125593518,-0.8184377486995759,0.03529457716260487,-0.3246158734890432,-1.5095024685939789,0.3089315706214274,0.04578322864218505,0.7909950971707842,-0.1267096267753171,0.22945255507381496,-0.21438972367695242,-1.0367209178082462,0.3873073877383633,-0.3114369481377152,0.9312628653134385,0.09126378184880776,-0.04852814764487112,0.02926164651850946,-0.2205069587192634,-0.7500276698251003],\"z\":[0.2060814933470285,0.2107277654878245,0.2136498394434321,0.2100096347403305,0.20906839417756243,0.21053900127519434,0.20825136540522463,0.20959627641669173,0.21012799296036275,0.20971094373425278,0.20966653415168254,0.21032581778789125,0.2100833875623959,0.21077337865213827,0.211623086329732,0.20652807929347936,0.20636640570449424,0.2063785963831181,0.20827164470060924,0.212696456517716,0.21319151374465908,0.21029466346685036,0.2131047568120968,0.20938662435866792,0.21385404480873352,0.21439058720208679,0.21223045870923393,0.21067533197783792,0.21057260277886006,0.21028339793521453,0.21058796962677703,0.20896873695176113,0.21007743614704186,0.2092723211123325,0.21043973772267513,0.20588783253334011,0.20669999661050395,0.21041677474294843,0.20867345687306618,0.20960645330885444,0.21504343308057242,0.21080036187420012,0.21214745969887563,0.21123699459719678,0.2136170559953625,0.2093635073689956,0.20813401785001726,0.2121285581125468,0.2096124856819113,0.2128603727315285,0.20911123340401414,0.20895393627686296,0.2134314585381986,0.20826646248236066,0.2071922872960779,0.21070731083521696,0.21018596748186905,0.20945109348370503,0.20617756191085632,0.21005635744161075,0.2108259862177345,0.20696718526012056,0.20915656526637047,0.21021519027365457,0.20836397584951502,0.208682408183777,0.20792230648832946,0.20974917365963044,0.20937384054046423,0.21075005723727766,0.20669580773759064,0.2049280859338826,0.21421278198359542,0.21034121235030093,0.21059676166238614,0.20898097623975362,0.2066991663357757,0.20976367530960424,0.20909862218099248,0.2097603412623025,0.20556988868896123,0.20995889854975616,0.20936001086214337,0.21371333800967215,0.2104037759923212,0.208940538016017,0.21025617991785486,0.21018418783938178,0.20975973388043626,0.20913591705142134,0.20976515312665237,0.2088184533602481,0.20645777898231252,0.20938403726642776,0.21232694720469739,0.20967571802636562,0.20902012801357425,0.21100221012127643,0.2130438270152412,0.21217561914479302],\"type\":\"mesh3d\"},{\"color\":\"pink\",\"opacity\":0.9,\"x\":[-0.9283056915440304,0.20266034341376832,0.9139330143384843,0.02785752096536253,-0.20125327473436033,0.15671255847329107,-0.40012922584020355,-0.07275953506064481,0.056667526655564515,-0.04484794539232173,-0.055657843734812404,0.10482078888952026,0.04580996417372454,0.2137632099748804,0.4205936525061107,-0.8196005787524909,-0.8589541362607636,-0.8559867587484521,-0.3951929686434842,0.6818666018211686,0.8023702856491141,0.09723740206419922,0.781252464511702,-0.123791706573373,0.9636393865253776,1.0942411259003704,0.568436376946806,0.18989731165596035,0.16489162293999454,0.09449521795190083,0.16863212339538308,-0.22551120326373206,0.04436130847269096,-0.15161467633782322,0.13255045539225405,-0.9754453759935744,-0.777753558069243,0.12696095280924408,-0.29738640335616834,-0.0702823406500176,1.253152720455168,0.22033129439631224,0.5482332853486835,0.32661365679269516,0.905953075765785,-0.12941869727853345,-0.4286932219220456,0.5436323813342409,-0.06881397873947692,0.7217660448118393,-0.19082562249778884,-0.22911388948119965,0.8607761223144681,-0.396454391273773,-0.657923288158532,0.19768140187635297,0.07077931622140683,-0.10809904189275885,-0.9049212923043839,0.03923046396314471,0.226568609242974,-0.7127161951069347,-0.17979122867133615,0.07789254247129779,-0.37271830719088145,-0.2952075321933339,-0.48022665604468406,-0.03554225992859349,-0.12690346235248143,0.20808645938963102,-0.7787731868912674,-1.2090607935284505,1.0509609096628592,0.10856803543057839,0.1707722248252327,-0.22253199356784759,-0.7779556582667562,-0.032012360457747246,-0.19389536625462012,-0.03282391306227843,-1.0528372458884034,0.015507639911496396,-0.13026979475431183,0.9293894317651461,0.12379687954561255,-0.2323752089831774,0.08786998115133529,0.07034612695773435,-0.03297175809592096,-0.1848172859237551,-0.03165263962421866,-0.2620922799768985,-0.8367126337004948,-0.1244214401241075,0.5919229932763124,-0.05342236332791968,-0.21300191761497905,0.2694639118456036,0.766421320602684,0.5550876787054861],\"y\":[-0.12952891108477133,-0.0012117105020510305,0.1468732787466377,-0.05233359536999964,-0.019917638418005864,0.1916239449039084,0.6459763497279148,-0.10397880937802079,0.12143933752806353,-0.0016039635639411576,0.1894944627260605,-0.2720657249587983,-0.17253037899376322,1.226852814227656,0.8270873344420254,-0.49716129622501715,0.49111214664247144,0.037459802365401015,-0.8825191392697713,0.8754203413672297,-0.6295286956560885,0.10006679894996785,0.6489836644635666,0.056177103463051936,-0.7793336003463447,-0.4722065990196082,0.6531778133239948,-0.2739920579948777,0.20248497339062232,0.182571117368937,0.07128558089330925,-0.35739534822928376,-0.0778775696978371,0.12186713003186678,0.07781076849063662,-0.24120512502921534,0.8136213905559324,0.12967692848735857,0.316528029345541,-0.050596399706912806,0.07072021719708237,-0.024504419126434848,-1.0379866938040616,-1.0818557048099071,0.543838670598099,1.23355959498245,1.1869779286725666,-0.8593909598152973,-1.2411898528989527,0.5071101593277245,-0.0986524318137901,-0.004193577415574065,0.2236082875438535,-0.9755677024981937,-0.7122451745045909,-0.1695744674253343,1.1496780188471505,-1.2161715640035258,0.4120862439305469,0.11969920084055383,1.029225377221494,-0.6452968343955796,0.21921837304981545,-0.14583425451958945,-0.2188122469648422,-0.13839913450503763,-0.7330196116529337,-0.24531916075623814,0.8796783629262879,-0.3990622137173868,0.6401320454931569,-0.5092791059520388,-0.08908801258106264,-0.16124813326396703,-0.011352070068914276,-0.051551021566345126,0.6663047063708655,0.06860116051966668,0.05681112989313508,-0.026796397475495646,0.12291999125593518,-0.8184377486995759,0.03529457716260487,-0.3246158734890432,-1.5095024685939789,0.3089315706214274,0.04578322864218505,0.7909950971707842,-0.1267096267753171,0.22945255507381496,-0.21438972367695242,-1.0367209178082462,0.3873073877383633,-0.3114369481377152,0.9312628653134385,0.09126378184880776,-0.04852814764487112,0.02926164651850946,-0.2205069587192634,-0.7500276698251003],\"z\":[0.6149680180189631,0.6196142901597591,0.6225363641153667,0.6188961594122651,0.617954918849497,0.619425525947129,0.6171378900771592,0.6184828010886263,0.6190145176322973,0.6185974684061873,0.6185530588236171,0.6192123424598258,0.6189699122343305,0.6196599033240728,0.6205096110016666,0.6154146039654139,0.6152529303764288,0.6152651210550527,0.6171581693725439,0.6215829811896506,0.6220780384165937,0.619181188138785,0.6219912814840314,0.6182731490306025,0.6227405694806681,0.6232771118740214,0.6211169833811685,0.6195618566497725,0.6194591274507947,0.6191699226071491,0.6194744942987116,0.6178552616236958,0.6189639608189764,0.618158845784267,0.6193262623946098,0.6147743572052747,0.6155865212824385,0.619303299414883,0.6175599815450008,0.6184929779807891,0.623929957752507,0.6196868865461347,0.6210339843708103,0.6201235192691313,0.622503580667297,0.6182500320409302,0.6170205425219518,0.6210150827844814,0.6184990103538459,0.6217468974034631,0.6179977580759487,0.6178404609487975,0.6223179832101332,0.6171529871542952,0.6160788119680125,0.6195938355071515,0.6190724921538037,0.6183376181556396,0.6150640865827909,0.6189428821135453,0.619712510889669,0.6158537099320551,0.618043089938305,0.6191017149455892,0.6172505005214496,0.6175689328557116,0.6168088311602641,0.6186356983315651,0.6182603652123988,0.6196365819092122,0.6155823324095252,0.6138146106058172,0.62309930665553,0.6192277370222355,0.6194832863343207,0.6178675009116882,0.6155856910077103,0.6186501999815388,0.617985146852927,0.6186468659342371,0.6144564133608958,0.6188454232216908,0.6182465355340779,0.6225998626816067,0.6192903006642558,0.6178270626879516,0.6191427045897895,0.6190707125113164,0.6186462585523709,0.618022441723356,0.618651677798587,0.6177049780321827,0.6153443036542471,0.6182705619383624,0.621213471876632,0.6185622426983002,0.6179066526855088,0.619888734793211,0.6219303516871758,0.6210621438167276],\"type\":\"mesh3d\"},{\"color\":\"yellow\",\"opacity\":0.2,\"x\":[-0.9283056915440304,0.20266034341376832,0.9139330143384843,0.02785752096536253,-0.20125327473436033,0.15671255847329107,-0.40012922584020355,-0.07275953506064481,0.056667526655564515,-0.04484794539232173,-0.055657843734812404,0.10482078888952026,0.04580996417372454,0.2137632099748804,0.4205936525061107,-0.8196005787524909,-0.8589541362607636,-0.8559867587484521,-0.3951929686434842,0.6818666018211686,0.8023702856491141,0.09723740206419922,0.781252464511702,-0.123791706573373,0.9636393865253776,1.0942411259003704,0.568436376946806,0.18989731165596035,0.16489162293999454,0.09449521795190083,0.16863212339538308,-0.22551120326373206,0.04436130847269096,-0.15161467633782322,0.13255045539225405,-0.9754453759935744,-0.777753558069243,0.12696095280924408,-0.29738640335616834,-0.0702823406500176,1.253152720455168,0.22033129439631224,0.5482332853486835,0.32661365679269516,0.905953075765785,-0.12941869727853345,-0.4286932219220456,0.5436323813342409,-0.06881397873947692,0.7217660448118393,-0.19082562249778884,-0.22911388948119965,0.8607761223144681,-0.396454391273773,-0.657923288158532,0.19768140187635297,0.07077931622140683,-0.10809904189275885,-0.9049212923043839,0.03923046396314471,0.226568609242974,-0.7127161951069347,-0.17979122867133615,0.07789254247129779,-0.37271830719088145,-0.2952075321933339,-0.48022665604468406,-0.03554225992859349,-0.12690346235248143,0.20808645938963102,-0.7787731868912674,-1.2090607935284505,1.0509609096628592,0.10856803543057839,0.1707722248252327,-0.22253199356784759,-0.7779556582667562,-0.032012360457747246,-0.19389536625462012,-0.03282391306227843,-1.0528372458884034,0.015507639911496396,-0.13026979475431183,0.9293894317651461,0.12379687954561255,-0.2323752089831774,0.08786998115133529,0.07034612695773435,-0.03297175809592096,-0.1848172859237551,-0.03165263962421866,-0.2620922799768985,-0.8367126337004948,-0.1244214401241075,0.5919229932763124,-0.05342236332791968,-0.21300191761497905,0.2694639118456036,0.766421320602684,0.5550876787054861],\"y\":[-0.12952891108477133,-0.0012117105020510305,0.1468732787466377,-0.05233359536999964,-0.019917638418005864,0.1916239449039084,0.6459763497279148,-0.10397880937802079,0.12143933752806353,-0.0016039635639411576,0.1894944627260605,-0.2720657249587983,-0.17253037899376322,1.226852814227656,0.8270873344420254,-0.49716129622501715,0.49111214664247144,0.037459802365401015,-0.8825191392697713,0.8754203413672297,-0.6295286956560885,0.10006679894996785,0.6489836644635666,0.056177103463051936,-0.7793336003463447,-0.4722065990196082,0.6531778133239948,-0.2739920579948777,0.20248497339062232,0.182571117368937,0.07128558089330925,-0.35739534822928376,-0.0778775696978371,0.12186713003186678,0.07781076849063662,-0.24120512502921534,0.8136213905559324,0.12967692848735857,0.316528029345541,-0.050596399706912806,0.07072021719708237,-0.024504419126434848,-1.0379866938040616,-1.0818557048099071,0.543838670598099,1.23355959498245,1.1869779286725666,-0.8593909598152973,-1.2411898528989527,0.5071101593277245,-0.0986524318137901,-0.004193577415574065,0.2236082875438535,-0.9755677024981937,-0.7122451745045909,-0.1695744674253343,1.1496780188471505,-1.2161715640035258,0.4120862439305469,0.11969920084055383,1.029225377221494,-0.6452968343955796,0.21921837304981545,-0.14583425451958945,-0.2188122469648422,-0.13839913450503763,-0.7330196116529337,-0.24531916075623814,0.8796783629262879,-0.3990622137173868,0.6401320454931569,-0.5092791059520388,-0.08908801258106264,-0.16124813326396703,-0.011352070068914276,-0.051551021566345126,0.6663047063708655,0.06860116051966668,0.05681112989313508,-0.026796397475495646,0.12291999125593518,-0.8184377486995759,0.03529457716260487,-0.3246158734890432,-1.5095024685939789,0.3089315706214274,0.04578322864218505,0.7909950971707842,-0.1267096267753171,0.22945255507381496,-0.21438972367695242,-1.0367209178082462,0.3873073877383633,-0.3114369481377152,0.9312628653134385,0.09126378184880776,-0.04852814764487112,0.02926164651850946,-0.2205069587192634,-0.7500276698251003],\"z\":[-2.245483242017483,1.8266870550286236,-2.186493203535665,2.022038058336394,1.8251035903831196,1.6686458442204557,-0.9999125868894372,1.9742143196156197,1.8994065056823355,2.0125239059709936,1.7737654878772273,1.692374684035691,1.9204423033148044,-5.9161715943495885,-2.4228064991356315,-2.328978792821799,-2.922755888169274,-1.5896595676895013,-2.2822235302423564,-4.240147631839692,-2.8479491898924265,1.8993307464935019,-3.1942386105668548,1.9130314533641564,-5.220024859512316,-4.746096481798203,-1.8241793253691316,1.5671225290392792,1.6317781096124049,1.7629827774027778,1.8408995680879598,1.254776768590863,2.0080585913925235,1.7980473662615428,1.8865003528253634,-2.8528005765632227,-4.424368554059605,1.8252043465332473,0.9999485715356853,2.000089687352627,-5.664492365035965,1.79468981569577,-4.378647727303353,-3.877262697715764,-3.5747007433740774,-5.8643372918276295,-6.121185324469117,-2.7540672253197758,-5.1462052934809,-1.915191972208485,1.823572447792163,1.7630917647780544,-1.8890654174663837,-3.1029546640613552,-2.3642141844468187,1.7469981109208401,-4.801630241173051,-4.888373702473192,-2.947089236995796,1.9097964467380373,-3.706843964120058,-2.3085591356210036,1.5602695903812926,1.9351074333300662,1.1697145099074235,1.539859325341464,-1.5135815146262992,1.7964787433147735,-2.102952600831602,1.1591183637325084,-3.148253955847872,-6.249778901491593,-3.36006076975695,1.889365576861849,1.8866347883371628,1.7792091290240932,-3.3168884224220156,1.9733459972124119,1.802358001521918,2.021470976401819,-3.5208321153023925,-1.000018061952035,1.9205244380877668,-2.5914222745918614,-8.715760988230334,1.1948869736082908,1.9627206137451085,-1.2943320046675546,1.9768430919810194,1.5257022841000725,1.8578673767907874,-3.250504185958398,-2.2615600141194325,1.565626628545258,-4.192103226970881,1.9394274924606358,1.8002237719276921,1.6606392317762073,-1.0000179765845494,-1.9891720240246697],\"type\":\"mesh3d\"}],                        {\"template\":{\"data\":{\"histogram2dcontour\":[{\"type\":\"histogram2dcontour\",\"colorbar\":{\"outlinewidth\":0,\"ticks\":\"\"},\"colorscale\":[[0.0,\"#0d0887\"],[0.1111111111111111,\"#46039f\"],[0.2222222222222222,\"#7201a8\"],[0.3333333333333333,\"#9c179e\"],[0.4444444444444444,\"#bd3786\"],[0.5555555555555556,\"#d8576b\"],[0.6666666666666666,\"#ed7953\"],[0.7777777777777778,\"#fb9f3a\"],[0.8888888888888888,\"#fdca26\"],[1.0,\"#f0f921\"]]}],\"choropleth\":[{\"type\":\"choropleth\",\"colorbar\":{\"outlinewidth\":0,\"ticks\":\"\"}}],\"histogram2d\":[{\"type\":\"histogram2d\",\"colorbar\":{\"outlinewidth\":0,\"ticks\":\"\"},\"colorscale\":[[0.0,\"#0d0887\"],[0.1111111111111111,\"#46039f\"],[0.2222222222222222,\"#7201a8\"],[0.3333333333333333,\"#9c179e\"],[0.4444444444444444,\"#bd3786\"],[0.5555555555555556,\"#d8576b\"],[0.6666666666666666,\"#ed7953\"],[0.7777777777777778,\"#fb9f3a\"],[0.8888888888888888,\"#fdca26\"],[1.0,\"#f0f921\"]]}],\"heatmap\":[{\"type\":\"heatmap\",\"colorbar\":{\"outlinewidth\":0,\"ticks\":\"\"},\"colorscale\":[[0.0,\"#0d0887\"],[0.1111111111111111,\"#46039f\"],[0.2222222222222222,\"#7201a8\"],[0.3333333333333333,\"#9c179e\"],[0.4444444444444444,\"#bd3786\"],[0.5555555555555556,\"#d8576b\"],[0.6666666666666666,\"#ed7953\"],[0.7777777777777778,\"#fb9f3a\"],[0.8888888888888888,\"#fdca26\"],[1.0,\"#f0f921\"]]}],\"heatmapgl\":[{\"type\":\"heatmapgl\",\"colorbar\":{\"outlinewidth\":0,\"ticks\":\"\"},\"colorscale\":[[0.0,\"#0d0887\"],[0.1111111111111111,\"#46039f\"],[0.2222222222222222,\"#7201a8\"],[0.3333333333333333,\"#9c179e\"],[0.4444444444444444,\"#bd3786\"],[0.5555555555555556,\"#d8576b\"],[0.6666666666666666,\"#ed7953\"],[0.7777777777777778,\"#fb9f3a\"],[0.8888888888888888,\"#fdca26\"],[1.0,\"#f0f921\"]]}],\"contourcarpet\":[{\"type\":\"contourcarpet\",\"colorbar\":{\"outlinewidth\":0,\"ticks\":\"\"}}],\"contour\":[{\"type\":\"contour\",\"colorbar\":{\"outlinewidth\":0,\"ticks\":\"\"},\"colorscale\":[[0.0,\"#0d0887\"],[0.1111111111111111,\"#46039f\"],[0.2222222222222222,\"#7201a8\"],[0.3333333333333333,\"#9c179e\"],[0.4444444444444444,\"#bd3786\"],[0.5555555555555556,\"#d8576b\"],[0.6666666666666666,\"#ed7953\"],[0.7777777777777778,\"#fb9f3a\"],[0.8888888888888888,\"#fdca26\"],[1.0,\"#f0f921\"]]}],\"surface\":[{\"type\":\"surface\",\"colorbar\":{\"outlinewidth\":0,\"ticks\":\"\"},\"colorscale\":[[0.0,\"#0d0887\"],[0.1111111111111111,\"#46039f\"],[0.2222222222222222,\"#7201a8\"],[0.3333333333333333,\"#9c179e\"],[0.4444444444444444,\"#bd3786\"],[0.5555555555555556,\"#d8576b\"],[0.6666666666666666,\"#ed7953\"],[0.7777777777777778,\"#fb9f3a\"],[0.8888888888888888,\"#fdca26\"],[1.0,\"#f0f921\"]]}],\"mesh3d\":[{\"type\":\"mesh3d\",\"colorbar\":{\"outlinewidth\":0,\"ticks\":\"\"}}],\"scatter\":[{\"fillpattern\":{\"fillmode\":\"overlay\",\"size\":10,\"solidity\":0.2},\"type\":\"scatter\"}],\"parcoords\":[{\"type\":\"parcoords\",\"line\":{\"colorbar\":{\"outlinewidth\":0,\"ticks\":\"\"}}}],\"scatterpolargl\":[{\"type\":\"scatterpolargl\",\"marker\":{\"colorbar\":{\"outlinewidth\":0,\"ticks\":\"\"}}}],\"bar\":[{\"error_x\":{\"color\":\"#2a3f5f\"},\"error_y\":{\"color\":\"#2a3f5f\"},\"marker\":{\"line\":{\"color\":\"#E5ECF6\",\"width\":0.5},\"pattern\":{\"fillmode\":\"overlay\",\"size\":10,\"solidity\":0.2}},\"type\":\"bar\"}],\"scattergeo\":[{\"type\":\"scattergeo\",\"marker\":{\"colorbar\":{\"outlinewidth\":0,\"ticks\":\"\"}}}],\"scatterpolar\":[{\"type\":\"scatterpolar\",\"marker\":{\"colorbar\":{\"outlinewidth\":0,\"ticks\":\"\"}}}],\"histogram\":[{\"marker\":{\"pattern\":{\"fillmode\":\"overlay\",\"size\":10,\"solidity\":0.2}},\"type\":\"histogram\"}],\"scattergl\":[{\"type\":\"scattergl\",\"marker\":{\"colorbar\":{\"outlinewidth\":0,\"ticks\":\"\"}}}],\"scatter3d\":[{\"type\":\"scatter3d\",\"line\":{\"colorbar\":{\"outlinewidth\":0,\"ticks\":\"\"}},\"marker\":{\"colorbar\":{\"outlinewidth\":0,\"ticks\":\"\"}}}],\"scattermapbox\":[{\"type\":\"scattermapbox\",\"marker\":{\"colorbar\":{\"outlinewidth\":0,\"ticks\":\"\"}}}],\"scatterternary\":[{\"type\":\"scatterternary\",\"marker\":{\"colorbar\":{\"outlinewidth\":0,\"ticks\":\"\"}}}],\"scattercarpet\":[{\"type\":\"scattercarpet\",\"marker\":{\"colorbar\":{\"outlinewidth\":0,\"ticks\":\"\"}}}],\"carpet\":[{\"aaxis\":{\"endlinecolor\":\"#2a3f5f\",\"gridcolor\":\"white\",\"linecolor\":\"white\",\"minorgridcolor\":\"white\",\"startlinecolor\":\"#2a3f5f\"},\"baxis\":{\"endlinecolor\":\"#2a3f5f\",\"gridcolor\":\"white\",\"linecolor\":\"white\",\"minorgridcolor\":\"white\",\"startlinecolor\":\"#2a3f5f\"},\"type\":\"carpet\"}],\"table\":[{\"cells\":{\"fill\":{\"color\":\"#EBF0F8\"},\"line\":{\"color\":\"white\"}},\"header\":{\"fill\":{\"color\":\"#C8D4E3\"},\"line\":{\"color\":\"white\"}},\"type\":\"table\"}],\"barpolar\":[{\"marker\":{\"line\":{\"color\":\"#E5ECF6\",\"width\":0.5},\"pattern\":{\"fillmode\":\"overlay\",\"size\":10,\"solidity\":0.2}},\"type\":\"barpolar\"}],\"pie\":[{\"automargin\":true,\"type\":\"pie\"}]},\"layout\":{\"autotypenumbers\":\"strict\",\"colorway\":[\"#636efa\",\"#EF553B\",\"#00cc96\",\"#ab63fa\",\"#FFA15A\",\"#19d3f3\",\"#FF6692\",\"#B6E880\",\"#FF97FF\",\"#FECB52\"],\"font\":{\"color\":\"#2a3f5f\"},\"hovermode\":\"closest\",\"hoverlabel\":{\"align\":\"left\"},\"paper_bgcolor\":\"white\",\"plot_bgcolor\":\"#E5ECF6\",\"polar\":{\"bgcolor\":\"#E5ECF6\",\"angularaxis\":{\"gridcolor\":\"white\",\"linecolor\":\"white\",\"ticks\":\"\"},\"radialaxis\":{\"gridcolor\":\"white\",\"linecolor\":\"white\",\"ticks\":\"\"}},\"ternary\":{\"bgcolor\":\"#E5ECF6\",\"aaxis\":{\"gridcolor\":\"white\",\"linecolor\":\"white\",\"ticks\":\"\"},\"baxis\":{\"gridcolor\":\"white\",\"linecolor\":\"white\",\"ticks\":\"\"},\"caxis\":{\"gridcolor\":\"white\",\"linecolor\":\"white\",\"ticks\":\"\"}},\"coloraxis\":{\"colorbar\":{\"outlinewidth\":0,\"ticks\":\"\"}},\"colorscale\":{\"sequential\":[[0.0,\"#0d0887\"],[0.1111111111111111,\"#46039f\"],[0.2222222222222222,\"#7201a8\"],[0.3333333333333333,\"#9c179e\"],[0.4444444444444444,\"#bd3786\"],[0.5555555555555556,\"#d8576b\"],[0.6666666666666666,\"#ed7953\"],[0.7777777777777778,\"#fb9f3a\"],[0.8888888888888888,\"#fdca26\"],[1.0,\"#f0f921\"]],\"sequentialminus\":[[0.0,\"#0d0887\"],[0.1111111111111111,\"#46039f\"],[0.2222222222222222,\"#7201a8\"],[0.3333333333333333,\"#9c179e\"],[0.4444444444444444,\"#bd3786\"],[0.5555555555555556,\"#d8576b\"],[0.6666666666666666,\"#ed7953\"],[0.7777777777777778,\"#fb9f3a\"],[0.8888888888888888,\"#fdca26\"],[1.0,\"#f0f921\"]],\"diverging\":[[0,\"#8e0152\"],[0.1,\"#c51b7d\"],[0.2,\"#de77ae\"],[0.3,\"#f1b6da\"],[0.4,\"#fde0ef\"],[0.5,\"#f7f7f7\"],[0.6,\"#e6f5d0\"],[0.7,\"#b8e186\"],[0.8,\"#7fbc41\"],[0.9,\"#4d9221\"],[1,\"#276419\"]]},\"xaxis\":{\"gridcolor\":\"white\",\"linecolor\":\"white\",\"ticks\":\"\",\"title\":{\"standoff\":15},\"zerolinecolor\":\"white\",\"automargin\":true,\"zerolinewidth\":2},\"yaxis\":{\"gridcolor\":\"white\",\"linecolor\":\"white\",\"ticks\":\"\",\"title\":{\"standoff\":15},\"zerolinecolor\":\"white\",\"automargin\":true,\"zerolinewidth\":2},\"scene\":{\"xaxis\":{\"backgroundcolor\":\"#E5ECF6\",\"gridcolor\":\"white\",\"linecolor\":\"white\",\"showbackground\":true,\"ticks\":\"\",\"zerolinecolor\":\"white\",\"gridwidth\":2},\"yaxis\":{\"backgroundcolor\":\"#E5ECF6\",\"gridcolor\":\"white\",\"linecolor\":\"white\",\"showbackground\":true,\"ticks\":\"\",\"zerolinecolor\":\"white\",\"gridwidth\":2},\"zaxis\":{\"backgroundcolor\":\"#E5ECF6\",\"gridcolor\":\"white\",\"linecolor\":\"white\",\"showbackground\":true,\"ticks\":\"\",\"zerolinecolor\":\"white\",\"gridwidth\":2}},\"shapedefaults\":{\"line\":{\"color\":\"#2a3f5f\"}},\"annotationdefaults\":{\"arrowcolor\":\"#2a3f5f\",\"arrowhead\":0,\"arrowwidth\":1},\"geo\":{\"bgcolor\":\"white\",\"landcolor\":\"#E5ECF6\",\"subunitcolor\":\"white\",\"showland\":true,\"showlakes\":true,\"lakecolor\":\"white\"},\"title\":{\"x\":0.05},\"mapbox\":{\"style\":\"light\"}}},\"scene\":{\"xaxis\":{\"nticks\":4,\"range\":[-1,1]},\"yaxis\":{\"nticks\":4,\"range\":[-1,1]},\"zaxis\":{\"nticks\":4,\"range\":[-1,2]}}},                        {\"responsive\": true}                    ).then(function(){\n",
       "                            \n",
       "var gd = document.getElementById('283b0470-7293-41a8-aac3-adc0539b7b8d');\n",
       "var x = new MutationObserver(function (mutations, observer) {{\n",
       "        var display = window.getComputedStyle(gd).display;\n",
       "        if (!display || display === 'none') {{\n",
       "            console.log([gd, 'removed!']);\n",
       "            Plotly.purge(gd);\n",
       "            observer.disconnect();\n",
       "        }}\n",
       "}});\n",
       "\n",
       "// Listen for the removal of the full notebook cells\n",
       "var notebookContainer = gd.closest('#notebook-container');\n",
       "if (notebookContainer) {{\n",
       "    x.observe(notebookContainer, {childList: true});\n",
       "}}\n",
       "\n",
       "// Listen for the clearing of the current output cell\n",
       "var outputEl = gd.closest('.output');\n",
       "if (outputEl) {{\n",
       "    x.observe(outputEl, {childList: true});\n",
       "}}\n",
       "\n",
       "                        })                };                });            </script>        </div>"
      ]
     },
     "metadata": {},
     "output_type": "display_data"
    }
   ],
   "source": [
    "# Plot in 3D\n",
    "points = go.Scatter3d(x=X[:, 0],y=X[:, 1],z=X[:, 2], mode='markers', marker=dict(size=8, color = y, colorscale='viridis',opacity=1.0))\n",
    "plane = plot_svc_3D(clf)\n",
    "support_vectors = plot_svc_support_vectors(clf)\n",
    "decision_boundary = plot_svc_decision_boundary(clf)\n",
    "fig = go.Figure(data=[plane, points, support_vectors[0], support_vectors[1], decision_boundary])\n",
    "fig.update_layout(\n",
    "     scene = dict(\n",
    "        xaxis = dict(nticks=4, range=[-1,1]),\n",
    "        yaxis = dict(nticks=4, range=[-1,1]),\n",
    "        zaxis = dict(nticks=4, range=[-1,2])))\n",
    "fig.show()"
   ]
  },
  {
   "cell_type": "markdown",
   "metadata": {},
   "source": [
    "We now see that the model is somewhere in-between the 2 classes, meaning that our fit has the biggest margin. As  an exercise, you can try modifying previous code to get points that overlap and classify using a soft-margin SVM (just lower the $C$ parameter).  \n",
    "We have out 2 margins with <span style=\"color:pink\">pink</span>  \n",
    "Our model is <span style=\"color:lightblue\">light blue</span>  \n",
    "Our decision boundary is <span style=\"color:yellow\">yellow</span>  \n",
    "\n",
    "You can play with the visualizations if you need to. The best way to understand the concept deeply is modify bits at a time and see how it affects the model (or the visualization, although that's not our primary goal)."
   ]
  },
  {
   "cell_type": "markdown",
   "metadata": {},
   "source": [
    "Up next: [SVM Math](svmMathBehind.ipynb)"
   ]
  }
 ],
 "metadata": {
  "kernelspec": {
   "display_name": "Python 3.9.13 ('commonMLalgs')",
   "language": "python",
   "name": "python3"
  },
  "language_info": {
   "codemirror_mode": {
    "name": "ipython",
    "version": 3
   },
   "file_extension": ".py",
   "mimetype": "text/x-python",
   "name": "python",
   "nbconvert_exporter": "python",
   "pygments_lexer": "ipython3",
   "version": "3.9.13 (main, Oct 13 2022, 21:15:33) \n[GCC 11.2.0]"
  },
  "orig_nbformat": 4,
  "vscode": {
   "interpreter": {
    "hash": "500cef33aa921c87c63c1753d003ac956bc931603b9c07a450ae237ef80e36a0"
   }
  }
 },
 "nbformat": 4,
 "nbformat_minor": 2
}
