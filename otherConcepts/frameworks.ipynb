{
 "cells": [
  {
   "attachments": {},
   "cell_type": "markdown",
   "metadata": {},
   "source": [
    "# Frameworks & Libraries \n",
    "\n",
    "These 2 names will be used interchangeably, since the differences matter little when thinking solely about what a tool can achieve.  \n",
    "\n",
    "When thinking about ML libraries, there are a few things that come to mind:\n",
    "- Scikit-learn: it's a popular choice for simple tasks; I would say it's the best for studying / beginners; the downfall comes from the lack of GPU support, limited customizability and the fact that its clases are not even the most efficient out there (example scikit boosting vs XGBoost library, which is faster)\n",
    "- Tensorflow + Keras (higher-level addon to TF&others): a really popular choice for network-based models; it allows for customizability and is very powerful, especially since GPU support is available (keep in mind that Linux is the easiest to install CUDA on); people prefer it for its big community, support and its wide availability (many platforms, including mobile), although it has a steeper learning curve; Keras helps with this by providing multiple high-level tools to make the usage easier; it's supported by Google.\n",
    "- PyTorch: it's newer than Tensorflow, and it's getting more and more popular; supported by Meta (previously Facebook), even researchers prefer it for its flexibility and ease of use; it seems to be faster for smaller-scale projects, but isn't available on as many platforms as TF; it's easier to use than TF and does a lot of work in the background to ensure efficient use of hardware resources\n",
    "\n"
   ]
  },
  {
   "attachments": {},
   "cell_type": "markdown",
   "metadata": {},
   "source": [
    "# Data usage\n",
    "\n",
    "Of course, the processing tool means nothing when there's no data to process. We need tools to load our data and to manipulate it.  \n",
    "There are a few libraries that are used for this:\n",
    "- Pandas: it's a library that allows for data loading, manipulation and analysis; it's very popular (I would say the most popular) and really powerful, when combined with visualization tools; it's also very easy to use, since a few commands allow for loading structured data from a variety of sources.\n",
    "- Numpy: it's a library that helps with doing math on data; a lot of other libraries use it as a base; you probably won't use it directly, but there is a great chance that any other framework you use will have Numpy running behind the scenes.\n",
    "- Matplotlib: it's a library that allows for data visualization; it's very popular and is used for data cleaning, data analysis, data visualization, and machine learning; it's very powerful and allows for a lot of customizability; it's also very easy to use, and it's very popular\n",
    "- Seaborn: it's a library that allows for data visualization; it's very popular and is used for data cleaning, data analysis, data visualization, and machine learning; it's very powerful and allows for a lot of customizability; it's also very easy to use, and it's very popular\n",
    "\n",
    "\n",
    "- Scikit-image: it's a library that allows for image processing; it integrates well with Pandas, Numpy and Scikit-learn, so keep it in mind when dealing with images;\n",
    "- Scikit-learn: we've mentioned it above for ML algorithms; it also has various tools for data manipulation and analysis; it's a comprehensive tool that offers a lot of functionality."
   ]
  }
 ],
 "metadata": {
  "kernelspec": {
   "display_name": "Python 3",
   "language": "python",
   "name": "python3"
  },
  "language_info": {
   "name": "python",
   "version": "3.8.10"
  },
  "orig_nbformat": 4,
  "vscode": {
   "interpreter": {
    "hash": "916dbcbb3f70747c44a77c7bcd40155683ae19c65e1c03b4aa3499c5328201f1"
   }
  }
 },
 "nbformat": 4,
 "nbformat_minor": 2
}
